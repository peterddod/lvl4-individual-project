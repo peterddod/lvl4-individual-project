{
 "cells": [
  {
   "cell_type": "markdown",
   "metadata": {},
   "source": [
    "# ELM Model Testing\n",
    "Note book for playing about with different ELM models. The **NIST** dataset can currently be found in `data`.\n",
    "\n",
    "### Imports, Helper Functions etc."
   ]
  },
  {
   "cell_type": "code",
   "execution_count": 1,
   "metadata": {},
   "outputs": [],
   "source": [
    "# Imports etc.\n",
    "import sys\n",
    "import time as t\n",
    "import numpy as np\n",
    "import scipy as sp\n",
    "import pylab as plt\n",
    "import pandas as pd\n",
    "from sklearn.datasets import load_digits\n",
    "from sklearn.metrics import classification_report\n",
    "from sklearn.metrics import confusion_matrix\n",
    "from sklearn.metrics import precision_score\n",
    "from sklearn.metrics import recall_score\n",
    "from sklearn.metrics import accuracy_score\n",
    "from sklearn.metrics import fbeta_score\n",
    "from sklearn.dummy import DummyClassifier\n",
    "from sklearn.model_selection import train_test_split\n",
    "\n",
    "from keras.datasets import mnist\n",
    "\n",
    "digits = load_digits()"
   ]
  },
  {
   "cell_type": "markdown",
   "metadata": {},
   "source": []
  },
  {
   "cell_type": "code",
   "execution_count": 2,
   "metadata": {},
   "outputs": [],
   "source": [
    "def evaluation_summary(description, predictions, true_labels):\n",
    "    print(\"Evaluation for: \" + description)\n",
    "    precision = precision_score(predictions, true_labels, average=\"macro\")\n",
    "    recall = recall_score(predictions, true_labels, average=\"macro\")\n",
    "    accuracy = accuracy_score(predictions, true_labels)\n",
    "    f1 = fbeta_score(predictions, true_labels, 1, average=\"macro\")\n",
    "    print(\"Classifier '%s' has Acc=%0.3f P=%0.3f R=%0.3f F1=%0.3f\" % (description,accuracy,precision,recall,f1))\n",
    "    print(classification_report(predictions, true_labels, digits=3))\n",
    "    print('\\nConfusion matrix:\\n',confusion_matrix(true_labels, predictions))"
   ]
  },
  {
   "cell_type": "code",
   "execution_count": 3,
   "metadata": {},
   "outputs": [],
   "source": [
    "def scale(X):\n",
    "    return (X - X.mean())/(X.std()*10)"
   ]
  },
  {
   "cell_type": "markdown",
   "metadata": {},
   "source": [
    "### Pre-process Data"
   ]
  },
  {
   "cell_type": "code",
   "execution_count": 11,
   "metadata": {},
   "outputs": [],
   "source": [
    "# Split and organise data\n",
    "split = len(digits.images)*80//100\n",
    "\n",
    "images = np.array(digits.data)\n",
    "targets = digits.target\n",
    "\n",
    "x = np.array(digits.data)\n",
    "y = np.zeros([1797,10])\n",
    "\n",
    "for i in range(len(y)):\n",
    "    for j in range(len(y[i])):\n",
    "        if j == targets[i]:\n",
    "            y[i,j] = 1\n",
    "        else:\n",
    "            y[i,j] = 0.001\n",
    "\n",
    "x = (x - x.mean())/(x.std()*10)\n",
    "            \n",
    "data = {\n",
    "    'train_x': x[:split],\n",
    "    'train_y': y[:split],\n",
    "    'test_x': x[split:],\n",
    "    'test_y': targets[split:],\n",
    "}"
   ]
  },
  {
   "cell_type": "markdown",
   "metadata": {},
   "source": [
    "## Baseline Dummy Model\n",
    "Sci-kit learn random dummy model."
   ]
  },
  {
   "cell_type": "code",
   "execution_count": 6,
   "metadata": {},
   "outputs": [
    {
     "name": "stderr",
     "output_type": "stream",
     "text": [
      "/home/peter/anaconda3/lib/python3.8/site-packages/sklearn/dummy.py:131: FutureWarning: The default value of strategy will change from stratified to prior in 0.24.\n",
      "  warnings.warn(\"The default value of strategy will change from \"\n"
     ]
    },
    {
     "data": {
      "text/plain": [
       "DummyClassifier()"
      ]
     },
     "execution_count": 6,
     "metadata": {},
     "output_type": "execute_result"
    }
   ],
   "source": [
    "dummy = DummyClassifier()\n",
    "\n",
    "dummy.fit(data['train_x'], data['train_y'])"
   ]
  },
  {
   "cell_type": "code",
   "execution_count": 7,
   "metadata": {},
   "outputs": [
    {
     "name": "stdout",
     "output_type": "stream",
     "text": [
      "Evaluation for: Dummy\n",
      "Classifier 'Dummy' has Acc=0.103 P=0.104 R=0.112 F1=0.088\n",
      "              precision    recall  f1-score   support\n",
      "\n",
      "         0.0      0.486     0.101     0.167       168\n",
      "         1.0      0.056     0.067     0.061        30\n",
      "         2.0      0.029     0.031     0.030        32\n",
      "         3.0      0.054     0.083     0.066        24\n",
      "         4.0      0.108     0.235     0.148        17\n",
      "         5.0      0.054     0.100     0.070        20\n",
      "         6.0      0.081     0.136     0.102        22\n",
      "         7.0      0.056     0.118     0.075        17\n",
      "         8.0      0.091     0.158     0.115        19\n",
      "         9.0      0.027     0.091     0.042        11\n",
      "\n",
      "    accuracy                          0.103       360\n",
      "   macro avg      0.104     0.112     0.088       360\n",
      "weighted avg      0.259     0.103     0.118       360\n",
      "\n",
      "\n",
      "Confusion matrix:\n",
      " [[17  2  4  5  1  1  3  0  1  1]\n",
      " [16  2  3  2  2  4  2  3  2  0]\n",
      " [20  2  1  1  4  0  2  0  2  3]\n",
      " [15  3  7  2  2  0  1  4  2  1]\n",
      " [15  4  4  1  4  5  1  1  0  2]\n",
      " [15  3  3  7  0  2  0  1  5  1]\n",
      " [21  5  1  1  2  1  3  2  0  1]\n",
      " [17  5  2  2  1  3  2  2  1  1]\n",
      " [13  2  4  2  1  3  2  3  3  0]\n",
      " [19  2  3  1  0  1  6  1  3  1]]\n"
     ]
    },
    {
     "name": "stderr",
     "output_type": "stream",
     "text": [
      "/home/peter/anaconda3/lib/python3.8/site-packages/sklearn/utils/validation.py:67: FutureWarning: Pass beta=1 as keyword args. From version 0.25 passing these as positional arguments will result in an error\n",
      "  warnings.warn(\"Pass {} as keyword args. From version 0.25 \"\n"
     ]
    }
   ],
   "source": [
    "data['test_y_pred_dummy'] = np.zeros(360)\n",
    "pred = dummy.predict(data['test_x'])\n",
    "\n",
    "for i in range(len(pred)):\n",
    "    data['test_y_pred_dummy'][i] = np.where(pred[i] == np.max(pred[i]))[0][0]\n",
    "\n",
    "evaluation_summary('Dummy', data['test_y_pred_dummy'], data['test_y'])"
   ]
  },
  {
   "cell_type": "markdown",
   "metadata": {},
   "source": [
    "## Vanilla ELM Model\n",
    "A rather bogstandard ELM I found online."
   ]
  },
  {
   "cell_type": "code",
   "execution_count": 8,
   "metadata": {},
   "outputs": [],
   "source": [
    "class ELM(object):  \n",
    "    \n",
    "    def __init__(self, inputSize, outputSize, hiddenSize):\n",
    "        \"\"\"\n",
    "        Initialize weight and bias between input layer and hidden layer\n",
    "        Parameters:\n",
    "        inputSize: int\n",
    "            The number of input layer dimensions or features in the training data\n",
    "        outputSize: int\n",
    "            The number of output layer dimensions\n",
    "        hiddenSize: int\n",
    "            The number of hidden layer dimensions        \n",
    "        \"\"\"    \n",
    "        np.random.seed(2021)\n",
    "        self.inputSize = inputSize\n",
    "        self.outputSize = outputSize\n",
    "        self.hiddenSize = hiddenSize       \n",
    "        \n",
    "        # Initialize random weight with range [-0.5, 0.5]\n",
    "        self.weight = np.matrix(np.random.uniform(-0.5, 0.5, (self.hiddenSize, self.inputSize)))\n",
    "\n",
    "        # Initialize random bias with range [0, 1]\n",
    "        self.bias = np.matrix(np.random.uniform(0, 1, (1, self.hiddenSize)))\n",
    "        \n",
    "        self.H = 0\n",
    "        self.beta = 0\n",
    "\n",
    "    def relu(self, x):\n",
    "        \"\"\"\n",
    "        ReLu activation function\n",
    "        \n",
    "        Parameters:\n",
    "        x: array-like or matrix\n",
    "            The value that the activation output will look for\n",
    "        Returns:      \n",
    "            The results of activation using ReLu function\n",
    "        \"\"\"\n",
    "        return np.maximum(x, 0, x)\n",
    "    \n",
    "    def predict(self, X):\n",
    "        \"\"\"\n",
    "        Predict the results of the training process using test data\n",
    "        Parameters:\n",
    "        X: array-like or matrix\n",
    "            Test data that will be used to determine output using ELM\n",
    "        Returns:\n",
    "            Predicted results or outputs from test data\n",
    "        \"\"\"\n",
    "        X = np.matrix(X)\n",
    "        y = self.relu((X * self.weight.T) + self.bias) * self.beta\n",
    "\n",
    "        return y\n",
    "\n",
    "    def train(self, X, y):\n",
    "        \"\"\"\n",
    "        Extreme Learning Machine training process\n",
    "        Parameters:\n",
    "        X: array-like or matrix\n",
    "            Training data that contains the value of each feature\n",
    "        y: array-like or matrix\n",
    "            Training data that contains the value of the target (class)\n",
    "        Returns:\n",
    "            The results of the training process   \n",
    "        \"\"\"\n",
    "\n",
    "        X = np.matrix(X)\n",
    "        y = np.matrix(y)        \n",
    "        \n",
    "        # Calculate hidden layer output matrix (Hinit)\n",
    "        self.H = (X * self.weight.T) + self.bias\n",
    "\n",
    "        # ReLu activation function\n",
    "        self.H = self.relu(self.H)\n",
    "\n",
    "        # Calculate the Moore-Penrose pseudoinverse matriks        \n",
    "        H_moore_penrose = np.linalg.inv(self.H.T * self.H) * self.H.T\n",
    "\n",
    "        # Calculate the output weight matrix beta\n",
    "        self.beta = H_moore_penrose * y\n",
    "\n",
    "        return self.H * self.beta"
   ]
  },
  {
   "cell_type": "markdown",
   "metadata": {},
   "source": [
    "### Evaluation"
   ]
  },
  {
   "cell_type": "code",
   "execution_count": 9,
   "metadata": {
    "scrolled": false
   },
   "outputs": [],
   "source": [
    "my_elm = ELM(\n",
    "    inputSize=64,\n",
    "    hiddenSize=75,\n",
    "    outputSize=10\n",
    ")\n",
    "\n",
    "result = my_elm.train(data['train_x'], data['train_y'])"
   ]
  },
  {
   "cell_type": "code",
   "execution_count": 10,
   "metadata": {},
   "outputs": [
    {
     "name": "stdout",
     "output_type": "stream",
     "text": [
      "Evaluation for: ELM\n",
      "Classifier 'ELM' has Acc=0.897 P=0.897 R=0.898 F1=0.896\n",
      "              precision    recall  f1-score   support\n",
      "\n",
      "         0.0      1.000     0.972     0.986        36\n",
      "         1.0      0.806     0.853     0.829        34\n",
      "         2.0      0.914     0.941     0.928        34\n",
      "         3.0      0.730     0.818     0.771        33\n",
      "         4.0      0.892     1.000     0.943        33\n",
      "         5.0      0.973     0.857     0.911        42\n",
      "         6.0      0.973     1.000     0.986        36\n",
      "         7.0      0.972     0.897     0.933        39\n",
      "         8.0      0.818     0.818     0.818        33\n",
      "         9.0      0.892     0.825     0.857        40\n",
      "\n",
      "    accuracy                          0.897       360\n",
      "   macro avg      0.897     0.898     0.896       360\n",
      "weighted avg      0.901     0.897     0.898       360\n",
      "\n",
      "\n",
      "Confusion matrix:\n",
      " [[35  0  0  0  0  0  0  0  0  0]\n",
      " [ 0 29  0  1  0  0  0  0  2  4]\n",
      " [ 1  0 32  2  0  0  0  0  0  0]\n",
      " [ 0  2  2 27  0  2  0  2  2  0]\n",
      " [ 0  1  0  0 33  0  0  1  1  1]\n",
      " [ 0  0  0  1  0 36  0  0  0  0]\n",
      " [ 0  1  0  0  0  0 36  0  0  0]\n",
      " [ 0  0  0  0  0  0  0 35  1  0]\n",
      " [ 0  1  0  1  0  2  0  0 27  2]\n",
      " [ 0  0  0  1  0  2  0  1  0 33]]\n"
     ]
    }
   ],
   "source": [
    "pred = my_elm.predict(data['test_x'])\n",
    "data['test_y_pred_elm'] = np.zeros(360)\n",
    "\n",
    "for i in range(len(pred)):\n",
    "    data['test_y_pred_elm'][i] = np.where(pred[i] == np.max(pred[i]))[1]\n",
    "\n",
    "evaluation_summary('ELM', data['test_y_pred_elm'], data['test_y'])"
   ]
  },
  {
   "cell_type": "markdown",
   "metadata": {},
   "source": [
    "### Additive ELM\n",
    "\n",
    "#### Proposal\n",
    "An ELM that grows as more data is added. The idea is in tandum with the fact that neural networks (NNs) used for difficult problems require **a)** a larger amount of hidden layers (>3 for a deep NN) to be able to model the complexity of the problem and **b)** a large amount of data to perform training with. There is some sort of relationship between data required to train a model and the number of hidden layers, as they both grow with each other.\n",
    "\n",
    "The proposed ELM would accept data in chunks. Say we had a dataset of 50,000 images, this could be split into five 10,000 image chunks. This parameter would be set in accordance to the device used, so that if this would end up being trained on a phone for instance, the chunks could be set smaller, increasing the computation time but reducing the computational complexity. \n",
    "\n",
    "The ELM would then do one of two things with each chunk:\n",
    "1. If it is the first chunk, or if the accuracy (or some other metric TBD) is above a certain threshold, then the data is used to initally/further train the network\n",
    "2. If the metric used is below said threshold, then the data is instead used to add a new layer to the network to help improve the performance of the network\n",
    "\n",
    "This creates a process that isn't truly non-iterative, but would yield training times quicker than classic back propagation. It is also hoped that generalisation and real world performance would be improved due to the network being trained on a variety of different subsets of the data.\n",
    "\n",
    "#### 1. Initial and Further Training\n",
    "The network is initially trained the same as a classic ELM. When a new chunk is entered, the same random weights are used in a parallel network which trains the output weights on the new chunk. These output weights are then weighted in proportion with the fraction of training data it's had compared to the ELM, and combined with the ELMs weights. \n",
    "\n",
    "A use case for this might be having pre-trained models deployed on a phone, and using smaller sets of data collected on the phone, further train and hone the model using the described non-iterative additive method. A benefit of this could be the model becoming a tighter fit for its specific use case, starting from a more generalised pre-trained model.\n",
    "\n",
    "#### 2. Adding Layers\n",
    "This would work by having all the weights and biases from the network frozen, and adding a new hidden layer imbetween the output and the single hidden layer. I'm not sure how biases would be determined in this layer,or whether biases would just be left out in these added layers. More thought is needed for this section.\n",
    "\n",
    "#### To Do\n",
    "* Do comparison of weights between two AELMs with the same random weights\n",
    "* "
   ]
  },
  {
   "cell_type": "code",
   "execution_count": 13,
   "metadata": {},
   "outputs": [],
   "source": [
    "def formatMatrix(m):\n",
    "    s = \"\"\n",
    "    for i in m:\n",
    "        for j in i:\n",
    "            for k in j.tolist()[0]:\n",
    "                s += str(k) + \" \"\n",
    "            s += '\\n'\n",
    "        s += '\\n'\n",
    "    print(s)\n",
    "    return s"
   ]
  },
  {
   "cell_type": "code",
   "execution_count": 14,
   "metadata": {},
   "outputs": [],
   "source": [
    "mydict = {}"
   ]
  },
  {
   "cell_type": "code",
   "execution_count": 15,
   "metadata": {
    "scrolled": false
   },
   "outputs": [
    {
     "name": "stdout",
     "output_type": "stream",
     "text": [
      "Evaluation for: ELM\n",
      "Classifier 'ELM' has Acc=0.786 P=0.785 R=0.788 F1=0.780\n",
      "              precision    recall  f1-score   support\n",
      "\n",
      "         0.0      1.000     0.700     0.824        50\n",
      "         1.0      0.667     0.667     0.667        36\n",
      "         2.0      0.771     0.844     0.806        32\n",
      "         3.0      0.730     0.750     0.740        36\n",
      "         4.0      0.784     0.879     0.829        33\n",
      "         5.0      0.919     0.829     0.872        41\n",
      "         6.0      0.946     0.972     0.959        36\n",
      "         7.0      0.917     0.805     0.857        41\n",
      "         8.0      0.545     0.783     0.643        23\n",
      "         9.0      0.568     0.656     0.609        32\n",
      "\n",
      "    accuracy                          0.786       360\n",
      "   macro avg      0.785     0.788     0.780       360\n",
      "weighted avg      0.808     0.786     0.791       360\n",
      "\n",
      "\n",
      "Confusion matrix:\n",
      " [[35  0  0  0  0  0  0  0  0  0]\n",
      " [ 3 24  2  1  0  0  0  0  4  2]\n",
      " [ 4  2 27  1  0  0  0  0  0  1]\n",
      " [ 1  2  2 27  0  2  0  3  0  0]\n",
      " [ 1  0  1  0 29  1  0  5  0  0]\n",
      " [ 1  0  0  0  0 34  0  0  0  2]\n",
      " [ 2  0  0  0  0  0 35  0  0  0]\n",
      " [ 0  0  0  0  3  0  0 33  0  0]\n",
      " [ 0  5  0  2  0  1  1  0 18  6]\n",
      " [ 3  3  0  5  1  3  0  0  1 21]]\n"
     ]
    }
   ],
   "source": [
    "my_aelm = AELM(\n",
    "    inputSize=64,\n",
    "    hiddenSize=20, \n",
    "    outputSize=10,\n",
    ")\n",
    "\n",
    "split = len(data['train_x'])*56//100\n",
    "\n",
    "train_data = [\n",
    "    (data['train_x'][:split], data['train_y'][:split]),\n",
    "    (data['train_x'][split:], data['train_y'][split:]),\n",
    "]\n",
    "\n",
    "result = my_aelm.train(train_data[1][0], train_data[1][1])\n",
    "result = my_aelm.train(train_data[0][0], train_data[0][1])\n",
    "\n",
    "pred = my_aelm.predict(data['test_x'])\n",
    "data['test_y_pred_aelm'] = np.zeros(360)\n",
    "\n",
    "for i in range(5,len(pred)):\n",
    "    data['test_y_pred_aelm'][i] = np.where(pred[i] == np.max(pred[i]))[1]\n",
    "# with open('output_weights_2.txt', 'w') as f:\n",
    "#     f.write(formatMatrix(my_aelm.weight))\n",
    "    \n",
    "    \n",
    "# mydict[3]=my_aelm.beta\n",
    "\n",
    "evaluation_summary('ELM', data['test_y_pred_aelm'], data['test_y'])"
   ]
  },
  {
   "cell_type": "code",
   "execution_count": 9,
   "metadata": {},
   "outputs": [],
   "source": [
    "(train_X, train_y), (test_X, test_y) = mnist.load_data()\n",
    "train_X = scale(np.reshape(train_X.ravel(), (-1,784)))\n",
    "test_X = scale(np.reshape(test_X.ravel(), (-1,784)))\n",
    "\n",
    "# y = np.zeros([10000,10])\n",
    "\n",
    "# for i in range(len(y)):\n",
    "#     for j in range(len(y[i])):\n",
    "#         if j == test_y[i]:\n",
    "#             y[i,j] = 1\n",
    "#         else:\n",
    "#             y[i,j] = 0.001\n",
    "            \n",
    "# test_y=y\n",
    "\n",
    "y = np.zeros([60000,10])\n",
    "\n",
    "for i in range(len(y)):\n",
    "    for j in range(len(y[i])):\n",
    "        if j == train_y[i]:\n",
    "            y[i,j] = 1\n",
    "        else:\n",
    "            y[i,j] = 0.001\n",
    "            \n",
    "train_y=y\n"
   ]
  },
  {
   "cell_type": "code",
   "execution_count": 4,
   "metadata": {},
   "outputs": [
    {
     "ename": "NameError",
     "evalue": "name 'AELM' is not defined",
     "output_type": "error",
     "traceback": [
      "\u001b[0;31m---------------------------------------------------------------------------\u001b[0m",
      "\u001b[0;31mNameError\u001b[0m                                 Traceback (most recent call last)",
      "\u001b[0;32m<ipython-input-4-dee0e3037032>\u001b[0m in \u001b[0;36m<module>\u001b[0;34m\u001b[0m\n\u001b[0;32m----> 1\u001b[0;31m my_aelm_2 = AELM(\n\u001b[0m\u001b[1;32m      2\u001b[0m     \u001b[0minputSize\u001b[0m\u001b[0;34m=\u001b[0m\u001b[0;36m784\u001b[0m\u001b[0;34m,\u001b[0m\u001b[0;34m\u001b[0m\u001b[0;34m\u001b[0m\u001b[0m\n\u001b[1;32m      3\u001b[0m     \u001b[0mhiddenSize\u001b[0m\u001b[0;34m=\u001b[0m\u001b[0;36m1000\u001b[0m\u001b[0;34m,\u001b[0m\u001b[0;34m\u001b[0m\u001b[0;34m\u001b[0m\u001b[0m\n\u001b[1;32m      4\u001b[0m     \u001b[0moutputSize\u001b[0m\u001b[0;34m=\u001b[0m\u001b[0;36m10\u001b[0m\u001b[0;34m,\u001b[0m\u001b[0;34m\u001b[0m\u001b[0;34m\u001b[0m\u001b[0m\n\u001b[1;32m      5\u001b[0m )\n",
      "\u001b[0;31mNameError\u001b[0m: name 'AELM' is not defined"
     ]
    }
   ],
   "source": [
    "my_aelm_2 = AELM(\n",
    "    inputSize=784,\n",
    "    hiddenSize=1000, \n",
    "    outputSize=10,\n",
    ")\n",
    "\n",
    "split = len(train_X)*60//100\n",
    "\n",
    "train_X1 = train_X[:split]\n",
    "train_y1 = train_y[:split]\n",
    "train_X2 = train_X[split:]\n",
    "train_y2 = train_y[split:]\n",
    "\n",
    "# result = my_aelm_2.train(train_X1, train_y1)\n",
    "# result = my_aelm_2.train(train_X2, train_y2)\n",
    "train_start = t.time()\n",
    "result = my_aelm_2.train(train_X, train_y)\n",
    "train_end = t.time()\n",
    "pred_start = t.time()\n",
    "pred = my_aelm_2.predict(test_X)\n",
    "pred_end = t.time()\n",
    "data['test_y_pred_aelm_2'] = np.zeros(10000)\n",
    "\n",
    "for i in range(len(pred)):\n",
    "    data['test_y_pred_aelm_2'][i] = np.where(pred[i] == np.max(pred[i]))[1]\n",
    "# with open('output_weights_2.txt', 'w') as f:\n",
    "#     f.write(formatMatrix(my_aelm.weight))\n",
    "    \n",
    "    \n",
    "# mydict[3]=my_aelm.beta\n",
    "print(f\"train: {train_end-train_start} \\tpred: {pred_end-pred_start}\")\n",
    "evaluation_summary('ELM', data['test_y_pred_aelm_2'], test_y)"
   ]
  },
  {
   "cell_type": "code",
   "execution_count": 5,
   "metadata": {},
   "outputs": [],
   "source": [
    "def splitdata(x, y, splits=2, first=-1):\n",
    "    length = x.shape[0]\n",
    "    out = []\n",
    "    if first == -1:\n",
    "        splitlen = length // splits\n",
    "        for i in range(splits):\n",
    "            out.append((x[splitlen*i:splitlen*(i+1)], y[splitlen*i:splitlen*(i+1)]))\n",
    "    else:\n",
    "        splits-= 1\n",
    "        split1 = int(length*first)\n",
    "        splitn = (length-split1)//splits\n",
    "        out.append((x[0:split1], y[0:split1]))\n",
    "        for i in range(splits):\n",
    "            a = split1+splitn*i\n",
    "            b = split1+splitn*(i+1)\n",
    "            z = (x[a:b], y[a:b])\n",
    "            out.append(z)\n",
    "    return out"
   ]
  },
  {
   "cell_type": "code",
   "execution_count": 25,
   "metadata": {
    "scrolled": false
   },
   "outputs": [
    {
     "name": "stdout",
     "output_type": "stream",
     "text": [
      "10000\n",
      "10000\n"
     ]
    },
    {
     "name": "stderr",
     "output_type": "stream",
     "text": [
      "<ipython-input-24-2590344c7dbd>:72: RuntimeWarning: invalid value encountered in sqrt\n",
      "  beta_processed = np.sqrt(np.square(self.beta) - np.square(beta_instance))\n"
     ]
    },
    {
     "name": "stdout",
     "output_type": "stream",
     "text": [
      "376320112\n"
     ]
    },
    {
     "ename": "ValueError",
     "evalue": "setting an array element with a sequence.",
     "output_type": "error",
     "traceback": [
      "\u001b[0;31m---------------------------------------------------------------------------\u001b[0m",
      "\u001b[0;31mTypeError\u001b[0m                                 Traceback (most recent call last)",
      "\u001b[0;31mTypeError\u001b[0m: only size-1 arrays can be converted to Python scalars",
      "\nThe above exception was the direct cause of the following exception:\n",
      "\u001b[0;31mValueError\u001b[0m                                Traceback (most recent call last)",
      "\u001b[0;32m<ipython-input-25-9c9bfbc51311>\u001b[0m in \u001b[0;36m<module>\u001b[0;34m\u001b[0m\n\u001b[1;32m     27\u001b[0m \u001b[0;34m\u001b[0m\u001b[0m\n\u001b[1;32m     28\u001b[0m \u001b[0;32mfor\u001b[0m \u001b[0mi\u001b[0m \u001b[0;32min\u001b[0m \u001b[0mrange\u001b[0m\u001b[0;34m(\u001b[0m\u001b[0mlen\u001b[0m\u001b[0;34m(\u001b[0m\u001b[0mpred\u001b[0m\u001b[0;34m)\u001b[0m\u001b[0;34m)\u001b[0m\u001b[0;34m:\u001b[0m\u001b[0;34m\u001b[0m\u001b[0;34m\u001b[0m\u001b[0m\n\u001b[0;32m---> 29\u001b[0;31m     \u001b[0mdata\u001b[0m\u001b[0;34m[\u001b[0m\u001b[0;34m'test_y_pred_aelm_3'\u001b[0m\u001b[0;34m]\u001b[0m\u001b[0;34m[\u001b[0m\u001b[0mi\u001b[0m\u001b[0;34m]\u001b[0m \u001b[0;34m=\u001b[0m \u001b[0mnp\u001b[0m\u001b[0;34m.\u001b[0m\u001b[0mwhere\u001b[0m\u001b[0;34m(\u001b[0m\u001b[0mpred\u001b[0m\u001b[0;34m[\u001b[0m\u001b[0mi\u001b[0m\u001b[0;34m]\u001b[0m \u001b[0;34m==\u001b[0m \u001b[0mnp\u001b[0m\u001b[0;34m.\u001b[0m\u001b[0mmax\u001b[0m\u001b[0;34m(\u001b[0m\u001b[0mpred\u001b[0m\u001b[0;34m[\u001b[0m\u001b[0mi\u001b[0m\u001b[0;34m]\u001b[0m\u001b[0;34m)\u001b[0m\u001b[0;34m)\u001b[0m\u001b[0;34m[\u001b[0m\u001b[0;36m1\u001b[0m\u001b[0;34m]\u001b[0m\u001b[0;34m\u001b[0m\u001b[0;34m\u001b[0m\u001b[0m\n\u001b[0m\u001b[1;32m     30\u001b[0m \u001b[0;34m\u001b[0m\u001b[0m\n\u001b[1;32m     31\u001b[0m \u001b[0mprint\u001b[0m\u001b[0;34m(\u001b[0m\u001b[0;34mf\"train: {train_end-train_start} \\tpred: {pred_end-pred_start}\"\u001b[0m\u001b[0;34m)\u001b[0m\u001b[0;34m\u001b[0m\u001b[0;34m\u001b[0m\u001b[0m\n",
      "\u001b[0;31mValueError\u001b[0m: setting an array element with a sequence."
     ]
    }
   ],
   "source": [
    "my_aelm_3 = AELM(\n",
    "    inputSize=784,\n",
    "    hiddenSize=1000, \n",
    "    outputSize=10,\n",
    ")\n",
    "\n",
    "split_data = splitdata(train_X, train_y, 6)\n",
    "\n",
    "print(len(split_data[0][1]))\n",
    "print(len(split_data[1][1]))\n",
    "\n",
    "train_start = t.time()\n",
    "j = 0\n",
    "for i in split_data:\n",
    "    result = my_aelm_3.train(i[0],i[1])\n",
    "    j+=1\n",
    "    if j==0:\n",
    "        break\n",
    "train_end = t.time()\n",
    "print(sys.getsizeof(train_X))\n",
    "\n",
    "# result = my_aelm_3.train(train_X, train_y)\n",
    "pred_start = t.time()\n",
    "pred = my_aelm_3.predict(test_X)\n",
    "pred_end = t.time()\n",
    "data['test_y_pred_aelm_3'] = np.zeros(10000)\n",
    "\n",
    "for i in range(len(pred)):\n",
    "    data['test_y_pred_aelm_3'][i] = np.where(pred[i] == np.max(pred[i]))[1]\n",
    "\n",
    "print(f\"train: {train_end-train_start} \\tpred: {pred_end-pred_start}\")\n",
    "evaluation_summary('ELM', data['test_y_pred_aelm_3'], test_y)"
   ]
  },
  {
   "cell_type": "code",
   "execution_count": 24,
   "metadata": {},
   "outputs": [],
   "source": [
    "# The 1. Initial and Further Training section of this \n",
    "class AELM(object):  \n",
    "    \n",
    "    def __init__(self, inputSize, outputSize, hiddenSize):\n",
    "        \"\"\"\n",
    "        Initialize weight and bias between input layer and hidden layer\n",
    "        Parameters:\n",
    "        inputSize: int\n",
    "            The number of input layer dimensions or features in the training data\n",
    "        outputSize: int\n",
    "            The number of output layer dimensions\n",
    "        hiddenSize: int\n",
    "            The number of hidden layer dimensions        \n",
    "        \"\"\"    \n",
    "\n",
    "        np.random.seed(202020) # 2021\n",
    "        \n",
    "        self.trainingSize = 0\n",
    "        \n",
    "        self.inputSize = inputSize\n",
    "        self.outputSize = outputSize\n",
    "        self.hiddenSize = hiddenSize\n",
    "        \n",
    "        # Initialize random weight with range [-0.5, 0.5]\n",
    "        self.weight = np.matrix(np.random.uniform(-0.5, 0.5, (self.hiddenSize, self.inputSize)))\n",
    "\n",
    "        # Initialize random bias with range [0, 1]\n",
    "        self.bias = np.matrix(np.random.uniform(0, 1, (1, self.hiddenSize)))\n",
    "        \n",
    "        self.H = 0\n",
    "        self.beta = 0\n",
    "\n",
    "    # relu activation function\n",
    "    def relu(self, x):\n",
    "        return np.maximum(x, 0, x)\n",
    "    \n",
    "    # make predictions on model\n",
    "    def predict(self, X):\n",
    "#         X = np.matrix(X)\n",
    "        y = self.relu((X * self.weight.T) + self.bias) * self.beta\n",
    "        \n",
    "        return y\n",
    "    \n",
    "    # turn beta into adjustment vector\n",
    "    def mean_square_error(self, x1, x2):\n",
    "        return np.mean(np.square(x1-x2), axis=-1)\n",
    "\n",
    "    # train initially, then improve upon weights with new data\n",
    "    def train(self, X, y, weight=-1):\n",
    "#         X = np.matrix(X)\n",
    "        y = np.matrix(y)        \n",
    "\n",
    "        # Calculate hidden layer output matrix (Hinit)\n",
    "        self.H = (X * self.weight.T) + self.bias\n",
    "\n",
    "        # ReLu activation function\n",
    "        self.H = self.relu(self.H)\n",
    "\n",
    "        # Calculate the Moore-Penrose pseudoinverse matriks        \n",
    "        H_moore_penrose = np.linalg.inv(self.H.T * self.H) * self.H.T\n",
    "\n",
    "        # Calculate the output weight matrix beta\n",
    "        beta_instance = H_moore_penrose * y\n",
    "        \n",
    "        \n",
    "        if self.trainingSize == 0:  # initial training case\n",
    "            self.trainingSize += X.shape[0]\n",
    "            self.beta = beta_instance\n",
    "            \n",
    "        else:  # further training case\n",
    "            self.trainingSize += X.shape[0]\n",
    "            beta_processed = np.square(self.beta) - np.square(beta_instance)\n",
    "#             beta_processed = np.sqrt(np.square(self.beta) - np.square(beta_instance))\n",
    "            if weight==-1:\n",
    "#             beta_processed[abs(beta_processed)<0.01] = 0\n",
    "                self.beta = self.beta - beta_processed*(X.shape[0]/self.trainingSize)\n",
    "            else:\n",
    "                self.beta = self.beta - beta_processed*weight\n",
    "        return self.H * self.beta"
   ]
  },
  {
   "cell_type": "markdown",
   "metadata": {},
   "source": [
    "### Experiment"
   ]
  },
  {
   "cell_type": "code",
   "execution_count": 20,
   "metadata": {},
   "outputs": [],
   "source": [
    "def get_data(i):\n",
    "    my_aelm_3 = AELM(\n",
    "        inputSize=784,\n",
    "        hiddenSize=1000, \n",
    "        outputSize=10,\n",
    "    )\n",
    "\n",
    "    split_data = splitdata(train_X, train_y, i)\n",
    "\n",
    "    train_start = t.time()\n",
    "    j = 0\n",
    "    for i in split_data:\n",
    "        result = my_aelm_3.train(i[0],i[1])\n",
    "        j+=1\n",
    "        if j==0:\n",
    "            break\n",
    "    train_end = t.time()\n",
    "\n",
    "    pred_start = t.time()\n",
    "    pred = my_aelm_3.predict(test_X)\n",
    "    pred_end = t.time()\n",
    "    data['test_y_pred_aelm_3'] = np.zeros(10000)\n",
    "\n",
    "    for i in range(len(pred)):\n",
    "        data['test_y_pred_aelm_3'][i] = np.where(pred[i] == np.max(pred[i]))[1]\n",
    "\n",
    "    accuracy = accuracy_score(data['test_y_pred_aelm_3'], test_y)\n",
    "    f1 = fbeta_score(data['test_y_pred_aelm_3'], test_y, beta=1, average=\"macro\")\n",
    "    \n",
    "    return accuracy, f1, train_end-train_start, pred_end-pred_start"
   ]
  },
  {
   "cell_type": "code",
   "execution_count": 21,
   "metadata": {},
   "outputs": [],
   "source": [
    "l_acc = []\n",
    "l_f1 = []\n",
    "l_tt = []\n",
    "l_pt = []\n",
    "\n",
    "for i in range(30):\n",
    "    acc, f1, tt, pt = get_data(i+1)\n",
    "    l_acc.append(acc)\n",
    "    l_f1.append(f1)\n",
    "    l_tt.append(tt)\n",
    "    l_pt.append(pt)"
   ]
  },
  {
   "cell_type": "code",
   "execution_count": 22,
   "metadata": {},
   "outputs": [
    {
     "data": {
      "text/plain": [
       "<matplotlib.legend.Legend at 0x7f6df00d9490>"
      ]
     },
     "execution_count": 22,
     "metadata": {},
     "output_type": "execute_result"
    },
    {
     "data": {
      "image/png": "[encoded data removed]",
      "text/plain": [
       "<Figure size 432x288 with 1 Axes>"
      ]
     },
     "metadata": {
      "needs_background": "light"
     },
     "output_type": "display_data"
    }
   ],
   "source": [
    "plt.plot(np.arange(1,31), l_f1, color='orange', alpha=0.8, label='f1')\n",
    "plt.plot(np.arange(1,31), l_acc, color='teal', alpha=0.8, label='acc')\n",
    "plt.xlabel('# of Splits in Data')\n",
    "plt.ylabel('Score')\n",
    "plt.legend()"
   ]
  },
  {
   "cell_type": "code",
   "execution_count": 23,
   "metadata": {},
   "outputs": [
    {
     "data": {
      "text/plain": [
       "<matplotlib.legend.Legend at 0x7f6defe718e0>"
      ]
     },
     "execution_count": 23,
     "metadata": {},
     "output_type": "execute_result"
    },
    {
     "data": {
      "image/png": "[encoded data removed]",
      "text/plain": [
       "<Figure size 432x288 with 1 Axes>"
      ]
     },
     "metadata": {
      "needs_background": "light"
     },
     "output_type": "display_data"
    }
   ],
   "source": [
    "plt.plot(np.arange(1,31), l_tt, color='orange', alpha=0.8, label='train time')\n",
    "plt.plot(np.arange(1,31), l_pt, color='teal', alpha=0.8, label='test time')\n",
    "plt.xlabel('# of Splits in Data')\n",
    "plt.ylabel('Time')\n",
    "plt.legend()"
   ]
  },
  {
   "cell_type": "markdown",
   "metadata": {},
   "source": [
    "## Twitter Dataset"
   ]
  },
  {
   "cell_type": "code",
   "execution_count": 28,
   "metadata": {},
   "outputs": [],
   "source": [
    "import spacy\n",
    "\n",
    "nlp = spacy.load('en_core_web_sm', disable=['ner'])\n",
    "nlp.remove_pipe('tagger')\n",
    "nlp.remove_pipe('parser')\n",
    "\n",
    "#@Tokenize\n",
    "def spacy_tokenize(string):\n",
    "    tokens = list()\n",
    "    doc = nlp(string)\n",
    "    for token in doc:\n",
    "        tokens.append(token)\n",
    "    return tokens\n",
    "\n",
    "#@Normalize\n",
    "def normalize(tokens):\n",
    "    normalized_tokens = list()\n",
    "    for token in tokens:\n",
    "        normalized = token.text.lower().strip()\n",
    "        if ((token.is_alpha or token.is_digit)):\n",
    "            normalized_tokens.append(normalized)\n",
    "    return normalized_tokens\n",
    "\n",
    "#@Tokenize and normalize\n",
    "def tokenize_normalize(string):\n",
    "    return normalize(spacy_tokenize(string))\n",
    "\n",
    "from sklearn.feature_extraction.text import CountVectorizer\n",
    "from sklearn.feature_extraction.text import TfidfVectorizer\n",
    "\n",
    "one_hot_vectorizer = CountVectorizer(tokenizer = tokenize_normalize, binary=True, max_features=20000)\n",
    "tfidf_vectorizer = TfidfVectorizer()"
   ]
  },
  {
   "cell_type": "code",
   "execution_count": 36,
   "metadata": {
    "scrolled": true
   },
   "outputs": [
    {
     "name": "stdout",
     "output_type": "stream",
     "text": [
      "Index(['tweet_id', 'airline_sentiment', 'airline_sentiment_confidence',\n",
      "       'negativereason', 'negativereason_confidence', 'airline',\n",
      "       'airline_sentiment_gold', 'name', 'negativereason_gold',\n",
      "       'retweet_count', 'text', 'tweet_coord', 'tweet_created',\n",
      "       'tweet_location', 'user_timezone'],\n",
      "      dtype='object')\n"
     ]
    }
   ],
   "source": [
    "# Load dataset\n",
    "twitter_df = pd.read_csv('data/twitter/Tweets.csv')\n",
    "print(twitter_df.columns)\n",
    "\n",
    "twitter_train, twitter_test = train_test_split(twitter_df)"
   ]
  },
  {
   "cell_type": "code",
   "execution_count": 38,
   "metadata": {},
   "outputs": [
    {
     "name": "stderr",
     "output_type": "stream",
     "text": [
      "/home/peter/anaconda3/lib/python3.8/site-packages/spacy/pipeline/lemmatizer.py:211: UserWarning: [W108] The rule-based lemmatizer did not find POS annotation for one or more tokens. Check that your pipeline includes components that assign token.pos, typically 'tagger'+'attribute_ruler' or 'morphologizer'.\n",
      "  warnings.warn(Warnings.W108)\n"
     ]
    },
    {
     "name": "stdout",
     "output_type": "stream",
     "text": [
      "  (0, 12644)\t0.10819565215607037\n",
      "  (0, 12380)\t0.18174634255011907\n",
      "  (0, 11279)\t0.0838126844461447\n",
      "  (0, 11106)\t0.19295443600808856\n",
      "  (0, 10466)\t0.12545657109927857\n",
      "  (0, 10305)\t0.31190184058282033\n",
      "  (0, 9645)\t0.2400187854570026\n",
      "  (0, 8331)\t0.2012082949513306\n",
      "  (0, 8135)\t0.16658933221672226\n",
      "  (0, 7062)\t0.24752127988879444\n",
      "  (0, 6227)\t0.2579283656498424\n",
      "  (0, 6033)\t0.2544017955047609\n",
      "  (0, 4873)\t0.3448601002036342\n",
      "  (0, 3666)\t0.3295839270948389\n",
      "  (0, 2137)\t0.15253982062886381\n",
      "  (0, 1851)\t0.20663576330349348\n",
      "  (0, 1755)\t0.4313967876795421\n",
      "  (1, 12652)\t0.15449456836545847\n",
      "  (1, 12420)\t0.15947494042320454\n",
      "  (1, 11768)\t0.11268717469379373\n",
      "  (1, 8933)\t0.3771367516065353\n",
      "  (1, 7978)\t0.27160608678958564\n",
      "  (1, 6074)\t0.32550585055541736\n",
      "  (1, 5433)\t0.36970155860099435\n",
      "  (1, 4118)\t0.4440022766173231\n",
      "  :\t:\n",
      "  (3658, 5089)\t0.11086397666471914\n",
      "  (3658, 4688)\t0.3360255438344903\n",
      "  (3658, 4277)\t0.201812584758041\n",
      "  (3658, 3961)\t0.19522458156499345\n",
      "  (3658, 2938)\t0.16492313838004596\n",
      "  (3659, 12476)\t0.27645500173530324\n",
      "  (3659, 12367)\t0.3332418918336114\n",
      "  (3659, 11919)\t0.09965315814129723\n",
      "  (3659, 11880)\t0.2392998490736219\n",
      "  (3659, 11234)\t0.1535729763559213\n",
      "  (3659, 11152)\t0.250769220902159\n",
      "  (3659, 11106)\t0.08144702409432154\n",
      "  (3659, 10831)\t0.20607675805605674\n",
      "  (3659, 7325)\t0.18890488123149396\n",
      "  (3659, 7124)\t0.2747512560419947\n",
      "  (3659, 6494)\t0.1122978745359916\n",
      "  (3659, 6159)\t0.16026567222222818\n",
      "  (3659, 5568)\t0.1843904969160329\n",
      "  (3659, 5220)\t0.0921983346894571\n",
      "  (3659, 4988)\t0.31071322387999784\n",
      "  (3659, 3109)\t0.24133544071088983\n",
      "  (3659, 2859)\t0.17669919710262127\n",
      "  (3659, 2775)\t0.3417945305267418\n",
      "  (3659, 406)\t0.22510417470143756\n",
      "  (3659, 48)\t0.25354112483976254\n"
     ]
    }
   ],
   "source": [
    "# Create input features\n",
    "train_features = one_hot_vectorizer.fit_transform(twitter_train['text'])\n",
    "test_features = one_hot_vectorizer.transform(twitter_test['text'])\n",
    "\n",
    "train_features_tfidf = tfidf_vectorizer.fit_transform(twitter_train['text'])\n",
    "test_features_tfidf = tfidf_vectorizer.transform(twitter_test['text'])"
   ]
  },
  {
   "cell_type": "code",
   "execution_count": 110,
   "metadata": {},
   "outputs": [
    {
     "name": "stdout",
     "output_type": "stream",
     "text": [
      "{'negative', 'positive', 'neutral'}\n"
     ]
    }
   ],
   "source": [
    "print(set(twitter_train['airline_sentiment']))"
   ]
  },
  {
   "cell_type": "code",
   "execution_count": 112,
   "metadata": {},
   "outputs": [],
   "source": [
    "# x = one_hot_vectorizer.fit_transform(twitter_test['airline_sentiment'])"
   ]
  },
  {
   "cell_type": "code",
   "execution_count": 113,
   "metadata": {},
   "outputs": [],
   "source": [
    "def scalar(x):\n",
    "    length = x.shape[0]\n",
    "    y = []\n",
    "    \n",
    "    for i in x:\n",
    "        if i == 'negative':\n",
    "            y.append(np.array([1,0,0])[:,None])\n",
    "        elif i == 'positive':\n",
    "            y.append(np.array([0,0,1])[:,None])\n",
    "        else:\n",
    "            y.append(np.array([0,1,0])[:,None])\n",
    "    \n",
    "    return np.squeeze(np.array(y))"
   ]
  },
  {
   "cell_type": "code",
   "execution_count": 150,
   "metadata": {},
   "outputs": [
    {
     "name": "stdout",
     "output_type": "stream",
     "text": [
      "(10980, 3)\n"
     ]
    }
   ],
   "source": [
    "print(scalar(twitter_train['airline_sentiment']).shape)"
   ]
  },
  {
   "cell_type": "code",
   "execution_count": 191,
   "metadata": {},
   "outputs": [
    {
     "name": "stdout",
     "output_type": "stream",
     "text": [
      "376320112\n",
      "train: 0.22334074974060059 \tpred: 0.040860652923583984\n",
      "Evaluation for: ELM\n",
      "Classifier 'ELM' has Acc=0.735 P=0.602 R=0.683 F1=0.629\n",
      "              precision    recall  f1-score   support\n",
      "\n",
      "         0.0      0.906     0.770     0.833      2713\n",
      "         1.0      0.394     0.575     0.468       515\n",
      "         2.0      0.504     0.704     0.587       432\n",
      "\n",
      "    accuracy                          0.735      3660\n",
      "   macro avg      0.602     0.683     0.629      3660\n",
      "weighted avg      0.787     0.735     0.752      3660\n",
      "\n",
      "\n",
      "Confusion matrix:\n",
      " [[2090  143   73]\n",
      " [ 400  296   55]\n",
      " [ 223   76  304]]\n"
     ]
    }
   ],
   "source": [
    "my_aelm_twitter = AELM(\n",
    "    inputSize=10248,\n",
    "    hiddenSize=500, \n",
    "    outputSize=3,\n",
    ")\n",
    "\n",
    "split_data = splitdata(train_features, scalar(twitter_train['airline_sentiment']),5)\n",
    "\n",
    "train_start = t.time()\n",
    "j = 0\n",
    "for i in split_data:\n",
    "    result = my_aelm_twitter.train(i[0],i[1], weight=0.1)\n",
    "    j+=1\n",
    "    if j==0:\n",
    "        break\n",
    "train_end = t.time()\n",
    "print(sys.getsizeof(train_X))\n",
    "\n",
    "# result = my_aelm_3.train(train_X, train_y)\n",
    "pred_start = t.time()\n",
    "pred = my_aelm_twitter.predict(test_features)\n",
    "pred_end = t.time()\n",
    "pred_2 = np.zeros(test_features.shape[0])\n",
    "\n",
    "for i in range(len(pred)):\n",
    "    pred_2[i] = int(np.where(pred[i] == np.max(pred[i]))[1])\n",
    "\n",
    "print(f\"train: {train_end-train_start} \\tpred: {pred_end-pred_start}\")\n",
    "evaluation_summary('ELM', pred_2, np.argmax(scalar(twitter_test['airline_sentiment']), axis=1))"
   ]
  },
  {
   "cell_type": "code",
   "execution_count": null,
   "metadata": {},
   "outputs": [],
   "source": []
  }
 ],
 "metadata": {
  "kernelspec": {
   "display_name": "Python 3",
   "language": "python",
   "name": "python3"
  },
  "language_info": {
   "codemirror_mode": {
    "name": "ipython",
    "version": 3
   },
   "file_extension": ".py",
   "mimetype": "text/x-python",
   "name": "python",
   "nbconvert_exporter": "python",
   "pygments_lexer": "ipython3",
   "version": "3.8.5"
  }
 },
 "nbformat": 4,
 "nbformat_minor": 4
}

{
 "cells": [
  {
   "cell_type": "markdown",
   "metadata": {},
   "source": [
    "# Algorithm Testing\n",
    "A notebook used to compare algorithm performance.\n"
   ]
  },
  {
   "cell_type": "code",
   "execution_count": 1,
   "metadata": {},
   "outputs": [],
   "source": [
    "### Imports\n",
    "from nitools import utils \n",
    "from nitools.classifiers import PAE_RVFL, ELM, AE_ELM \n",
    "from nitools.models import LeNet5, ResNet18\n",
    "from nitools.operations import resetseed\n",
    "\n",
    "import numpy as np\n",
    "import random\n",
    "import torch\n",
    "import time as t"
   ]
  },
  {
   "cell_type": "markdown",
   "metadata": {},
   "source": [
    "## 1. MNIST\n",
    "\n",
    "Dataset of greyscale 28x28 images of handwritten digits. \n",
    "\n",
    "*Train: 60,000*, *Test: 10,000*, *10 Classes*, *784 Inputs*\n"
   ]
  },
  {
   "cell_type": "code",
   "execution_count": 2,
   "metadata": {},
   "outputs": [],
   "source": [
    "# Import dataset\n",
    "mnist = utils.load_mnist()\n",
    "\n",
    "mnist_in = 784\n",
    "mnist_class = 10"
   ]
  },
  {
   "cell_type": "markdown",
   "metadata": {},
   "source": [
    "### pAE-RVFL"
   ]
  },
  {
   "cell_type": "code",
   "execution_count": 7,
   "metadata": {
    "scrolled": false
   },
   "outputs": [
    {
     "name": "stdout",
     "output_type": "stream",
     "text": [
      "train: 43.02003216743469\n",
      "Evaluation for: lenet PAE-RVFL - MNIST\n",
      "Classifier 'lenet PAE-RVFL - MNIST' has Acc=0.957 P=0.957 R=0.957 F1=0.957\n",
      "              precision    recall  f1-score   support\n",
      "\n",
      "         0.0      0.987     0.963     0.975      1004\n",
      "         1.0      0.991     0.949     0.969      1186\n",
      "         2.0      0.936     0.965     0.950      1001\n",
      "         3.0      0.961     0.952     0.957      1020\n",
      "         4.0      0.942     0.978     0.960       946\n",
      "         5.0      0.955     0.964     0.959       884\n",
      "         6.0      0.965     0.966     0.965       957\n",
      "         7.0      0.918     0.960     0.939       983\n",
      "         8.0      0.960     0.947     0.954       987\n",
      "         9.0      0.950     0.929     0.940      1032\n",
      "\n",
      "    accuracy                          0.957     10000\n",
      "   macro avg      0.957     0.957     0.957     10000\n",
      "weighted avg      0.957     0.957     0.957     10000\n",
      "\n",
      "\n",
      "Confusion matrix:\n",
      " [[ 967    1    1    0    1    1    3    1    5    0]\n",
      " [   0 1125    3    1    0    0    3    0    3    0]\n",
      " [  11    7  966    8    5    2    3   12   17    1]\n",
      " [   0    1    9  971    0    7    0    9   10    3]\n",
      " [   1    5    2    0  925    0    9    0    3   37]\n",
      " [   3    3    0   14    1  852    8    3    4    4]\n",
      " [   7    4    1    1    3   15  924    0    3    0]\n",
      " [   2   28   17    7    3    1    0  944    2   24]\n",
      " [   7    3    1    8    3    4    6    3  935    4]\n",
      " [   6    9    1   10    5    2    1   11    5  959]]\n"
     ]
    }
   ],
   "source": [
    "device = torch.device(\"cpu\")\n",
    "\n",
    "SEED = 22\n",
    "resetseed(SEED)\n",
    "\n",
    "pae_rvfl = PAE_RVFL.PAE_RVFL(\n",
    "    784, \n",
    "    150, \n",
    "    mnist_class, \n",
    "    subnets=10,\n",
    "    device=device, \n",
    "    r=(1,1), sc=0.5, sb=0.5, c=1000, ae_iters=3)\n",
    "\n",
    "lenet = LeNet5.LeNet5(pae_rvfl, weight_train=True)\n",
    "\n",
    "X = torch.from_numpy(mnist['train_X']).float()[:60000]\n",
    "y = torch.from_numpy(mnist['train_y']).float()[:60000]\n",
    "\n",
    "train_start = t.time()\n",
    "result = lenet.train(X, y)\n",
    "train_end = t.time()\n",
    "tX = torch.from_numpy(mnist['test_X']).float()\n",
    "pred = lenet.predict(tX)[:10000]\n",
    "pred_arg = np.zeros(10000)\n",
    "\n",
    "for i in range(len(pred)):\n",
    "    pred_arg[i] = np.argmax(pred[i])\n",
    "\n",
    "print(f\"train: {train_end-train_start}\")\n",
    "utils.evaluation_summary('lenet PAE-RVFL - MNIST', pred_arg, mnist['test_y'])"
   ]
  },
  {
   "cell_type": "markdown",
   "metadata": {},
   "source": [
    "### ELM"
   ]
  },
  {
   "cell_type": "code",
   "execution_count": 9,
   "metadata": {},
   "outputs": [
    {
     "name": "stdout",
     "output_type": "stream",
     "text": [
      "train: 27.019412994384766\n",
      "Evaluation for: lenet AE-ELM - MNIST\n",
      "Classifier 'lenet AE-ELM - MNIST' has Acc=0.967 P=0.967 R=0.967 F1=0.967\n",
      "              precision    recall  f1-score   support\n",
      "\n",
      "         0.0      0.988     0.969     0.978       999\n",
      "         1.0      0.990     0.965     0.977      1165\n",
      "         2.0      0.967     0.972     0.969      1027\n",
      "         3.0      0.964     0.970     0.967      1004\n",
      "         4.0      0.953     0.983     0.968       952\n",
      "         5.0      0.973     0.961     0.967       903\n",
      "         6.0      0.970     0.974     0.972       954\n",
      "         7.0      0.943     0.964     0.953      1005\n",
      "         8.0      0.963     0.964     0.964       973\n",
      "         9.0      0.954     0.946     0.950      1018\n",
      "\n",
      "    accuracy                          0.967     10000\n",
      "   macro avg      0.967     0.967     0.967     10000\n",
      "weighted avg      0.967     0.967     0.967     10000\n",
      "\n",
      "\n",
      "Confusion matrix:\n",
      " [[ 968    1    0    0    1    2    3    2    3    0]\n",
      " [   0 1124    3    2    1    1    2    0    2    0]\n",
      " [   8    4  998    1    3    0    0   10    8    0]\n",
      " [   0    4    5  974    0   10    0    5    8    4]\n",
      " [   1    2    3    0  936    0    9    1    3   27]\n",
      " [   3    2    0    5    0  868    6    3    3    2]\n",
      " [   6    3    1    1    2   10  929    1    4    1]\n",
      " [   1   18   14    3    2    1    0  969    2   18]\n",
      " [   6    2    2    6    2    6    5    4  938    3]\n",
      " [   6    5    1   12    5    5    0   10    2  963]]\n"
     ]
    }
   ],
   "source": [
    "SEED = 22\n",
    "resetseed(SEED)\n",
    "\n",
    "# Get ELM results\n",
    "mnist_elm = AE_ELM.AE_ELM(  # TODO: batchnorm input weights to ae?\n",
    "    input_size=mnist_in,\n",
    "    h_size=5000,\n",
    "    output_size=mnist_class,\n",
    "    ae_iters=5)\n",
    "\n",
    "lenet = LeNet5.LeNet5(mnist_elm, weight_train=True)\n",
    "\n",
    "X = torch.from_numpy(mnist['train_X']).float()[:60000]\n",
    "y = torch.from_numpy(mnist['train_y']).float()[:60000]\n",
    "\n",
    "train_start = t.time()\n",
    "result = lenet.train(X, y)\n",
    "train_end = t.time()\n",
    "tX = torch.from_numpy(mnist['test_X']).float()\n",
    "pred = lenet.predict(tX)[:10000]\n",
    "pred_arg = np.zeros(10000)\n",
    "\n",
    "for i in range(len(pred)):\n",
    "    pred_arg[i] = np.argmax(pred[i])\n",
    "\n",
    "\n",
    "print(f\"train: {train_end-train_start}\")\n",
    "utils.evaluation_summary('lenet AE-ELM - MNIST', pred_arg, mnist['test_y'])"
   ]
  },
  {
   "cell_type": "code",
   "execution_count": 10,
   "metadata": {},
   "outputs": [
    {
     "name": "stdout",
     "output_type": "stream",
     "text": [
      "train: 34.5211980342865\n",
      "Evaluation for: lenet  - MNIST\n",
      "Classifier 'lenet  - MNIST' has Acc=0.944 P=0.943 R=0.944 F1=0.943\n",
      "              precision    recall  f1-score   support\n",
      "\n",
      "         0.0      0.986     0.958     0.972      1008\n",
      "         1.0      0.989     0.935     0.961      1200\n",
      "         2.0      0.920     0.956     0.937       993\n",
      "         3.0      0.949     0.931     0.940      1029\n",
      "         4.0      0.927     0.966     0.946       942\n",
      "         5.0      0.924     0.940     0.932       877\n",
      "         6.0      0.958     0.943     0.950       974\n",
      "         7.0      0.921     0.948     0.934       999\n",
      "         8.0      0.931     0.942     0.936       963\n",
      "         9.0      0.927     0.921     0.924      1015\n",
      "\n",
      "    accuracy                          0.944     10000\n",
      "   macro avg      0.943     0.944     0.943     10000\n",
      "weighted avg      0.944     0.944     0.944     10000\n",
      "\n",
      "\n",
      "Confusion matrix:\n",
      " [[ 966    1    1    0    1    0    7    1    3    0]\n",
      " [   0 1122    3    2    1    0    4    0    3    0]\n",
      " [  11    9  949    7    6    0   11   16   22    1]\n",
      " [   0    6   12  958    0   14    0    6   10    4]\n",
      " [   2    5    3    2  910    0   10    2    3   45]\n",
      " [   4    6    2   31    0  824   11    3    7    4]\n",
      " [   5    4    2    0    2   24  918    0    2    1]\n",
      " [   3   34   18    2    5    0    0  947    1   18]\n",
      " [   8    4    3   10    6    9   12    8  907    7]\n",
      " [   9    9    0   17   11    6    1   16    5  935]]\n"
     ]
    }
   ],
   "source": [
    "SEED = 22\n",
    "resetseed(SEED)\n",
    "\n",
    "# Get ELM results\n",
    "mnist_elm = ELM.ELM(  # TODO: batchnorm input weights to ae?\n",
    "    input_size=mnist_in,\n",
    "    h_size=1000,\n",
    "    output_size=mnist_class)\n",
    "\n",
    "lenet = LeNet5.LeNet5(mnist_elm, weight_train=True)\n",
    "\n",
    "X = torch.from_numpy(mnist['train_X']).float()[:60000]\n",
    "y = torch.from_numpy(mnist['train_y']).float()[:60000]\n",
    "\n",
    "train_start = t.time()\n",
    "result = lenet.train(X, y)\n",
    "train_end = t.time()\n",
    "tX = torch.from_numpy(mnist['test_X']).float()\n",
    "pred = lenet.predict(tX)[:10000]\n",
    "pred_arg = np.zeros(10000)\n",
    "\n",
    "for i in range(len(pred)):\n",
    "    pred_arg[i] = np.argmax(pred[i])\n",
    "\n",
    "\n",
    "print(f\"train: {train_end-train_start}\")\n",
    "utils.evaluation_summary('lenet  - MNIST', pred_arg, mnist['test_y'])"
   ]
  },
  {
   "cell_type": "markdown",
   "metadata": {},
   "source": [
    "## 2. CIFAR-10\n",
    "\n",
    "Dataset of colour (3-dimension) 32x32 images of objects of 10 classes:\n",
    "\n",
    "0.\tairplane\n",
    "1.\tautomobile\n",
    "2.\tbird\n",
    "3.\tcat\n",
    "4.\tdeer\n",
    "5.\tdog\n",
    "6.\tfrog\n",
    "7.\thorse\n",
    "8.\tship\n",
    "9.\ttruck\n",
    "\n",
    "*Train: 60,000*, *Test: 10,000*, *10 Classes*, *784 Inputs*"
   ]
  },
  {
   "cell_type": "code",
   "execution_count": null,
   "metadata": {},
   "outputs": [],
   "source": [
    "# Import dataset\n",
    "cifar10 = utils.load_cifar10()\n",
    "\n",
    "cifar_in = 32*32*3\n",
    "cifar_class = 10"
   ]
  },
  {
   "cell_type": "markdown",
   "metadata": {},
   "source": [
    "### SPAE-RVFL"
   ]
  },
  {
   "cell_type": "code",
   "execution_count": null,
   "metadata": {},
   "outputs": [],
   "source": [
    "device = torch.device(\"cpu\")\n",
    "\n",
    "pae_rvfl = SPAE_RVFL.SPAE_RVFL(\n",
    "    cifar_in, \n",
    "    cifar_class, \n",
    "    [100], \n",
    "    subnets=[5], \n",
    "    device=device, \n",
    "    r=[(1,1), (1,1)], sc=0.5, sb=0.5)\n",
    "\n",
    "lenet = LeNet5.LeNet5_3D(pae_rvfl)\n",
    "\n",
    "X = torch.from_numpy(cifar10['train_X']).float()[:5000]\n",
    "y = torch.from_numpy(cifar10['train_y']).float()[:5000]\n",
    "\n",
    "result = lenet.train(X, y)\n",
    "tX = torch.from_numpy(cifar10['test_X']).float()\n",
    "pred = lenet.predict(tX)[:10000]\n",
    "pred_arg = np.zeros(10000)\n",
    "\n",
    "for i in range(len(pred)):\n",
    "    pred_arg[i] = np.argmax(pred[i])\n",
    "\n",
    "utils.evaluation_summary('lenet PAE-RVFL - MNIST', pred_arg, cifar10['test_y'])"
   ]
  },
  {
   "cell_type": "code",
   "execution_count": null,
   "metadata": {},
   "outputs": [],
   "source": [
    "# Show results"
   ]
  },
  {
   "cell_type": "code",
   "execution_count": null,
   "metadata": {},
   "outputs": [],
   "source": []
  },
  {
   "cell_type": "code",
   "execution_count": null,
   "metadata": {},
   "outputs": [],
   "source": []
  },
  {
   "cell_type": "code",
   "execution_count": null,
   "metadata": {},
   "outputs": [],
   "source": []
  }
 ],
 "metadata": {
  "kernelspec": {
   "display_name": "Python 3 (ipykernel)",
   "language": "python",
   "name": "python3"
  },
  "language_info": {
   "codemirror_mode": {
    "name": "ipython",
    "version": 3
   },
   "file_extension": ".py",
   "mimetype": "text/x-python",
   "name": "python",
   "nbconvert_exporter": "python",
   "pygments_lexer": "ipython3",
   "version": "3.9.5"
  }
 },
 "nbformat": 4,
 "nbformat_minor": 4
}

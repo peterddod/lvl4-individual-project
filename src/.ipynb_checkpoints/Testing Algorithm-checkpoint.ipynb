{
 "cells": [
  {
   "cell_type": "markdown",
   "metadata": {},
   "source": [
    "# Algorithm Testing\n",
    "A notebook used to compare algorithm performance.\n"
   ]
  },
  {
   "cell_type": "code",
   "execution_count": 1,
   "metadata": {},
   "outputs": [],
   "source": [
    "### Imports\n",
    "from nitools import utils \n",
    "from nitools.classifiers import PAE_RVFL, ELM, AE_ELM, PAE_ELM\n",
    "from nitools.models import LeNet5, LRF_ELM, LRF_ELMplus, MiniRes\n",
    "from nitools.operations import resetseed\n",
    "\n",
    "import numpy as np\n",
    "import random\n",
    "import torch\n",
    "import time as t"
   ]
  },
  {
   "cell_type": "code",
   "execution_count": 2,
   "metadata": {},
   "outputs": [],
   "source": [
    "# Import dataset\n",
    "mnist = utils.load_mnist()\n",
    "\n",
    "mnist_in = 784\n",
    "mnist_class = 10"
   ]
  },
  {
   "cell_type": "code",
   "execution_count": 3,
   "metadata": {},
   "outputs": [],
   "source": [
    "def run(model, n=10000, nt=10000, data=mnist):\n",
    "    X = None\n",
    "    y = None \n",
    "    tX = None\n",
    "    try:\n",
    "        X = torch.from_numpy(data['train_X']).view((60000,1,28,28)).float()[:n]\n",
    "        y = torch.from_numpy(data['train_y']).float()[:n]\n",
    "        tX = torch.from_numpy(data['test_X']).view((10000,1,28,28)).float()\n",
    "    except:\n",
    "        X = data['train_X'].view((50000,3,32,32)).float()[:n]\n",
    "        y = torch.from_numpy(data['train_y']).float()[:n]\n",
    "        tX = data['test_X'].view((10000,3,32,32)).float()\n",
    "\n",
    "    train_start = t.time()\n",
    "    result = model.train(X, y)\n",
    "    train_end = t.time()\n",
    "    \n",
    "\n",
    "    test_start = t.time()\n",
    "    pred = model.predict(tX)[:nt]\n",
    "    test_end = t.time()\n",
    "\n",
    "    pred_arg = np.zeros(nt)\n",
    "\n",
    "    for i in range(len(pred)):\n",
    "        pred_arg[i] = np.argmax(pred[i])\n",
    "\n",
    "\n",
    "    print(f\"train: {train_end-train_start}\")\n",
    "    print(f\"test: {test_end-test_start}\")\n",
    "    utils.evaluation_summary('lenet  - MNIST', pred_arg, data['test_y'])\n",
    "    \n",
    "def runos(model, b=5000, iters=1, nt=10000, data=mnist):\n",
    "    X = torch.from_numpy(data['train_X']).view((60000,1,28,28)).float()\n",
    "    y = torch.from_numpy(data['train_y']).float()\n",
    "\n",
    "    train_start = t.time()\n",
    "    for i in range(0,60000,b):\n",
    "        if i/b==iters:\n",
    "            break\n",
    "        result = model.train(X[i:i+b], y[i:i+b])\n",
    "    train_end = t.time()\n",
    "    \n",
    "    tX = torch.from_numpy(data['test_X']).view((10000,1,28,28)).float()\n",
    "\n",
    "    test_start = t.time()\n",
    "    pred = model.predict(tX)[:nt]\n",
    "    test_end = t.time()\n",
    "\n",
    "    pred_arg = np.zeros(nt)\n",
    "\n",
    "    for i in range(len(pred)):\n",
    "        pred_arg[i] = np.argmax(pred[i])\n",
    "\n",
    "\n",
    "    print(f\"train: {train_end-train_start}\")\n",
    "    print(f\"test: {test_end-test_start}\")\n",
    "    utils.evaluation_summary('lenet  - MNIST', pred_arg, data['test_y'])"
   ]
  },
  {
   "cell_type": "markdown",
   "metadata": {},
   "source": [
    "## 1. MNIST\n",
    "\n",
    "Dataset of greyscale 28x28 images of handwritten digits. \n",
    "\n",
    "*Train: 60,000*, *Test: 10,000*, *10 Classes*, *784 Inputs*\n"
   ]
  },
  {
   "cell_type": "code",
   "execution_count": 24,
   "metadata": {
    "scrolled": false
   },
   "outputs": [
    {
     "name": "stdout",
     "output_type": "stream",
     "text": [
      "torch.Size([1728])\n",
      "torch.Size([1728])\n",
      "torch.Size([1728])\n",
      "torch.Size([1728])\n",
      "torch.Size([1000, 1728])\n",
      "train: 1.1657168865203857\n",
      "test: 4.38283109664917\n",
      "Evaluation for: lenet  - MNIST\n",
      "Classifier 'lenet  - MNIST' has Acc=0.963 P=0.962 R=0.963 F1=0.962\n",
      "              precision    recall  f1-score   support\n",
      "\n",
      "         0.0      0.988     0.961     0.974      1007\n",
      "         1.0      0.991     0.980     0.986      1148\n",
      "         2.0      0.984     0.947     0.965      1072\n",
      "         3.0      0.942     0.993     0.966       958\n",
      "         4.0      0.947     0.960     0.953       969\n",
      "         5.0      0.974     0.958     0.966       907\n",
      "         6.0      0.961     0.953     0.957       966\n",
      "         7.0      0.954     0.966     0.960      1016\n",
      "         8.0      0.921     0.989     0.954       907\n",
      "         9.0      0.960     0.923     0.941      1050\n",
      "\n",
      "    accuracy                          0.963     10000\n",
      "   macro avg      0.962     0.963     0.962     10000\n",
      "weighted avg      0.963     0.963     0.963     10000\n",
      "\n",
      "\n",
      "Confusion matrix:\n",
      " [[ 968    0    1    0    1    3    5    1    0    1]\n",
      " [   0 1125    7    0    0    1    1    0    1    0]\n",
      " [   3    0 1015    0    1    1    1    8    3    0]\n",
      " [   2    1   20  951    0   14    5   10    2    5]\n",
      " [   1    0    1    0  930    0   11    0    0   39]\n",
      " [   2    2    1    2    1  869   10    2    2    1]\n",
      " [   7    6    2    0    9   13  921    0    0    0]\n",
      " [   0    7   15    1    5    0    1  981    1   17]\n",
      " [  15    1    7    2   14    5    9    6  897   18]\n",
      " [   9    6    3    2    8    1    2    8    1  969]]\n"
     ]
    }
   ],
   "source": [
    "SEED = 2359487\n",
    "resetseed(SEED)\n",
    "\n",
    "model = LRF_ELM(c=1000, _lambda=np.sqrt(6), p=0)\n",
    "\n",
    "run(model, n=1000)"
   ]
  },
  {
   "cell_type": "markdown",
   "metadata": {},
   "source": [
    "## 2. CIFAR-10\n",
    "\n",
    "Dataset of colour (3-dimension) 32x32 images of objects of 10 classes:\n",
    "\n",
    "0.\tairplane\n",
    "1.\tautomobile\n",
    "2.\tbird\n",
    "3.\tcat\n",
    "4.\tdeer\n",
    "5.\tdog\n",
    "6.\tfrog\n",
    "7.\thorse\n",
    "8.\tship\n",
    "9.\ttruck\n",
    "\n",
    "*Train: 60,000*, *Test: 10,000*, *10 Classes*, *784 Inputs*"
   ]
  },
  {
   "cell_type": "code",
   "execution_count": 4,
   "metadata": {},
   "outputs": [],
   "source": [
    "# Import dataset\n",
    "cifar10 = utils.load_cifar10(scaled=False)\n",
    "\n",
    "cifar_in = 32*32*3\n",
    "cifar_class = 10"
   ]
  },
  {
   "cell_type": "code",
   "execution_count": null,
   "metadata": {},
   "outputs": [
    {
     "name": "stdout",
     "output_type": "stream",
     "text": [
      "torch.Size([5000, 3072])\n"
     ]
    }
   ],
   "source": [
    "SEED = 22\n",
    "resetseed(SEED)\n",
    "\n",
    "model = LRF_ELMplus(in_channels=3)\n",
    "\n",
    "run(model, n=5000, data=cifar10)"
   ]
  }
 ],
 "metadata": {
  "kernelspec": {
   "display_name": "Python 3",
   "language": "python",
   "name": "python3"
  },
  "language_info": {
   "codemirror_mode": {
    "name": "ipython",
    "version": 3
   },
   "file_extension": ".py",
   "mimetype": "text/x-python",
   "name": "python",
   "nbconvert_exporter": "python",
   "pygments_lexer": "ipython3",
   "version": "3.8.5"
  }
 },
 "nbformat": 4,
 "nbformat_minor": 4
}

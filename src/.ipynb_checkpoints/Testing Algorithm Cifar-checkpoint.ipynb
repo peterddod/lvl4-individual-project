{
 "cells": [
  {
   "cell_type": "markdown",
   "metadata": {},
   "source": [
    "# Algorithm Testing CIFAR10\n",
    "A notebook used to compare algorithm performance.\n"
   ]
  },
  {
   "cell_type": "code",
   "execution_count": null,
   "metadata": {},
   "outputs": [],
   "source": [
    "### Imports\n",
    "from nitools import utils \n",
    "from nitools.classifiers import PAE_ELM\n",
    "from nitools.models import MiniRes\n",
    "from nitools.operations import resetseed\n",
    "\n",
    "import numpy as np\n",
    "import random\n",
    "import torch\n",
    "import time as t"
   ]
  },
  {
   "cell_type": "markdown",
   "metadata": {},
   "source": [
    "## 2. CIFAR-10\n",
    "\n",
    "Dataset of colour (3-dimension) 32x32 images of objects of 10 classes:\n",
    "\n",
    "0.\tairplane\n",
    "1.\tautomobile\n",
    "2.\tbird\n",
    "3.\tcat\n",
    "4.\tdeer\n",
    "5.\tdog\n",
    "6.\tfrog\n",
    "7.\thorse\n",
    "8.\tship\n",
    "9.\ttruck\n",
    "\n",
    "*Train: 60,000*, *Test: 10,000*, *10 Classes*, *784 Inputs*"
   ]
  },
  {
   "cell_type": "code",
   "execution_count": null,
   "metadata": {},
   "outputs": [],
   "source": [
    "# Import dataset\n",
    "cifar10 = utils.load_cifar10(scaled=False)\n",
    "\n",
    "cifar_in = 32*32*3\n",
    "cifar_class = 10"
   ]
  },
  {
   "cell_type": "markdown",
   "metadata": {},
   "source": [
    "### SPAE-RVFL"
   ]
  },
  {
   "cell_type": "code",
   "execution_count": null,
   "metadata": {},
   "outputs": [],
   "source": [
    "device = torch.device(\"cpu\")\n",
    "\n",
    "pae_rvfl = PAE_ELM(\n",
    "    in_size=1024, \n",
    "    out_size=cifar_class, \n",
    "    h_size=800, \n",
    "    subnets=3, \n",
    "    device=device,\n",
    "    c=10)\n",
    "\n",
    "lenet = MiniRes(pae_rvfl)\n",
    "\n",
    "X = cifar10['train_X'].float()[:60000]\n",
    "y = torch.from_numpy(cifar10['train_y']).float()[:60000]\n",
    "\n",
    "train_start = t.time()\n",
    "result = lenet.train(X, y)\n",
    "train_end = t.time()\n",
    "tX = cifar10['test_X'].float()\n",
    "pred = lenet.predict(tX)[:10000]\n",
    "pred_arg = np.zeros(10000)\n",
    "\n",
    "for i in range(len(pred)):\n",
    "    pred_arg[i] = np.argmax(pred[i])\n",
    "\n",
    "    \n",
    "print(f\"train: {train_end-train_start}\")\n",
    "utils.evaluation_summary('lenet PAE-RVFL - MNIST', pred_arg, cifar10['test_y'])"
   ]
  },
  {
   "cell_type": "code",
   "execution_count": null,
   "metadata": {},
   "outputs": [],
   "source": []
  }
 ],
 "metadata": {
  "kernelspec": {
   "display_name": "Python 3 (ipykernel)",
   "language": "python",
   "name": "python3"
  },
  "language_info": {
   "codemirror_mode": {
    "name": "ipython",
    "version": 3
   },
   "file_extension": ".py",
   "mimetype": "text/x-python",
   "name": "python",
   "nbconvert_exporter": "python",
   "pygments_lexer": "ipython3",
   "version": "3.9.5"
  }
 },
 "nbformat": 4,
 "nbformat_minor": 4
}

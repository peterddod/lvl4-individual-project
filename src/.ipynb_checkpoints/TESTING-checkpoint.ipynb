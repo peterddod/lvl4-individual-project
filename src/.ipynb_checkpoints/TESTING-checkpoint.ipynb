{
 "cells": [
  {
   "cell_type": "code",
   "execution_count": 1,
   "id": "003144ff",
   "metadata": {},
   "outputs": [],
   "source": [
    "from THE_ONE import run"
   ]
  },
  {
   "cell_type": "code",
   "execution_count": null,
   "id": "d0d55a34",
   "metadata": {},
   "outputs": [
    {
     "name": "stdout",
     "output_type": "stream",
     "text": [
      "\n",
      "===============================\n",
      "ours-lenet - 1 - 0 100 1\n",
      "Starting training...\n"
     ]
    }
   ],
   "source": [
    "SEEDS = [1,2,3,4,5,6,7,8,9,10,11,12,13,14,15]\n",
    "\n",
    "run(SEEDS)"
   ]
  }
 ],
 "metadata": {
  "kernelspec": {
   "display_name": "Python 3 (ipykernel)",
   "language": "python",
   "name": "python3"
  },
  "language_info": {
   "codemirror_mode": {
    "name": "ipython",
    "version": 3
   },
   "file_extension": ".py",
   "mimetype": "text/x-python",
   "name": "python",
   "nbconvert_exporter": "python",
   "pygments_lexer": "ipython3",
   "version": "3.9.5"
  }
 },
 "nbformat": 4,
 "nbformat_minor": 5
}

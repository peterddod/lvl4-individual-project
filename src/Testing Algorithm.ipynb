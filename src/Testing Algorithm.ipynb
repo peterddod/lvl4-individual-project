{
 "cells": [
  {
   "cell_type": "markdown",
   "metadata": {},
   "source": [
    "# Algorithm Testing\n",
    "A notebook used to compare algorithm performance.\n"
   ]
  },
  {
   "cell_type": "code",
   "execution_count": 1,
   "metadata": {},
   "outputs": [],
   "source": [
    "### Imports\n",
    "from nitools import utils \n",
    "from nitools.classifiers import PAE_RVFL, ELM \n",
    "from nitools.models import LeNet5, ResNet18\n",
    "\n",
    "import numpy as np\n",
    "import torch\n",
    "import time as t"
   ]
  },
  {
   "cell_type": "markdown",
   "metadata": {},
   "source": [
    "## 1. MNIST\n",
    "\n",
    "Dataset of greyscale 28x28 images of handwritten digits. \n",
    "\n",
    "*Train: 60,000*, *Test: 10,000*, *10 Classes*, *784 Inputs*\n"
   ]
  },
  {
   "cell_type": "code",
   "execution_count": 2,
   "metadata": {},
   "outputs": [],
   "source": [
    "# Import dataset\n",
    "mnist = utils.load_mnist()\n",
    "\n",
    "mnist_in = 784\n",
    "mnist_class = 10"
   ]
  },
  {
   "cell_type": "markdown",
   "metadata": {},
   "source": [
    "### pAE-RVFL"
   ]
  },
  {
   "cell_type": "code",
   "execution_count": 14,
   "metadata": {
    "scrolled": false
   },
   "outputs": [
    {
     "name": "stdout",
     "output_type": "stream",
     "text": [
      "train: 9.880131244659424\n",
      "Evaluation for: lenet PAE-RVFL - MNIST\n",
      "Classifier 'lenet PAE-RVFL - MNIST' has Acc=0.962 P=0.961 R=0.962 F1=0.961\n",
      "              precision    recall  f1-score   support\n",
      "\n",
      "         0.0      0.983     0.961     0.972      1002\n",
      "         1.0      0.989     0.971     0.980      1156\n",
      "         2.0      0.960     0.957     0.958      1036\n",
      "         3.0      0.959     0.953     0.956      1017\n",
      "         4.0      0.953     0.979     0.966       956\n",
      "         5.0      0.960     0.975     0.967       878\n",
      "         6.0      0.968     0.974     0.971       952\n",
      "         7.0      0.950     0.948     0.949      1031\n",
      "         8.0      0.955     0.958     0.956       971\n",
      "         9.0      0.935     0.942     0.938      1001\n",
      "\n",
      "    accuracy                          0.962     10000\n",
      "   macro avg      0.961     0.962     0.961     10000\n",
      "weighted avg      0.962     0.962     0.962     10000\n",
      "\n",
      "\n",
      "Confusion matrix:\n",
      " [[ 963    1    1    1    1    2    3    4    4    0]\n",
      " [   0 1123    3    3    0    0    3    0    2    1]\n",
      " [   7    0  991    7    2    0    5    8   10    2]\n",
      " [   1    3    7  969    0    5    0   11    8    6]\n",
      " [   1    1    2    1  936    0    6    2    3   30]\n",
      " [   5    2    1   12    2  856    6    2    4    2]\n",
      " [   9    5    2    0    3    8  927    1    2    1]\n",
      " [   1   13   24    6    0    0    0  977    1    6]\n",
      " [   5    2    3    7    4    4    2    7  930   10]\n",
      " [  10    6    2   11    8    3    0   19    7  943]]\n"
     ]
    }
   ],
   "source": [
    "device = torch.device(\"cpu\")\n",
    "\n",
    "pae_rvfl = PAE_RVFL.PAE_RVFL(\n",
    "    784, \n",
    "    200, \n",
    "    mnist_class, \n",
    "    subnets=5,\n",
    "    device=device, \n",
    "    r=(1,1), sc=0.5, sb=0.5)\n",
    "\n",
    "lenet = LeNet5.LeNet5(pae_rvfl, weight_train=True)\n",
    "\n",
    "X = torch.from_numpy(mnist['train_X']).float()[:10000]\n",
    "y = torch.from_numpy(mnist['train_y']).float()[:10000]\n",
    "\n",
    "train_start = t.time()\n",
    "result = lenet.train(X, y)\n",
    "train_end = t.time()\n",
    "tX = torch.from_numpy(mnist['test_X']).float()\n",
    "pred = lenet.predict(tX)[:10000]\n",
    "pred_arg = np.zeros(10000)\n",
    "\n",
    "for i in range(len(pred)):\n",
    "    pred_arg[i] = np.argmax(pred[i])\n",
    "\n",
    "print(f\"train: {train_end-train_start}\")\n",
    "utils.evaluation_summary('lenet PAE-RVFL - MNIST', pred_arg, mnist['test_y'])"
   ]
  },
  {
   "cell_type": "markdown",
   "metadata": {},
   "source": [
    "### ELM"
   ]
  },
  {
   "cell_type": "code",
   "execution_count": 5,
   "metadata": {},
   "outputs": [
    {
     "name": "stdout",
     "output_type": "stream",
     "text": [
      "train: 90.78947496414185\n",
      "Evaluation for: lenet PAE-RVFL - MNIST\n",
      "Classifier 'lenet PAE-RVFL - MNIST' has Acc=0.972 P=0.972 R=0.972 F1=0.972\n",
      "              precision    recall  f1-score   support\n",
      "\n",
      "         0.0      0.991     0.971     0.981      1000\n",
      "         1.0      0.989     0.977     0.983      1150\n",
      "         2.0      0.979     0.971     0.975      1040\n",
      "         3.0      0.974     0.969     0.971      1016\n",
      "         4.0      0.964     0.983     0.974       963\n",
      "         5.0      0.973     0.974     0.974       891\n",
      "         6.0      0.975     0.982     0.979       951\n",
      "         7.0      0.942     0.969     0.955       999\n",
      "         8.0      0.976     0.981     0.979       969\n",
      "         9.0      0.954     0.943     0.949      1021\n",
      "\n",
      "    accuracy                          0.972     10000\n",
      "   macro avg      0.972     0.972     0.972     10000\n",
      "weighted avg      0.972     0.972     0.972     10000\n",
      "\n",
      "\n",
      "Confusion matrix:\n",
      " [[ 971    1    0    1    0    2    2    1    2    0]\n",
      " [   0 1123    4    0    1    1    3    0    3    0]\n",
      " [   5    2 1010    4    0    1    1    7    1    1]\n",
      " [   0    0    2  984    1    6    0    7    5    5]\n",
      " [   2    1    3    0  947    1    4    1    1   22]\n",
      " [   3    1    3    9    0  868    5    2    1    0]\n",
      " [   7    5    1    2    2    4  934    0    2    1]\n",
      " [   2   13   13    2    4    0    0  968    0   26]\n",
      " [   3    0    3    5    2    3    1    3  951    3]\n",
      " [   7    4    1    9    6    5    1   10    3  963]]\n"
     ]
    }
   ],
   "source": [
    "# Get ELM results\n",
    "mnist_elm = ELM.ELM(\n",
    "    input_size=mnist_in,\n",
    "    h_size=2500,\n",
    "    output_size=mnist_class)\n",
    "\n",
    "lenet = LeNet5.LeNet5(mnist_elm, weight_train=True)\n",
    "\n",
    "X = torch.from_numpy(mnist['train_X']).float()[:60000]\n",
    "y = torch.from_numpy(mnist['train_y']).float()[:60000]\n",
    "\n",
    "train_start = t.time()\n",
    "result = lenet.train(X, y)\n",
    "train_end = t.time()\n",
    "tX = torch.from_numpy(mnist['test_X']).float()\n",
    "pred = lenet.predict(tX)[:10000]\n",
    "pred_arg = np.zeros(10000)\n",
    "\n",
    "for i in range(len(pred)):\n",
    "    pred_arg[i] = np.argmax(pred[i])\n",
    "\n",
    "\n",
    "print(f\"train: {train_end-train_start}\")\n",
    "utils.evaluation_summary('lenet PAE-RVFL - MNIST', pred_arg, mnist['test_y'])"
   ]
  },
  {
   "cell_type": "code",
   "execution_count": null,
   "metadata": {},
   "outputs": [],
   "source": [
    "# Show results"
   ]
  },
  {
   "cell_type": "markdown",
   "metadata": {},
   "source": [
    "## 2. CIFAR-10\n",
    "\n",
    "Dataset of colour (3-dimension) 32x32 images of objects of 10 classes:\n",
    "\n",
    "0.\tairplane\n",
    "1.\tautomobile\n",
    "2.\tbird\n",
    "3.\tcat\n",
    "4.\tdeer\n",
    "5.\tdog\n",
    "6.\tfrog\n",
    "7.\thorse\n",
    "8.\tship\n",
    "9.\ttruck\n",
    "\n",
    "*Train: 60,000*, *Test: 10,000*, *10 Classes*, *784 Inputs*"
   ]
  },
  {
   "cell_type": "code",
   "execution_count": null,
   "metadata": {},
   "outputs": [],
   "source": [
    "# Import dataset\n",
    "cifar10 = utils.load_cifar10()\n",
    "\n",
    "cifar_in = 32*32*3\n",
    "cifar_class = 10"
   ]
  },
  {
   "cell_type": "markdown",
   "metadata": {},
   "source": [
    "### SPAE-RVFL"
   ]
  },
  {
   "cell_type": "code",
   "execution_count": null,
   "metadata": {},
   "outputs": [],
   "source": [
    "device = torch.device(\"cpu\")\n",
    "\n",
    "pae_rvfl = SPAE_RVFL.SPAE_RVFL(\n",
    "    cifar_in, \n",
    "    cifar_class, \n",
    "    [100], \n",
    "    subnets=[5], \n",
    "    device=device, \n",
    "    r=[(1,1), (1,1)], sc=0.5, sb=0.5)\n",
    "\n",
    "lenet = LeNet5.LeNet5_3D(pae_rvfl)\n",
    "\n",
    "X = torch.from_numpy(cifar10['train_X']).float()[:5000]\n",
    "y = torch.from_numpy(cifar10['train_y']).float()[:5000]\n",
    "\n",
    "result = lenet.train(X, y)\n",
    "tX = torch.from_numpy(cifar10['test_X']).float()\n",
    "pred = lenet.predict(tX)[:10000]\n",
    "pred_arg = np.zeros(10000)\n",
    "\n",
    "for i in range(len(pred)):\n",
    "    pred_arg[i] = np.argmax(pred[i])\n",
    "\n",
    "utils.evaluation_summary('lenet PAE-RVFL - MNIST', pred_arg, cifar10['test_y'])"
   ]
  },
  {
   "cell_type": "code",
   "execution_count": null,
   "metadata": {},
   "outputs": [],
   "source": [
    "# Show results"
   ]
  },
  {
   "cell_type": "code",
   "execution_count": null,
   "metadata": {},
   "outputs": [],
   "source": []
  },
  {
   "cell_type": "code",
   "execution_count": null,
   "metadata": {},
   "outputs": [],
   "source": []
  },
  {
   "cell_type": "code",
   "execution_count": null,
   "metadata": {},
   "outputs": [],
   "source": []
  }
 ],
 "metadata": {
  "kernelspec": {
   "display_name": "Python 3",
   "language": "python",
   "name": "python3"
  },
  "language_info": {
   "codemirror_mode": {
    "name": "ipython",
    "version": 3
   },
   "file_extension": ".py",
   "mimetype": "text/x-python",
   "name": "python",
   "nbconvert_exporter": "python",
   "pygments_lexer": "ipython3",
   "version": "3.8.5"
  }
 },
 "nbformat": 4,
 "nbformat_minor": 4
}

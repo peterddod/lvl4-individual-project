{
 "cells": [
  {
   "cell_type": "markdown",
   "metadata": {},
   "source": [
    "# Algorithm Testing\n",
    "A notebook used to compare algorithm performance.\n"
   ]
  },
  {
   "cell_type": "code",
   "execution_count": 1,
   "metadata": {},
   "outputs": [],
   "source": [
    "### Imports\n",
    "from nitools import utils \n",
    "from nitools.classifiers import PAE_RVFL, ELM, AE_ELM, PAE_ELM\n",
    "from nitools.models import LeNet5, ResNet18\n",
    "from nitools.operations import resetseed\n",
    "\n",
    "import numpy as np\n",
    "import random\n",
    "import torch\n",
    "import time as t"
   ]
  },
  {
   "cell_type": "markdown",
   "metadata": {},
   "source": [
    "## 1. MNIST\n",
    "\n",
    "Dataset of greyscale 28x28 images of handwritten digits. \n",
    "\n",
    "*Train: 60,000*, *Test: 10,000*, *10 Classes*, *784 Inputs*\n"
   ]
  },
  {
   "cell_type": "code",
   "execution_count": 2,
   "metadata": {},
   "outputs": [],
   "source": [
    "# Import dataset\n",
    "mnist = utils.load_mnist()\n",
    "\n",
    "mnist_in = 784\n",
    "mnist_class = 10"
   ]
  },
  {
   "cell_type": "markdown",
   "metadata": {},
   "source": [
    "### pAE-RVFL"
   ]
  },
  {
   "cell_type": "code",
   "execution_count": 20,
   "metadata": {
    "scrolled": false
   },
   "outputs": [
    {
     "name": "stdout",
     "output_type": "stream",
     "text": [
      "train: 21.289515018463135\n",
      "Evaluation for: lenet PAE-RVFL - MNIST\n",
      "Classifier 'lenet PAE-RVFL - MNIST' has Acc=0.961 P=0.961 R=0.961 F1=0.961\n",
      "              precision    recall  f1-score   support\n",
      "\n",
      "         0.0      0.991     0.962     0.976      1009\n",
      "         1.0      0.989     0.959     0.974      1171\n",
      "         2.0      0.952     0.967     0.959      1015\n",
      "         3.0      0.963     0.958     0.961      1016\n",
      "         4.0      0.951     0.974     0.962       959\n",
      "         5.0      0.955     0.961     0.958       887\n",
      "         6.0      0.961     0.965     0.963       954\n",
      "         7.0      0.942     0.969     0.955       999\n",
      "         8.0      0.954     0.951     0.952       977\n",
      "         9.0      0.948     0.945     0.947      1013\n",
      "\n",
      "    accuracy                          0.961     10000\n",
      "   macro avg      0.961     0.961     0.961     10000\n",
      "weighted avg      0.961     0.961     0.961     10000\n",
      "\n",
      "\n",
      "Confusion matrix:\n",
      " [[ 971    0    1    0    0    1    3    1    3    0]\n",
      " [   0 1123    2    2    0    0    4    0    4    0]\n",
      " [   8    2  982   10    2    0    2   12   13    1]\n",
      " [   0    1    5  973    0   10    0    5    9    7]\n",
      " [   0    7    3    0  934    0    7    0    2   29]\n",
      " [   4    3    0   12    1  852   10    1    7    2]\n",
      " [   7    4    2    1    3   15  921    0    5    0]\n",
      " [   0   21   16    4    4    0    1  968    1   13]\n",
      " [   9    2    4    6    5    7    5    3  929    4]\n",
      " [  10    8    0    8   10    2    1    9    4  957]]\n"
     ]
    }
   ],
   "source": [
    "device = torch.device(\"cpu\")\n",
    "\n",
    "SEED = 22\n",
    "resetseed(SEED)\n",
    "\n",
    "pae_rvfl = PAE_RVFL(\n",
    "    784, \n",
    "    400, \n",
    "    mnist_class, \n",
    "    subnets=1,\n",
    "    device=device, \n",
    "    r=(1,1), sc=0.5, sb=0.5, c=10, ae_iters=3)\n",
    "\n",
    "lenet = LeNet5(pae_rvfl, weight_train=True)\n",
    "\n",
    "X = torch.from_numpy(mnist['train_X']).float()[:60000]\n",
    "y = torch.from_numpy(mnist['train_y']).float()[:60000]\n",
    "\n",
    "train_start = t.time()\n",
    "result = lenet.train(X, y)\n",
    "train_end = t.time()\n",
    "tX = torch.from_numpy(mnist['test_X']).float()\n",
    "pred = lenet.predict(tX)[:10000]\n",
    "pred_arg = np.zeros(10000)\n",
    "\n",
    "for i in range(len(pred)):\n",
    "    pred_arg[i] = np.argmax(pred[i])\n",
    "\n",
    "print(f\"train: {train_end-train_start}\")\n",
    "utils.evaluation_summary('lenet PAE-RVFL - MNIST', pred_arg, mnist['test_y'])"
   ]
  },
  {
   "cell_type": "markdown",
   "metadata": {},
   "source": [
    "### ELM"
   ]
  },
  {
   "cell_type": "code",
   "execution_count": 9,
   "metadata": {},
   "outputs": [
    {
     "ename": "RuntimeError",
     "evalue": "The size of tensor a (10) must match the size of tensor b (6) at non-singleton dimension 3",
     "output_type": "error",
     "traceback": [
      "\u001b[0;31m---------------------------------------------------------------------------\u001b[0m",
      "\u001b[0;31mRuntimeError\u001b[0m                              Traceback (most recent call last)",
      "File \u001b[0;32m~/repos/lvl4-individual-project/src/nitools/architecture/Pipeline.py:21\u001b[0m, in \u001b[0;36mPipeline.train\u001b[0;34m(self, X)\u001b[0m\n\u001b[1;32m     20\u001b[0m \u001b[38;5;28;01mtry\u001b[39;00m:\n\u001b[0;32m---> 21\u001b[0m     temp \u001b[38;5;241m=\u001b[39m \u001b[43mmodule\u001b[49m\u001b[38;5;241;43m.\u001b[39;49m\u001b[43mtrain\u001b[49m\u001b[43m(\u001b[49m\u001b[43mX\u001b[49m\u001b[43m)\u001b[49m\n\u001b[1;32m     22\u001b[0m     X \u001b[38;5;241m=\u001b[39m temp\n",
      "File \u001b[0;32m~/repos/lvl4-individual-project/src/nitools/convolution/ResConv2D.py:26\u001b[0m, in \u001b[0;36mResConv2D.train\u001b[0;34m(self, X)\u001b[0m\n\u001b[1;32m     25\u001b[0m \u001b[38;5;28;01mdef\u001b[39;00m \u001b[38;5;21mtrain\u001b[39m(\u001b[38;5;28mself\u001b[39m, X):\n\u001b[0;32m---> 26\u001b[0m     \u001b[38;5;28;01mreturn\u001b[39;00m \u001b[43mtorch\u001b[49m\u001b[38;5;241;43m.\u001b[39;49m\u001b[43madd\u001b[49m\u001b[43m(\u001b[49m\u001b[38;5;28;43mself\u001b[39;49m\u001b[38;5;241;43m.\u001b[39;49m\u001b[43m_layer\u001b[49m\u001b[38;5;241;43m.\u001b[39;49m\u001b[43mtrain\u001b[49m\u001b[43m(\u001b[49m\u001b[43mX\u001b[49m\u001b[43m)\u001b[49m\u001b[43m,\u001b[49m\u001b[43m \u001b[49m\u001b[43mX\u001b[49m\u001b[43m)\u001b[49m\n",
      "\u001b[0;31mRuntimeError\u001b[0m: The size of tensor a (10) must match the size of tensor b (6) at non-singleton dimension 3",
      "\nDuring handling of the above exception, another exception occurred:\n",
      "\u001b[0;31mRuntimeError\u001b[0m                              Traceback (most recent call last)",
      "Input \u001b[0;32mIn [9]\u001b[0m, in \u001b[0;36m<module>\u001b[0;34m\u001b[0m\n\u001b[1;32m     14\u001b[0m y \u001b[38;5;241m=\u001b[39m torch\u001b[38;5;241m.\u001b[39mfrom_numpy(mnist[\u001b[38;5;124m'\u001b[39m\u001b[38;5;124mtrain_y\u001b[39m\u001b[38;5;124m'\u001b[39m])\u001b[38;5;241m.\u001b[39mfloat()[:\u001b[38;5;241m5000\u001b[39m]\n\u001b[1;32m     16\u001b[0m train_start \u001b[38;5;241m=\u001b[39m t\u001b[38;5;241m.\u001b[39mtime()\n\u001b[0;32m---> 17\u001b[0m result \u001b[38;5;241m=\u001b[39m \u001b[43mlenet\u001b[49m\u001b[38;5;241;43m.\u001b[39;49m\u001b[43mtrain\u001b[49m\u001b[43m(\u001b[49m\u001b[43mX\u001b[49m\u001b[43m,\u001b[49m\u001b[43m \u001b[49m\u001b[43my\u001b[49m\u001b[43m)\u001b[49m\n\u001b[1;32m     18\u001b[0m train_end \u001b[38;5;241m=\u001b[39m t\u001b[38;5;241m.\u001b[39mtime()\n\u001b[1;32m     19\u001b[0m tX \u001b[38;5;241m=\u001b[39m torch\u001b[38;5;241m.\u001b[39mfrom_numpy(mnist[\u001b[38;5;124m'\u001b[39m\u001b[38;5;124mtest_X\u001b[39m\u001b[38;5;124m'\u001b[39m])\u001b[38;5;241m.\u001b[39mfloat()\n",
      "File \u001b[0;32m~/repos/lvl4-individual-project/src/nitools/models/ResNet18.py:41\u001b[0m, in \u001b[0;36mResNet18.train\u001b[0;34m(self, X, y)\u001b[0m\n\u001b[1;32m     38\u001b[0m w_h \u001b[38;5;241m=\u001b[39m \u001b[38;5;28mint\u001b[39m(np\u001b[38;5;241m.\u001b[39msqrt(X\u001b[38;5;241m.\u001b[39msize()[\u001b[38;5;241m1\u001b[39m]))\n\u001b[1;32m     39\u001b[0m n \u001b[38;5;241m=\u001b[39m \u001b[38;5;28mint\u001b[39m(X\u001b[38;5;241m.\u001b[39msize()[\u001b[38;5;241m0\u001b[39m])\n\u001b[0;32m---> 41\u001b[0m X \u001b[38;5;241m=\u001b[39m \u001b[38;5;28;43mself\u001b[39;49m\u001b[38;5;241;43m.\u001b[39;49m\u001b[43m_model\u001b[49m\u001b[38;5;241;43m.\u001b[39;49m\u001b[43mtrain\u001b[49m\u001b[43m(\u001b[49m\u001b[43mtorch\u001b[49m\u001b[38;5;241;43m.\u001b[39;49m\u001b[43mreshape\u001b[49m\u001b[43m(\u001b[49m\u001b[43mX\u001b[49m\u001b[43m,\u001b[49m\u001b[43m \u001b[49m\u001b[43m(\u001b[49m\u001b[43mn\u001b[49m\u001b[43m,\u001b[49m\u001b[43m \u001b[49m\u001b[38;5;241;43m1\u001b[39;49m\u001b[43m,\u001b[49m\u001b[43m \u001b[49m\u001b[43mw_h\u001b[49m\u001b[43m,\u001b[49m\u001b[43m \u001b[49m\u001b[43mw_h\u001b[49m\u001b[43m)\u001b[49m\u001b[43m)\u001b[49m\u001b[43m)\u001b[49m\n\u001b[1;32m     42\u001b[0m C \u001b[38;5;241m=\u001b[39m torch\u001b[38;5;241m.\u001b[39mreshape(X, (n, w_h\u001b[38;5;241m*\u001b[39m\u001b[38;5;241m*\u001b[39m\u001b[38;5;241m2\u001b[39m))\u001b[38;5;241m.\u001b[39mdetach()\n\u001b[1;32m     44\u001b[0m H \u001b[38;5;241m=\u001b[39m \u001b[38;5;28mself\u001b[39m\u001b[38;5;241m.\u001b[39m_classifier\u001b[38;5;241m.\u001b[39mtrain(C, y)\n",
      "File \u001b[0;32m~/repos/lvl4-individual-project/src/nitools/architecture/Pipeline.py:24\u001b[0m, in \u001b[0;36mPipeline.train\u001b[0;34m(self, X)\u001b[0m\n\u001b[1;32m     22\u001b[0m         X \u001b[38;5;241m=\u001b[39m temp\n\u001b[1;32m     23\u001b[0m     \u001b[38;5;28;01mexcept\u001b[39;00m:\n\u001b[0;32m---> 24\u001b[0m         temp \u001b[38;5;241m=\u001b[39m \u001b[43mmodule\u001b[49m\u001b[43m(\u001b[49m\u001b[43mX\u001b[49m\u001b[43m)\u001b[49m\n\u001b[1;32m     25\u001b[0m         X \u001b[38;5;241m=\u001b[39m temp\n\u001b[1;32m     28\u001b[0m \u001b[38;5;28;01mreturn\u001b[39;00m X\n",
      "File \u001b[0;32m~/repos/lvl4-individual-project/src/nitools/convolution/ResConv2D.py:20\u001b[0m, in \u001b[0;36mResConv2D.__call__\u001b[0;34m(self, arg)\u001b[0m\n\u001b[1;32m     19\u001b[0m \u001b[38;5;28;01mdef\u001b[39;00m \u001b[38;5;21m__call__\u001b[39m(\u001b[38;5;28mself\u001b[39m, arg):\n\u001b[0;32m---> 20\u001b[0m     \u001b[38;5;28;01mreturn\u001b[39;00m \u001b[38;5;28;43mself\u001b[39;49m\u001b[38;5;241;43m.\u001b[39;49m\u001b[43mforward\u001b[49m\u001b[43m(\u001b[49m\u001b[43marg\u001b[49m\u001b[43m)\u001b[49m\n",
      "File \u001b[0;32m~/repos/lvl4-individual-project/src/nitools/convolution/ResConv2D.py:23\u001b[0m, in \u001b[0;36mResConv2D.forward\u001b[0;34m(self, X)\u001b[0m\n\u001b[1;32m     22\u001b[0m \u001b[38;5;28;01mdef\u001b[39;00m \u001b[38;5;21mforward\u001b[39m(\u001b[38;5;28mself\u001b[39m, X):\n\u001b[0;32m---> 23\u001b[0m     \u001b[38;5;28;01mreturn\u001b[39;00m \u001b[43mtorch\u001b[49m\u001b[38;5;241;43m.\u001b[39;49m\u001b[43madd\u001b[49m\u001b[43m(\u001b[49m\u001b[38;5;28;43mself\u001b[39;49m\u001b[38;5;241;43m.\u001b[39;49m\u001b[43m_layer\u001b[49m\u001b[43m(\u001b[49m\u001b[43mX\u001b[49m\u001b[43m)\u001b[49m\u001b[43m,\u001b[49m\u001b[43m \u001b[49m\u001b[43mX\u001b[49m\u001b[43m)\u001b[49m\n",
      "\u001b[0;31mRuntimeError\u001b[0m: The size of tensor a (10) must match the size of tensor b (6) at non-singleton dimension 3"
     ]
    }
   ],
   "source": [
    "SEED = 22\n",
    "resetseed(SEED)\n",
    "\n",
    "# Get ELM results\n",
    "mnist_elm = AE_ELM.AE_ELM(  # TODO: batchnorm input weights to ae?\n",
    "    input_size=mnist_in,\n",
    "    h_size=100,\n",
    "    output_size=mnist_class,\n",
    "    ae_iters=3)\n",
    "\n",
    "lenet = ResNet18.ResNet18(mnist_elm, weight_train=True)\n",
    "\n",
    "X = torch.from_numpy(mnist['train_X']).float()[:5000]\n",
    "y = torch.from_numpy(mnist['train_y']).float()[:5000]\n",
    "\n",
    "train_start = t.time()\n",
    "result = lenet.train(X, y)\n",
    "train_end = t.time()\n",
    "tX = torch.from_numpy(mnist['test_X']).float()\n",
    "pred = lenet.predict(tX)[:10000]\n",
    "pred_arg = np.zeros(10000)\n",
    "\n",
    "for i in range(len(pred)):\n",
    "    pred_arg[i] = np.argmax(pred[i])\n",
    "\n",
    "\n",
    "print(f\"train: {train_end-train_start}\")\n",
    "utils.evaluation_summary('lenet AE-ELM - MNIST', pred_arg, mnist['test_y'])"
   ]
  },
  {
   "cell_type": "code",
   "execution_count": null,
   "metadata": {},
   "outputs": [],
   "source": [
    "SEED = 22\n",
    "resetseed(SEED)\n",
    "\n",
    "# Get ELM results\n",
    "mnist_elm = ELM.ELM(  # TODO: batchnorm input weights to ae?\n",
    "    input_size=mnist_in,\n",
    "    h_size=1000,\n",
    "    output_size=mnist_class)\n",
    "\n",
    "lenet = LeNet5.LeNet5(mnist_elm, weight_train=True)\n",
    "\n",
    "X = torch.from_numpy(mnist['train_X']).float()[:60000]\n",
    "y = torch.from_numpy(mnist['train_y']).float()[:60000]\n",
    "\n",
    "train_start = t.time()\n",
    "result = lenet.train(X, y)\n",
    "train_end = t.time()\n",
    "tX = torch.from_numpy(mnist['test_X']).float()\n",
    "pred = lenet.predict(tX)[:10000]\n",
    "pred_arg = np.zeros(10000)\n",
    "\n",
    "for i in range(len(pred)):\n",
    "    pred_arg[i] = np.argmax(pred[i])\n",
    "\n",
    "\n",
    "print(f\"train: {train_end-train_start}\")\n",
    "utils.evaluation_summary('lenet  - MNIST', pred_arg, mnist['test_y'])"
   ]
  },
  {
   "cell_type": "markdown",
   "metadata": {},
   "source": [
    "## 2. CIFAR-10\n",
    "\n",
    "Dataset of colour (3-dimension) 32x32 images of objects of 10 classes:\n",
    "\n",
    "0.\tairplane\n",
    "1.\tautomobile\n",
    "2.\tbird\n",
    "3.\tcat\n",
    "4.\tdeer\n",
    "5.\tdog\n",
    "6.\tfrog\n",
    "7.\thorse\n",
    "8.\tship\n",
    "9.\ttruck\n",
    "\n",
    "*Train: 60,000*, *Test: 10,000*, *10 Classes*, *784 Inputs*"
   ]
  },
  {
   "cell_type": "code",
   "execution_count": null,
   "metadata": {},
   "outputs": [],
   "source": [
    "# Import dataset\n",
    "cifar10 = utils.load_cifar10()\n",
    "\n",
    "cifar_in = 32*32*3\n",
    "cifar_class = 10"
   ]
  },
  {
   "cell_type": "markdown",
   "metadata": {},
   "source": [
    "### SPAE-RVFL"
   ]
  },
  {
   "cell_type": "code",
   "execution_count": null,
   "metadata": {},
   "outputs": [],
   "source": [
    "device = torch.device(\"cpu\")\n",
    "\n",
    "pae_rvfl = SPAE_RVFL.SPAE_RVFL(\n",
    "    cifar_in, \n",
    "    cifar_class, \n",
    "    [100], \n",
    "    subnets=[5], \n",
    "    device=device, \n",
    "    r=[(1,1), (1,1)], sc=0.5, sb=0.5)\n",
    "\n",
    "lenet = LeNet5.LeNet5_3D(pae_rvfl)\n",
    "\n",
    "X = torch.from_numpy(cifar10['train_X']).float()[:5000]\n",
    "y = torch.from_numpy(cifar10['train_y']).float()[:5000]\n",
    "\n",
    "result = lenet.train(X, y)\n",
    "tX = torch.from_numpy(cifar10['test_X']).float()\n",
    "pred = lenet.predict(tX)[:10000]\n",
    "pred_arg = np.zeros(10000)\n",
    "\n",
    "for i in range(len(pred)):\n",
    "    pred_arg[i] = np.argmax(pred[i])\n",
    "\n",
    "utils.evaluation_summary('lenet PAE-RVFL - MNIST', pred_arg, cifar10['test_y'])"
   ]
  },
  {
   "cell_type": "code",
   "execution_count": null,
   "metadata": {},
   "outputs": [],
   "source": [
    "# Show results"
   ]
  },
  {
   "cell_type": "code",
   "execution_count": null,
   "metadata": {},
   "outputs": [],
   "source": []
  },
  {
   "cell_type": "code",
   "execution_count": null,
   "metadata": {},
   "outputs": [],
   "source": []
  },
  {
   "cell_type": "code",
   "execution_count": 24,
   "metadata": {},
   "outputs": [
    {
     "name": "stdout",
     "output_type": "stream",
     "text": [
      "train: 139.8301920890808\n",
      "Evaluation for: lenet PAE-RVFL - MNIST\n",
      "Classifier 'lenet PAE-RVFL - MNIST' has Acc=0.981 P=0.981 R=0.980 F1=0.980\n",
      "              precision    recall  f1-score   support\n",
      "\n",
      "         0.0      0.991     0.982     0.986       989\n",
      "         1.0      0.992     0.991     0.992      1136\n",
      "         2.0      0.978     0.983     0.981      1026\n",
      "         3.0      0.978     0.984     0.981      1004\n",
      "         4.0      0.976     0.988     0.982       970\n",
      "         5.0      0.982     0.978     0.980       896\n",
      "         6.0      0.986     0.982     0.984       962\n",
      "         7.0      0.976     0.974     0.975      1030\n",
      "         8.0      0.980     0.970     0.975       985\n",
      "         9.0      0.966     0.973     0.970      1002\n",
      "\n",
      "    accuracy                          0.981     10000\n",
      "   macro avg      0.981     0.980     0.980     10000\n",
      "weighted avg      0.981     0.981     0.981     10000\n",
      "\n",
      "\n",
      "Confusion matrix:\n",
      " [[ 971    1    1    0    0    2    3    1    1    0]\n",
      " [   0 1126    1    2    1    1    2    0    2    0]\n",
      " [   3    0 1009    1    2    0    1    7    9    0]\n",
      " [   0    0    3  988    0    7    0    5    6    1]\n",
      " [   0    0    1    0  958    0    4    1    2   16]\n",
      " [   2    0    0    4    0  876    6    1    3    0]\n",
      " [   5    2    0    0    2    4  945    0    0    0]\n",
      " [   1    5    9    0    1    0    0 1003    2    7]\n",
      " [   4    0    2    1    0    3    1    5  955    3]\n",
      " [   3    2    0    8    6    3    0    7    5  975]]\n"
     ]
    }
   ],
   "source": [
    "device = torch.device(\"cpu\")\n",
    "\n",
    "SEED = 22\n",
    "resetseed(SEED)\n",
    "\n",
    "pae_elm = PAE_ELM(\n",
    "    784, \n",
    "    700, \n",
    "    mnist_class, \n",
    "    subnets=10,\n",
    "    device=device, \n",
    "    c=10, ae_iters=5)\n",
    "\n",
    "lenet = LeNet5(pae_elm, weight_train=False)\n",
    "\n",
    "X = torch.from_numpy(mnist['train_X']).float()[:60000]\n",
    "y = torch.from_numpy(mnist['train_y']).float()[:60000]\n",
    "\n",
    "train_start = t.time()\n",
    "result = lenet.train(X, y)\n",
    "train_end = t.time()\n",
    "tX = torch.from_numpy(mnist['test_X']).float()\n",
    "pred = lenet.predict(tX)[:10000]\n",
    "pred_arg = np.zeros(10000)\n",
    "\n",
    "for i in range(len(pred)):\n",
    "    pred_arg[i] = np.argmax(pred[i])\n",
    "\n",
    "print(f\"train: {train_end-train_start}\")\n",
    "utils.evaluation_summary('lenet PAE-ELM - MNIST', pred_arg, mnist['test_y'])"
   ]
  },
  {
   "cell_type": "code",
   "execution_count": null,
   "metadata": {},
   "outputs": [],
   "source": []
  }
 ],
 "metadata": {
  "kernelspec": {
   "display_name": "Python 3 (ipykernel)",
   "language": "python",
   "name": "python3"
  },
  "language_info": {
   "codemirror_mode": {
    "name": "ipython",
    "version": 3
   },
   "file_extension": ".py",
   "mimetype": "text/x-python",
   "name": "python",
   "nbconvert_exporter": "python",
   "pygments_lexer": "ipython3",
   "version": "3.9.5"
  }
 },
 "nbformat": 4,
 "nbformat_minor": 4
}

{
 "cells": [
  {
   "cell_type": "markdown",
   "metadata": {},
   "source": [
    "# Algorithm Testing\n",
    "A notebook used to compare algorithm performance.\n"
   ]
  },
  {
   "cell_type": "code",
   "execution_count": 1,
   "metadata": {},
   "outputs": [],
   "source": [
    "### Imports\n",
    "from nitools import utils \n",
    "from nitools.classifiers import PAE_RVFL, ELM, AE_ELM \n",
    "from nitools.models import LeNet5, ResNet18\n",
    "from nitools.operations import resetseed\n",
    "\n",
    "import numpy as np\n",
    "import random\n",
    "import torch\n",
    "import time as t"
   ]
  },
  {
   "cell_type": "markdown",
   "metadata": {},
   "source": [
    "## 1. MNIST\n",
    "\n",
    "Dataset of greyscale 28x28 images of handwritten digits. \n",
    "\n",
    "*Train: 60,000*, *Test: 10,000*, *10 Classes*, *784 Inputs*\n"
   ]
  },
  {
   "cell_type": "code",
   "execution_count": 2,
   "metadata": {},
   "outputs": [],
   "source": [
    "# Import dataset\n",
    "mnist = utils.load_mnist()\n",
    "\n",
    "mnist_in = 784\n",
    "mnist_class = 10"
   ]
  },
  {
   "cell_type": "markdown",
   "metadata": {},
   "source": [
    "### pAE-RVFL"
   ]
  },
  {
   "cell_type": "code",
   "execution_count": null,
   "metadata": {
    "scrolled": false
   },
   "outputs": [],
   "source": [
    "device = torch.device(\"cpu\")\n",
    "\n",
    "SEED = 22\n",
    "resetseed(SEED)\n",
    "\n",
    "pae_rvfl = PAE_RVFL.PAE_RVFL(\n",
    "    784, \n",
    "    150, \n",
    "    mnist_class, \n",
    "                subnets=10,\n",
    "    device=device, \n",
    "    r=(1,1), sc=0.5, sb=0.5, c=1000, ae_iters=3)\n",
    "\n",
    "lenet = LeNet5.LeNet5(pae_rvfl, weight_train=True)\n",
    "\n",
    "X = torch.from_numpy(mnist['train_X']).float()[:60000]\n",
    "y = torch.from_numpy(mnist['train_y']).float()[:60000]\n",
    "\n",
    "train_start = t.time()\n",
    "result = lenet.train(X, y)\n",
    "train_end = t.time()\n",
    "tX = torch.from_numpy(mnist['test_X']).float()\n",
    "pred = lenet.predict(tX)[:10000]\n",
    "pred_arg = np.zeros(10000)\n",
    "\n",
    "for i in range(len(pred)):\n",
    "    pred_arg[i] = np.argmax(pred[i])\n",
    "\n",
    "print(f\"train: {train_end-train_start}\")\n",
    "utils.evaluation_summary('lenet PAE-RVFL - MNIST', pred_arg, mnist['test_y'])"
   ]
  },
  {
   "cell_type": "markdown",
   "metadata": {},
   "source": [
    "### ELM"
   ]
  },
  {
   "cell_type": "code",
   "execution_count": 9,
   "metadata": {},
   "outputs": [
    {
     "name": "stdout",
     "output_type": "stream",
     "text": [
      "train: 97.86511611938477\n",
      "Evaluation for: lenet PAE-RVFL - MNIST\n",
      "Classifier 'lenet PAE-RVFL - MNIST' has Acc=0.979 P=0.978 R=0.979 F1=0.978\n",
      "              precision    recall  f1-score   support\n",
      "\n",
      "         0.0      0.992     0.982     0.987       990\n",
      "         1.0      0.995     0.979     0.987      1153\n",
      "         2.0      0.977     0.984     0.981      1024\n",
      "         3.0      0.981     0.977     0.979      1014\n",
      "         4.0      0.969     0.984     0.977       967\n",
      "         5.0      0.976     0.979     0.978       890\n",
      "         6.0      0.979     0.980     0.980       957\n",
      "         7.0      0.966     0.974     0.970      1020\n",
      "         8.0      0.984     0.979     0.981       979\n",
      "         9.0      0.964     0.967     0.966      1006\n",
      "\n",
      "    accuracy                          0.979     10000\n",
      "   macro avg      0.978     0.979     0.978     10000\n",
      "weighted avg      0.979     0.979     0.979     10000\n",
      "\n",
      "\n",
      "Confusion matrix:\n",
      " [[ 972    0    1    0    1    2    3    1    0    0]\n",
      " [   0 1129    3    0    0    1    1    0    1    0]\n",
      " [   5    1 1008    1    1    0    3    8    5    0]\n",
      " [   0    1    2  991    0    5    0    5    4    2]\n",
      " [   0    0    0    0  952    0    5    3    2   20]\n",
      " [   3    0    2    7    0  871    5    1    2    1]\n",
      " [   3    3    0    0    3    8  938    0    3    0]\n",
      " [   0   16    6    0    5    0    0  993    0    8]\n",
      " [   1    0    2    6    0    2    1    2  958    2]\n",
      " [   6    3    0    9    5    1    1    7    4  973]]\n"
     ]
    }
   ],
   "source": [
    "SEED = 22\n",
    "resetseed(SEED)\n",
    "\n",
    "# Get ELM results\n",
    "mnist_elm = AE_ELM.AE_ELM(  # TODO: batchnorm input weights to ae?\n",
    "    input_size=mnist_in,\n",
    "    h_size=3500,\n",
    "    output_size=mnist_class)\n",
    "\n",
    "lenet = LeNet5.LeNet5(mnist_elm, weight_train=True)\n",
    "\n",
    "X = torch.from_numpy(mnist['train_X']).float()[:60000]\n",
    "y = torch.from_numpy(mnist['train_y']).float()[:60000]\n",
    "\n",
    "train_start = t.time()\n",
    "result = lenet.train(X, y)\n",
    "train_end = t.time()\n",
    "tX = torch.from_numpy(mnist['test_X']).float()\n",
    "pred = lenet.predict(tX)[:10000]\n",
    "pred_arg = np.zeros(10000)\n",
    "\n",
    "for i in range(len(pred)):\n",
    "    pred_arg[i] = np.argmax(pred[i])\n",
    "\n",
    "\n",
    "print(f\"train: {train_end-train_start}\")\n",
    "utils.evaluation_summary('lenet PAE-RVFL - MNIST', pred_arg, mnist['test_y'])"
   ]
  },
  {
   "cell_type": "code",
   "execution_count": 10,
   "metadata": {},
   "outputs": [
    {
     "name": "stdout",
     "output_type": "stream",
     "text": [
      "train: 87.53362679481506\n",
      "Evaluation for: lenet PAE-RVFL - MNIST\n",
      "Classifier 'lenet PAE-RVFL - MNIST' has Acc=0.976 P=0.976 R=0.976 F1=0.976\n",
      "              precision    recall  f1-score   support\n",
      "\n",
      "         0.0      0.994     0.983     0.988       991\n",
      "         1.0      0.994     0.977     0.986      1154\n",
      "         2.0      0.980     0.977     0.978      1035\n",
      "         3.0      0.979     0.976     0.978      1013\n",
      "         4.0      0.963     0.986     0.975       959\n",
      "         5.0      0.980     0.972     0.976       899\n",
      "         6.0      0.975     0.983     0.979       950\n",
      "         7.0      0.963     0.970     0.966      1021\n",
      "         8.0      0.975     0.975     0.975       974\n",
      "         9.0      0.957     0.962     0.960      1004\n",
      "\n",
      "    accuracy                          0.976     10000\n",
      "   macro avg      0.976     0.976     0.976     10000\n",
      "weighted avg      0.976     0.976     0.976     10000\n",
      "\n",
      "\n",
      "Confusion matrix:\n",
      " [[ 974    0    0    0    0    2    2    1    1    0]\n",
      " [   0 1128    3    0    0    2    1    0    1    0]\n",
      " [   3    2 1011    1    0    1    1    8    5    0]\n",
      " [   0    1    3  989    0    5    0    4    5    3]\n",
      " [   1    1    3    0  946    0    6    1    2   22]\n",
      " [   3    0    0    6    0  874    4    2    2    1]\n",
      " [   3    4    2    1    3    8  934    0    3    0]\n",
      " [   0   15   10    1    1    0    0  990    1   10]\n",
      " [   2    0    3    4    2    5    2    4  950    2]\n",
      " [   5    3    0   11    7    2    0   11    4  966]]\n"
     ]
    }
   ],
   "source": [
    "SEED = 22\n",
    "resetseed(SEED)\n",
    "\n",
    "# Get ELM results\n",
    "mnist_elm = ELM.ELM(  # TODO: batchnorm input weights to ae?\n",
    "    input_size=mnist_in,\n",
    "    h_size=3500,\n",
    "    output_size=mnist_class)\n",
    "\n",
    "lenet = LeNet5.LeNet5(mnist_elm, weight_train=True)\n",
    "\n",
    "X = torch.from_numpy(mnist['train_X']).float()[:60000]\n",
    "y = torch.from_numpy(mnist['train_y']).float()[:60000]\n",
    "\n",
    "train_start = t.time()\n",
    "result = lenet.train(X, y)\n",
    "train_end = t.time()\n",
    "tX = torch.from_numpy(mnist['test_X']).float()\n",
    "pred = lenet.predict(tX)[:10000]\n",
    "pred_arg = np.zeros(10000)\n",
    "\n",
    "for i in range(len(pred)):\n",
    "    pred_arg[i] = np.argmax(pred[i])\n",
    "\n",
    "\n",
    "print(f\"train: {train_end-train_start}\")\n",
    "utils.evaluation_summary('lenet PAE-RVFL - MNIST', pred_arg, mnist['test_y'])"
   ]
  },
  {
   "cell_type": "markdown",
   "metadata": {},
   "source": [
    "## 2. CIFAR-10\n",
    "\n",
    "Dataset of colour (3-dimension) 32x32 images of objects of 10 classes:\n",
    "\n",
    "0.\tairplane\n",
    "1.\tautomobile\n",
    "2.\tbird\n",
    "3.\tcat\n",
    "4.\tdeer\n",
    "5.\tdog\n",
    "6.\tfrog\n",
    "7.\thorse\n",
    "8.\tship\n",
    "9.\ttruck\n",
    "\n",
    "*Train: 60,000*, *Test: 10,000*, *10 Classes*, *784 Inputs*"
   ]
  },
  {
   "cell_type": "code",
   "execution_count": null,
   "metadata": {},
   "outputs": [],
   "source": [
    "# Import dataset\n",
    "cifar10 = utils.load_cifar10()\n",
    "\n",
    "cifar_in = 32*32*3\n",
    "cifar_class = 10"
   ]
  },
  {
   "cell_type": "markdown",
   "metadata": {},
   "source": [
    "### SPAE-RVFL"
   ]
  },
  {
   "cell_type": "code",
   "execution_count": null,
   "metadata": {},
   "outputs": [],
   "source": [
    "device = torch.device(\"cpu\")\n",
    "\n",
    "pae_rvfl = SPAE_RVFL.SPAE_RVFL(\n",
    "    cifar_in, \n",
    "    cifar_class, \n",
    "    [100], \n",
    "    subnets=[5], \n",
    "    device=device, \n",
    "    r=[(1,1), (1,1)], sc=0.5, sb=0.5)\n",
    "\n",
    "lenet = LeNet5.LeNet5_3D(pae_rvfl)\n",
    "\n",
    "X = torch.from_numpy(cifar10['train_X']).float()[:5000]\n",
    "y = torch.from_numpy(cifar10['train_y']).float()[:5000]\n",
    "\n",
    "result = lenet.train(X, y)\n",
    "tX = torch.from_numpy(cifar10['test_X']).float()\n",
    "pred = lenet.predict(tX)[:10000]\n",
    "pred_arg = np.zeros(10000)\n",
    "\n",
    "for i in range(len(pred)):\n",
    "    pred_arg[i] = np.argmax(pred[i])\n",
    "\n",
    "utils.evaluation_summary('lenet PAE-RVFL - MNIST', pred_arg, cifar10['test_y'])"
   ]
  },
  {
   "cell_type": "code",
   "execution_count": null,
   "metadata": {},
   "outputs": [],
   "source": [
    "# Show results"
   ]
  },
  {
   "cell_type": "code",
   "execution_count": null,
   "metadata": {},
   "outputs": [],
   "source": []
  },
  {
   "cell_type": "code",
   "execution_count": null,
   "metadata": {},
   "outputs": [],
   "source": []
  },
  {
   "cell_type": "code",
   "execution_count": null,
   "metadata": {},
   "outputs": [],
   "source": []
  }
 ],
 "metadata": {
  "kernelspec": {
   "display_name": "Python 3 (ipykernel)",
   "language": "python",
   "name": "python3"
  },
  "language_info": {
   "codemirror_mode": {
    "name": "ipython",
    "version": 3
   },
   "file_extension": ".py",
   "mimetype": "text/x-python",
   "name": "python",
   "nbconvert_exporter": "python",
   "pygments_lexer": "ipython3",
   "version": "3.9.5"
  }
 },
 "nbformat": 4,
 "nbformat_minor": 4
}

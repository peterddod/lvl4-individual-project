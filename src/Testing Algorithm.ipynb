{
 "cells": [
  {
   "cell_type": "markdown",
   "metadata": {},
   "source": [
    "# Algorithm Testing\n",
    "A notebook used to compare algorithm performance.\n"
   ]
  },
  {
   "cell_type": "code",
   "execution_count": 1,
   "metadata": {},
   "outputs": [],
   "source": [
    "### Imports\n",
    "from nitools import utils \n",
    "from nitools.classifiers import PAE_RVFL, ELM, AE_ELM \n",
    "from nitools.models import LeNet5, ResNet18\n",
    "from nitools.operations import resetseed\n",
    "\n",
    "import numpy as np\n",
    "import random\n",
    "import torch\n",
    "import time as t"
   ]
  },
  {
   "cell_type": "markdown",
   "metadata": {},
   "source": [
    "## 1. MNIST\n",
    "\n",
    "Dataset of greyscale 28x28 images of handwritten digits. \n",
    "\n",
    "*Train: 60,000*, *Test: 10,000*, *10 Classes*, *784 Inputs*\n"
   ]
  },
  {
   "cell_type": "code",
   "execution_count": 2,
   "metadata": {},
   "outputs": [],
   "source": [
    "# Import dataset\n",
    "mnist = utils.load_mnist()\n",
    "\n",
    "mnist_in = 784\n",
    "mnist_class = 10"
   ]
  },
  {
   "cell_type": "markdown",
   "metadata": {},
   "source": [
    "### pAE-RVFL"
   ]
  },
  {
   "cell_type": "code",
   "execution_count": 4,
   "metadata": {
    "scrolled": false
   },
   "outputs": [
    {
     "name": "stdout",
     "output_type": "stream",
     "text": [
      "train: 24.796189785003662\n",
      "Evaluation for: lenet PAE-RVFL - MNIST\n",
      "Classifier 'lenet PAE-RVFL - MNIST' has Acc=0.945 P=0.944 R=0.945 F1=0.944\n",
      "              precision    recall  f1-score   support\n",
      "\n",
      "         0.0      0.990     0.950     0.970      1021\n",
      "         1.0      0.989     0.923     0.954      1216\n",
      "         2.0      0.913     0.957     0.935       984\n",
      "         3.0      0.956     0.942     0.949      1025\n",
      "         4.0      0.922     0.963     0.942       940\n",
      "         5.0      0.942     0.950     0.946       884\n",
      "         6.0      0.961     0.948     0.954       972\n",
      "         7.0      0.899     0.960     0.929       962\n",
      "         8.0      0.936     0.941     0.939       969\n",
      "         9.0      0.935     0.918     0.926      1027\n",
      "\n",
      "    accuracy                          0.945     10000\n",
      "   macro avg      0.944     0.945     0.944     10000\n",
      "weighted avg      0.946     0.945     0.945     10000\n",
      "\n",
      "\n",
      "Confusion matrix:\n",
      " [[ 970    1    0    0    0    1    4    1    3    0]\n",
      " [   0 1122    2    2    1    1    3    0    4    0]\n",
      " [  17    9  942   10    8    1    9   12   23    1]\n",
      " [   1    7    7  966    0    9    0    6   10    4]\n",
      " [   1    8    3    1  905    0   13    1    3   47]\n",
      " [   4    5    0   15    0  840   12    3    8    5]\n",
      " [   6    6    0    0    4   19  921    0    2    0]\n",
      " [   4   38   27    7    5    0    0  924    1   22]\n",
      " [   9    8    2   11    7    7    9    4  912    5]\n",
      " [   9   12    1   13   10    6    1   11    3  943]]\n"
     ]
    }
   ],
   "source": [
    "device = torch.device(\"cpu\")\n",
    "\n",
    "SEED = 22\n",
    "resetseed(SEED)\n",
    "\n",
    "pae_rvfl = PAE_RVFL.PAE_RVFL(\n",
    "    784, \n",
    "    400, \n",
    "    mnist_class, \n",
    "    subnets=1,\n",
    "    device=device, \n",
    "    r=(1,1), sc=0.5, sb=0.5, c=1000, ae_iters=3)\n",
    "\n",
    "lenet = LeNet5.LeNet5(pae_rvfl, weight_train=True)\n",
    "\n",
    "X = torch.from_numpy(mnist['train_X']).float()[:60000]\n",
    "y = torch.from_numpy(mnist['train_y']).float()[:60000]\n",
    "\n",
    "train_start = t.time()\n",
    "result = lenet.train(X, y)\n",
    "train_end = t.time()\n",
    "tX = torch.from_numpy(mnist['test_X']).float()\n",
    "pred = lenet.predict(tX)[:10000]\n",
    "pred_arg = np.zeros(10000)\n",
    "\n",
    "for i in range(len(pred)):\n",
    "    pred_arg[i] = np.argmax(pred[i])\n",
    "\n",
    "print(f\"train: {train_end-train_start}\")\n",
    "utils.evaluation_summary('lenet PAE-RVFL - MNIST', pred_arg, mnist['test_y'])"
   ]
  },
  {
   "cell_type": "markdown",
   "metadata": {},
   "source": [
    "### ELM"
   ]
  },
  {
   "cell_type": "code",
   "execution_count": null,
   "metadata": {},
   "outputs": [],
   "source": [
    "SEED = 22\n",
    "resetseed(SEED)\n",
    "\n",
    "# Get ELM results\n",
    "mnist_elm = AE_ELM.AE_ELM(  # TODO: batchnorm input weights to ae?\n",
    "    input_size=mnist_in,\n",
    "    h_size=1000,\n",
    "    output_size=mnist_class,\n",
    "    ae_iters=5)\n",
    "\n",
    "lenet = LeNet5.LeNet5(mnist_elm, weight_train=True)\n",
    "\n",
    "X = torch.from_numpy(mnist['train_X']).float()[:60000]\n",
    "y = torch.from_numpy(mnist['train_y']).float()[:60000]\n",
    "\n",
    "train_start = t.time()\n",
    "result = lenet.train(X, y)\n",
    "train_end = t.time()\n",
    "tX = torch.from_numpy(mnist['test_X']).float()\n",
    "pred = lenet.predict(tX)[:10000]\n",
    "pred_arg = np.zeros(10000)\n",
    "\n",
    "for i in range(len(pred)):\n",
    "    pred_arg[i] = np.argmax(pred[i])\n",
    "\n",
    "\n",
    "print(f\"train: {train_end-train_start}\")\n",
    "utils.evaluation_summary('lenet AE-ELM - MNIST', pred_arg, mnist['test_y'])"
   ]
  },
  {
   "cell_type": "code",
   "execution_count": null,
   "metadata": {},
   "outputs": [],
   "source": [
    "SEED = 22\n",
    "resetseed(SEED)\n",
    "\n",
    "# Get ELM results\n",
    "mnist_elm = ELM.ELM(  # TODO: batchnorm input weights to ae?\n",
    "    input_size=mnist_in,\n",
    "    h_size=1000,\n",
    "    output_size=mnist_class)\n",
    "\n",
    "lenet = LeNet5.LeNet5(mnist_elm, weight_train=True)\n",
    "\n",
    "X = torch.from_numpy(mnist['train_X']).float()[:60000]\n",
    "y = torch.from_numpy(mnist['train_y']).float()[:60000]\n",
    "\n",
    "train_start = t.time()\n",
    "result = lenet.train(X, y)\n",
    "train_end = t.time()\n",
    "tX = torch.from_numpy(mnist['test_X']).float()\n",
    "pred = lenet.predict(tX)[:10000]\n",
    "pred_arg = np.zeros(10000)\n",
    "\n",
    "for i in range(len(pred)):\n",
    "    pred_arg[i] = np.argmax(pred[i])\n",
    "\n",
    "\n",
    "print(f\"train: {train_end-train_start}\")\n",
    "utils.evaluation_summary('lenet  - MNIST', pred_arg, mnist['test_y'])"
   ]
  },
  {
   "cell_type": "markdown",
   "metadata": {},
   "source": [
    "## 2. CIFAR-10\n",
    "\n",
    "Dataset of colour (3-dimension) 32x32 images of objects of 10 classes:\n",
    "\n",
    "0.\tairplane\n",
    "1.\tautomobile\n",
    "2.\tbird\n",
    "3.\tcat\n",
    "4.\tdeer\n",
    "5.\tdog\n",
    "6.\tfrog\n",
    "7.\thorse\n",
    "8.\tship\n",
    "9.\ttruck\n",
    "\n",
    "*Train: 60,000*, *Test: 10,000*, *10 Classes*, *784 Inputs*"
   ]
  },
  {
   "cell_type": "code",
   "execution_count": null,
   "metadata": {},
   "outputs": [],
   "source": [
    "# Import dataset\n",
    "cifar10 = utils.load_cifar10()\n",
    "\n",
    "cifar_in = 32*32*3\n",
    "cifar_class = 10"
   ]
  },
  {
   "cell_type": "markdown",
   "metadata": {},
   "source": [
    "### SPAE-RVFL"
   ]
  },
  {
   "cell_type": "code",
   "execution_count": null,
   "metadata": {},
   "outputs": [],
   "source": [
    "device = torch.device(\"cpu\")\n",
    "\n",
    "pae_rvfl = SPAE_RVFL.SPAE_RVFL(\n",
    "    cifar_in, \n",
    "    cifar_class, \n",
    "    [100], \n",
    "    subnets=[5], \n",
    "    device=device, \n",
    "    r=[(1,1), (1,1)], sc=0.5, sb=0.5)\n",
    "\n",
    "lenet = LeNet5.LeNet5_3D(pae_rvfl)\n",
    "\n",
    "X = torch.from_numpy(cifar10['train_X']).float()[:5000]\n",
    "y = torch.from_numpy(cifar10['train_y']).float()[:5000]\n",
    "\n",
    "result = lenet.train(X, y)\n",
    "tX = torch.from_numpy(cifar10['test_X']).float()\n",
    "pred = lenet.predict(tX)[:10000]\n",
    "pred_arg = np.zeros(10000)\n",
    "\n",
    "for i in range(len(pred)):\n",
    "    pred_arg[i] = np.argmax(pred[i])\n",
    "\n",
    "utils.evaluation_summary('lenet PAE-RVFL - MNIST', pred_arg, cifar10['test_y'])"
   ]
  },
  {
   "cell_type": "code",
   "execution_count": null,
   "metadata": {},
   "outputs": [],
   "source": [
    "# Show results"
   ]
  },
  {
   "cell_type": "code",
   "execution_count": null,
   "metadata": {},
   "outputs": [],
   "source": []
  },
  {
   "cell_type": "code",
   "execution_count": null,
   "metadata": {},
   "outputs": [],
   "source": []
  },
  {
   "cell_type": "code",
   "execution_count": null,
   "metadata": {},
   "outputs": [],
   "source": []
  }
 ],
 "metadata": {
  "kernelspec": {
   "display_name": "Python 3 (ipykernel)",
   "language": "python",
   "name": "python3"
  },
  "language_info": {
   "codemirror_mode": {
    "name": "ipython",
    "version": 3
   },
   "file_extension": ".py",
   "mimetype": "text/x-python",
   "name": "python",
   "nbconvert_exporter": "python",
   "pygments_lexer": "ipython3",
   "version": "3.9.5"
  }
 },
 "nbformat": 4,
 "nbformat_minor": 4
}

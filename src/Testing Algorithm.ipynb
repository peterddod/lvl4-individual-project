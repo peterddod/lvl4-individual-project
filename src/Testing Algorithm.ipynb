{
 "cells": [
  {
   "cell_type": "markdown",
   "metadata": {},
   "source": [
    "# Algorithm Testing\n",
    "A notebook used to compare algorithm performance.\n"
   ]
  },
  {
   "cell_type": "code",
   "execution_count": 1,
   "metadata": {},
   "outputs": [],
   "source": [
    "### Imports\n",
    "from nitools import utils \n",
    "from nitools.classifiers import PAE_RVFL, ELM, AE_ELM, PAE_ELM\n",
    "from nitools.models import LeNet5, LeNet53D, ResNet18\n",
    "from nitools.operations import resetseed\n",
    "\n",
    "import numpy as np\n",
    "import random\n",
    "import torch\n",
    "import time as t"
   ]
  },
  {
   "cell_type": "markdown",
   "metadata": {},
   "source": [
    "## 1. MNIST\n",
    "\n",
    "Dataset of greyscale 28x28 images of handwritten digits. \n",
    "\n",
    "*Train: 60,000*, *Test: 10,000*, *10 Classes*, *784 Inputs*\n"
   ]
  },
  {
   "cell_type": "code",
   "execution_count": 2,
   "metadata": {},
   "outputs": [],
   "source": [
    "# Import dataset\n",
    "mnist = utils.load_mnist()\n",
    "\n",
    "mnist_in = 784\n",
    "mnist_class = 10"
   ]
  },
  {
   "cell_type": "markdown",
   "metadata": {},
   "source": [
    "### pAE-RVFL"
   ]
  },
  {
   "cell_type": "code",
   "execution_count": 7,
   "metadata": {
    "scrolled": false
   },
   "outputs": [
    {
     "name": "stdout",
     "output_type": "stream",
     "text": [
      "train: 2.2266740798950195\n",
      "Evaluation for: lenet PAE-RVFL - MNIST\n",
      "Classifier 'lenet PAE-RVFL - MNIST' has Acc=0.930 P=0.929 R=0.930 F1=0.930\n",
      "              precision    recall  f1-score   support\n",
      "\n",
      "         0.0      0.978     0.947     0.962      1012\n",
      "         1.0      0.989     0.935     0.961      1201\n",
      "         2.0      0.905     0.943     0.924       990\n",
      "         3.0      0.901     0.926     0.913       983\n",
      "         4.0      0.936     0.935     0.935       983\n",
      "         5.0      0.883     0.940     0.911       838\n",
      "         6.0      0.959     0.937     0.948       981\n",
      "         7.0      0.914     0.935     0.925      1005\n",
      "         8.0      0.908     0.902     0.905       980\n",
      "         9.0      0.920     0.904     0.912      1027\n",
      "\n",
      "    accuracy                          0.930     10000\n",
      "   macro avg      0.929     0.930     0.930     10000\n",
      "weighted avg      0.931     0.930     0.931     10000\n",
      "\n",
      "\n",
      "Confusion matrix:\n",
      " [[ 958    1    2    0    3    0    8    1    7    0]\n",
      " [   0 1123    5    0    0    0    4    0    3    0]\n",
      " [   7   11  934   16    7    1    5   21   29    1]\n",
      " [   1    2   18  910    1   21    8   14   22   13]\n",
      " [   0    8    6    0  919    1    6    4    8   30]\n",
      " [   7    8    2   34    4  788   16    5   15   13]\n",
      " [  10    4    1    0    5   15  919    0    4    0]\n",
      " [   3   27   12    3   10    0    0  940    1   32]\n",
      " [  17   10    8   11   10    6   12    6  884   10]\n",
      " [   9    7    2    9   24    6    3   14    7  928]]\n"
     ]
    }
   ],
   "source": [
    "device = torch.device(\"cpu\")\n",
    "\n",
    "SEED = 22\n",
    "resetseed(SEED)\n",
    "\n",
    "pae_rvfl = PAE_RVFL(\n",
    "    784, \n",
    "    200, \n",
    "    mnist_class, \n",
    "    subnets=1,\n",
    "    device=device, \n",
    "    r=(1,1), sc=0.5, sb=0.5, c=10, ae_iters=1)\n",
    "\n",
    "lenet = LeNet5(pae_rvfl, weight_train=False)\n",
    "\n",
    "X = torch.from_numpy(mnist['train_X']).float()[:60000]\n",
    "y = torch.from_numpy(mnist['train_y']).float()[:60000]\n",
    "\n",
    "train_start = t.time()\n",
    "result = lenet.train(X, y)\n",
    "train_end = t.time()\n",
    "tX = torch.from_numpy(mnist['test_X']).float()\n",
    "pred = lenet.predict(tX)[:10000]\n",
    "pred_arg = np.zeros(10000)\n",
    "\n",
    "for i in range(len(pred)):\n",
    "    pred_arg[i] = np.argmax(pred[i])\n",
    "\n",
    "print(f\"train: {train_end-train_start}\")\n",
    "utils.evaluation_summary('lenet PAE-RVFL - MNIST', pred_arg, mnist['test_y'])"
   ]
  },
  {
   "cell_type": "markdown",
   "metadata": {},
   "source": [
    "### ELM"
   ]
  },
  {
   "cell_type": "code",
   "execution_count": 9,
   "metadata": {},
   "outputs": [
    {
     "ename": "RuntimeError",
     "evalue": "The size of tensor a (10) must match the size of tensor b (6) at non-singleton dimension 3",
     "output_type": "error",
     "traceback": [
      "\u001b[0;31m---------------------------------------------------------------------------\u001b[0m",
      "\u001b[0;31mRuntimeError\u001b[0m                              Traceback (most recent call last)",
      "File \u001b[0;32m~/repos/lvl4-individual-project/src/nitools/architecture/Pipeline.py:21\u001b[0m, in \u001b[0;36mPipeline.train\u001b[0;34m(self, X)\u001b[0m\n\u001b[1;32m     20\u001b[0m \u001b[38;5;28;01mtry\u001b[39;00m:\n\u001b[0;32m---> 21\u001b[0m     temp \u001b[38;5;241m=\u001b[39m \u001b[43mmodule\u001b[49m\u001b[38;5;241;43m.\u001b[39;49m\u001b[43mtrain\u001b[49m\u001b[43m(\u001b[49m\u001b[43mX\u001b[49m\u001b[43m)\u001b[49m\n\u001b[1;32m     22\u001b[0m     X \u001b[38;5;241m=\u001b[39m temp\n",
      "File \u001b[0;32m~/repos/lvl4-individual-project/src/nitools/convolution/ResConv2D.py:26\u001b[0m, in \u001b[0;36mResConv2D.train\u001b[0;34m(self, X)\u001b[0m\n\u001b[1;32m     25\u001b[0m \u001b[38;5;28;01mdef\u001b[39;00m \u001b[38;5;21mtrain\u001b[39m(\u001b[38;5;28mself\u001b[39m, X):\n\u001b[0;32m---> 26\u001b[0m     \u001b[38;5;28;01mreturn\u001b[39;00m \u001b[43mtorch\u001b[49m\u001b[38;5;241;43m.\u001b[39;49m\u001b[43madd\u001b[49m\u001b[43m(\u001b[49m\u001b[38;5;28;43mself\u001b[39;49m\u001b[38;5;241;43m.\u001b[39;49m\u001b[43m_layer\u001b[49m\u001b[38;5;241;43m.\u001b[39;49m\u001b[43mtrain\u001b[49m\u001b[43m(\u001b[49m\u001b[43mX\u001b[49m\u001b[43m)\u001b[49m\u001b[43m,\u001b[49m\u001b[43m \u001b[49m\u001b[43mX\u001b[49m\u001b[43m)\u001b[49m\n",
      "\u001b[0;31mRuntimeError\u001b[0m: The size of tensor a (10) must match the size of tensor b (6) at non-singleton dimension 3",
      "\nDuring handling of the above exception, another exception occurred:\n",
      "\u001b[0;31mRuntimeError\u001b[0m                              Traceback (most recent call last)",
      "Input \u001b[0;32mIn [9]\u001b[0m, in \u001b[0;36m<module>\u001b[0;34m\u001b[0m\n\u001b[1;32m     14\u001b[0m y \u001b[38;5;241m=\u001b[39m torch\u001b[38;5;241m.\u001b[39mfrom_numpy(mnist[\u001b[38;5;124m'\u001b[39m\u001b[38;5;124mtrain_y\u001b[39m\u001b[38;5;124m'\u001b[39m])\u001b[38;5;241m.\u001b[39mfloat()[:\u001b[38;5;241m5000\u001b[39m]\n\u001b[1;32m     16\u001b[0m train_start \u001b[38;5;241m=\u001b[39m t\u001b[38;5;241m.\u001b[39mtime()\n\u001b[0;32m---> 17\u001b[0m result \u001b[38;5;241m=\u001b[39m \u001b[43mlenet\u001b[49m\u001b[38;5;241;43m.\u001b[39;49m\u001b[43mtrain\u001b[49m\u001b[43m(\u001b[49m\u001b[43mX\u001b[49m\u001b[43m,\u001b[49m\u001b[43m \u001b[49m\u001b[43my\u001b[49m\u001b[43m)\u001b[49m\n\u001b[1;32m     18\u001b[0m train_end \u001b[38;5;241m=\u001b[39m t\u001b[38;5;241m.\u001b[39mtime()\n\u001b[1;32m     19\u001b[0m tX \u001b[38;5;241m=\u001b[39m torch\u001b[38;5;241m.\u001b[39mfrom_numpy(mnist[\u001b[38;5;124m'\u001b[39m\u001b[38;5;124mtest_X\u001b[39m\u001b[38;5;124m'\u001b[39m])\u001b[38;5;241m.\u001b[39mfloat()\n",
      "File \u001b[0;32m~/repos/lvl4-individual-project/src/nitools/models/ResNet18.py:41\u001b[0m, in \u001b[0;36mResNet18.train\u001b[0;34m(self, X, y)\u001b[0m\n\u001b[1;32m     38\u001b[0m w_h \u001b[38;5;241m=\u001b[39m \u001b[38;5;28mint\u001b[39m(np\u001b[38;5;241m.\u001b[39msqrt(X\u001b[38;5;241m.\u001b[39msize()[\u001b[38;5;241m1\u001b[39m]))\n\u001b[1;32m     39\u001b[0m n \u001b[38;5;241m=\u001b[39m \u001b[38;5;28mint\u001b[39m(X\u001b[38;5;241m.\u001b[39msize()[\u001b[38;5;241m0\u001b[39m])\n\u001b[0;32m---> 41\u001b[0m X \u001b[38;5;241m=\u001b[39m \u001b[38;5;28;43mself\u001b[39;49m\u001b[38;5;241;43m.\u001b[39;49m\u001b[43m_model\u001b[49m\u001b[38;5;241;43m.\u001b[39;49m\u001b[43mtrain\u001b[49m\u001b[43m(\u001b[49m\u001b[43mtorch\u001b[49m\u001b[38;5;241;43m.\u001b[39;49m\u001b[43mreshape\u001b[49m\u001b[43m(\u001b[49m\u001b[43mX\u001b[49m\u001b[43m,\u001b[49m\u001b[43m \u001b[49m\u001b[43m(\u001b[49m\u001b[43mn\u001b[49m\u001b[43m,\u001b[49m\u001b[43m \u001b[49m\u001b[38;5;241;43m1\u001b[39;49m\u001b[43m,\u001b[49m\u001b[43m \u001b[49m\u001b[43mw_h\u001b[49m\u001b[43m,\u001b[49m\u001b[43m \u001b[49m\u001b[43mw_h\u001b[49m\u001b[43m)\u001b[49m\u001b[43m)\u001b[49m\u001b[43m)\u001b[49m\n\u001b[1;32m     42\u001b[0m C \u001b[38;5;241m=\u001b[39m torch\u001b[38;5;241m.\u001b[39mreshape(X, (n, w_h\u001b[38;5;241m*\u001b[39m\u001b[38;5;241m*\u001b[39m\u001b[38;5;241m2\u001b[39m))\u001b[38;5;241m.\u001b[39mdetach()\n\u001b[1;32m     44\u001b[0m H \u001b[38;5;241m=\u001b[39m \u001b[38;5;28mself\u001b[39m\u001b[38;5;241m.\u001b[39m_classifier\u001b[38;5;241m.\u001b[39mtrain(C, y)\n",
      "File \u001b[0;32m~/repos/lvl4-individual-project/src/nitools/architecture/Pipeline.py:24\u001b[0m, in \u001b[0;36mPipeline.train\u001b[0;34m(self, X)\u001b[0m\n\u001b[1;32m     22\u001b[0m         X \u001b[38;5;241m=\u001b[39m temp\n\u001b[1;32m     23\u001b[0m     \u001b[38;5;28;01mexcept\u001b[39;00m:\n\u001b[0;32m---> 24\u001b[0m         temp \u001b[38;5;241m=\u001b[39m \u001b[43mmodule\u001b[49m\u001b[43m(\u001b[49m\u001b[43mX\u001b[49m\u001b[43m)\u001b[49m\n\u001b[1;32m     25\u001b[0m         X \u001b[38;5;241m=\u001b[39m temp\n\u001b[1;32m     28\u001b[0m \u001b[38;5;28;01mreturn\u001b[39;00m X\n",
      "File \u001b[0;32m~/repos/lvl4-individual-project/src/nitools/convolution/ResConv2D.py:20\u001b[0m, in \u001b[0;36mResConv2D.__call__\u001b[0;34m(self, arg)\u001b[0m\n\u001b[1;32m     19\u001b[0m \u001b[38;5;28;01mdef\u001b[39;00m \u001b[38;5;21m__call__\u001b[39m(\u001b[38;5;28mself\u001b[39m, arg):\n\u001b[0;32m---> 20\u001b[0m     \u001b[38;5;28;01mreturn\u001b[39;00m \u001b[38;5;28;43mself\u001b[39;49m\u001b[38;5;241;43m.\u001b[39;49m\u001b[43mforward\u001b[49m\u001b[43m(\u001b[49m\u001b[43marg\u001b[49m\u001b[43m)\u001b[49m\n",
      "File \u001b[0;32m~/repos/lvl4-individual-project/src/nitools/convolution/ResConv2D.py:23\u001b[0m, in \u001b[0;36mResConv2D.forward\u001b[0;34m(self, X)\u001b[0m\n\u001b[1;32m     22\u001b[0m \u001b[38;5;28;01mdef\u001b[39;00m \u001b[38;5;21mforward\u001b[39m(\u001b[38;5;28mself\u001b[39m, X):\n\u001b[0;32m---> 23\u001b[0m     \u001b[38;5;28;01mreturn\u001b[39;00m \u001b[43mtorch\u001b[49m\u001b[38;5;241;43m.\u001b[39;49m\u001b[43madd\u001b[49m\u001b[43m(\u001b[49m\u001b[38;5;28;43mself\u001b[39;49m\u001b[38;5;241;43m.\u001b[39;49m\u001b[43m_layer\u001b[49m\u001b[43m(\u001b[49m\u001b[43mX\u001b[49m\u001b[43m)\u001b[49m\u001b[43m,\u001b[49m\u001b[43m \u001b[49m\u001b[43mX\u001b[49m\u001b[43m)\u001b[49m\n",
      "\u001b[0;31mRuntimeError\u001b[0m: The size of tensor a (10) must match the size of tensor b (6) at non-singleton dimension 3"
     ]
    }
   ],
   "source": [
    "SEED = 22\n",
    "resetseed(SEED)\n",
    "\n",
    "# Get ELM results\n",
    "mnist_elm = AE_ELM.AE_ELM(  # TODO: batchnorm input weights to ae?\n",
    "    input_size=mnist_in,\n",
    "    h_size=100,\n",
    "    output_size=mnist_class,\n",
    "    ae_iters=3)\n",
    "\n",
    "lenet = ResNet18.ResNet18(mnist_elm, weight_train=True)\n",
    "\n",
    "X = torch.from_numpy(mnist['train_X']).float()[:5000]\n",
    "y = torch.from_numpy(mnist['train_y']).float()[:5000]\n",
    "\n",
    "train_start = t.time()\n",
    "result = lenet.train(X, y)\n",
    "train_end = t.time()\n",
    "tX = torch.from_numpy(mnist['test_X']).float()\n",
    "pred = lenet.predict(tX)[:10000]\n",
    "pred_arg = np.zeros(10000)\n",
    "\n",
    "for i in range(len(pred)):\n",
    "    pred_arg[i] = np.argmax(pred[i])\n",
    "\n",
    "\n",
    "print(f\"train: {train_end-train_start}\")\n",
    "utils.evaluation_summary('lenet AE-ELM - MNIST', pred_arg, mnist['test_y'])"
   ]
  },
  {
   "cell_type": "code",
   "execution_count": 9,
   "metadata": {},
   "outputs": [
    {
     "name": "stderr",
     "output_type": "stream",
     "text": [
      "/Users/peterdodd/repos/lvl4-individual-project/src/nitools/classifiers/PAE_ELM.py:59: UserWarning: To copy construct from a tensor, it is recommended to use sourceTensor.clone().detach() or sourceTensor.clone().detach().requires_grad_(True), rather than torch.tensor(sourceTensor).\n",
      "  H = torch.tensor(H).float().detach()\n",
      "/Users/peterdodd/repos/lvl4-individual-project/src/nitools/classifiers/PAE_ELM.py:43: UserWarning: To copy construct from a tensor, it is recommended to use sourceTensor.clone().detach() or sourceTensor.clone().detach().requires_grad_(True), rather than torch.tensor(sourceTensor).\n",
      "  H = torch.tensor(H).float().detach()\n"
     ]
    },
    {
     "name": "stdout",
     "output_type": "stream",
     "text": [
      "train: 10.198245763778687\n",
      "Evaluation for: lenet  - MNIST\n",
      "Classifier 'lenet  - MNIST' has Acc=0.961 P=0.960 R=0.961 F1=0.960\n",
      "              precision    recall  f1-score   support\n",
      "\n",
      "         0.0      0.989     0.969     0.979      1000\n",
      "         1.0      0.990     0.974     0.982      1154\n",
      "         2.0      0.950     0.965     0.957      1016\n",
      "         3.0      0.961     0.949     0.955      1023\n",
      "         4.0      0.952     0.970     0.961       964\n",
      "         5.0      0.951     0.954     0.952       889\n",
      "         6.0      0.969     0.966     0.967       961\n",
      "         7.0      0.938     0.955     0.946      1009\n",
      "         8.0      0.957     0.959     0.958       972\n",
      "         9.0      0.948     0.946     0.947      1012\n",
      "\n",
      "    accuracy                          0.961     10000\n",
      "   macro avg      0.960     0.961     0.960     10000\n",
      "weighted avg      0.961     0.961     0.961     10000\n",
      "\n",
      "\n",
      "Confusion matrix:\n",
      " [[ 969    1    1    1    0    2    4    1    1    0]\n",
      " [   0 1124    4    0    0    2    4    0    1    0]\n",
      " [   5    0  980   11    5    3    3   15   10    0]\n",
      " [   2    0    7  971    0    6    1    9   10    4]\n",
      " [   1    0    0    0  935    0    8    5    6   27]\n",
      " [   4    2    1   17    0  848   11    1    4    4]\n",
      " [   7    5    1    1    3   11  928    0    2    0]\n",
      " [   1   16   17    3    9    1    0  964    3   14]\n",
      " [   4    0    4   11    3    9    1    4  932    6]\n",
      " [   7    6    1    8    9    7    1   10    3  957]]\n"
     ]
    }
   ],
   "source": [
    "SEED = 22\n",
    "resetseed(SEED)\n",
    "\n",
    "# Get ELM results\n",
    "mnist_elm = PAE_ELM(  # TODO: batchnorm input weights to ae?\n",
    "    in_size=mnist_in,\n",
    "    h_size=1000,\n",
    "    subnets=1,\n",
    "    out_size=mnist_class)\n",
    "\n",
    "lenet = LeNet5(mnist_elm, weight_train=True)\n",
    "\n",
    "X = torch.from_numpy(mnist['train_X']).float()[:60000]\n",
    "y = torch.from_numpy(mnist['train_y']).float()[:60000]\n",
    "\n",
    "train_start = t.time()\n",
    "result = lenet.train(X, y)\n",
    "train_end = t.time()\n",
    "tX = torch.from_numpy(mnist['test_X']).float()\n",
    "pred = lenet.predict(tX)[:10000]\n",
    "pred_arg = np.zeros(10000)\n",
    "\n",
    "for i in range(len(pred)):\n",
    "    pred_arg[i] = np.argmax(pred[i])\n",
    "\n",
    "\n",
    "print(f\"train: {train_end-train_start}\")\n",
    "utils.evaluation_summary('lenet  - MNIST', pred_arg, mnist['test_y'])"
   ]
  },
  {
   "cell_type": "markdown",
   "metadata": {},
   "source": [
    "## 2. CIFAR-10\n",
    "\n",
    "Dataset of colour (3-dimension) 32x32 images of objects of 10 classes:\n",
    "\n",
    "0.\tairplane\n",
    "1.\tautomobile\n",
    "2.\tbird\n",
    "3.\tcat\n",
    "4.\tdeer\n",
    "5.\tdog\n",
    "6.\tfrog\n",
    "7.\thorse\n",
    "8.\tship\n",
    "9.\ttruck\n",
    "\n",
    "*Train: 60,000*, *Test: 10,000*, *10 Classes*, *784 Inputs*"
   ]
  },
  {
   "cell_type": "code",
   "execution_count": 2,
   "metadata": {},
   "outputs": [],
   "source": [
    "# Import dataset\n",
    "cifar10 = utils.load_cifar10()\n",
    "\n",
    "cifar_in = 32*32*3\n",
    "cifar_class = 10"
   ]
  },
  {
   "cell_type": "markdown",
   "metadata": {},
   "source": [
    "### SPAE-RVFL"
   ]
  },
  {
   "cell_type": "code",
   "execution_count": 7,
   "metadata": {},
   "outputs": [
    {
     "name": "stderr",
     "output_type": "stream",
     "text": [
      "/Users/peterdodd/repos/lvl4-individual-project/src/nitools/classifiers/PAE_ELM.py:59: UserWarning: To copy construct from a tensor, it is recommended to use sourceTensor.clone().detach() or sourceTensor.clone().detach().requires_grad_(True), rather than torch.tensor(sourceTensor).\n",
      "  H = torch.tensor(H).float().detach()\n",
      "/Users/peterdodd/repos/lvl4-individual-project/src/nitools/classifiers/PAE_ELM.py:43: UserWarning: To copy construct from a tensor, it is recommended to use sourceTensor.clone().detach() or sourceTensor.clone().detach().requires_grad_(True), rather than torch.tensor(sourceTensor).\n",
      "  H = torch.tensor(H).float().detach()\n"
     ]
    },
    {
     "name": "stdout",
     "output_type": "stream",
     "text": [
      "Evaluation for: lenet PAE-RVFL - MNIST\n",
      "Classifier 'lenet PAE-RVFL - MNIST' has Acc=0.366 P=0.366 R=0.362 F1=0.362\n",
      "              precision    recall  f1-score   support\n",
      "\n",
      "         0.0      0.424     0.466     0.444       909\n",
      "         1.0      0.429     0.393     0.410      1092\n",
      "         2.0      0.274     0.274     0.274      1000\n",
      "         3.0      0.212     0.249     0.229       853\n",
      "         4.0      0.304     0.319     0.311       952\n",
      "         5.0      0.256     0.337     0.291       759\n",
      "         6.0      0.420     0.369     0.393      1139\n",
      "         7.0      0.383     0.384     0.384       997\n",
      "         8.0      0.565     0.440     0.495      1284\n",
      "         9.0      0.394     0.388     0.391      1015\n",
      "\n",
      "    accuracy                          0.366     10000\n",
      "   macro avg      0.366     0.362     0.362     10000\n",
      "weighted avg      0.378     0.366     0.370     10000\n",
      "\n",
      "\n",
      "Confusion matrix:\n",
      " [[424  55  85  29  48  24  33  45 196  61]\n",
      " [ 50 429  38  36  32  22  53  63 104 173]\n",
      " [ 90  37 274  94 133  69 128  74  70  31]\n",
      " [ 68  64  91 212  76 142 130  86  52  79]\n",
      " [ 50  40 171  58 304  53 151  90  61  22]\n",
      " [ 37  39 100 170  93 256 103  95  65  42]\n",
      " [ 24  53 121  80 109  67 420  53  29  44]\n",
      " [ 34  80  55  78 101  76  58 383  44  91]\n",
      " [ 95  83  33  41  31  22  20  32 565  78]\n",
      " [ 37 212  32  55  25  28  43  76  98 394]]\n"
     ]
    }
   ],
   "source": [
    "device = torch.device(\"cpu\")\n",
    "\n",
    "pae_rvfl = PAE_ELM(\n",
    "    in_size=432, \n",
    "    out_size=cifar_class, \n",
    "    h_size=5000, \n",
    "    subnets=1, \n",
    "    device=device)\n",
    "\n",
    "lenet = LeNet53D.LeNet53D(pae_rvfl)\n",
    "\n",
    "X = torch.from_numpy(cifar10['train_X']).float()[:10000]\n",
    "y = torch.from_numpy(cifar10['train_y']).float()[:10000]\n",
    "\n",
    "result = lenet.train(X, y)\n",
    "tX = torch.from_numpy(cifar10['test_X']).float()\n",
    "pred = lenet.predict(tX)[:10000]\n",
    "pred_arg = np.zeros(10000)\n",
    "\n",
    "for i in range(len(pred)):\n",
    "    pred_arg[i] = np.argmax(pred[i])\n",
    "\n",
    "utils.evaluation_summary('lenet PAE-RVFL - MNIST', pred_arg, cifar10['test_y'])"
   ]
  },
  {
   "cell_type": "code",
   "execution_count": null,
   "metadata": {},
   "outputs": [],
   "source": [
    "# Show results"
   ]
  },
  {
   "cell_type": "code",
   "execution_count": null,
   "metadata": {},
   "outputs": [],
   "source": []
  },
  {
   "cell_type": "code",
   "execution_count": null,
   "metadata": {},
   "outputs": [],
   "source": []
  },
  {
   "cell_type": "code",
   "execution_count": 29,
   "metadata": {},
   "outputs": [
    {
     "name": "stdout",
     "output_type": "stream",
     "text": [
      "train: 7.716118335723877\n",
      "Evaluation for: lenet PAE-ELM - MNIST\n",
      "Classifier 'lenet PAE-ELM - MNIST' has Acc=0.970 P=0.969 R=0.969 F1=0.969\n",
      "              precision    recall  f1-score   support\n",
      "\n",
      "         0.0      0.989     0.976     0.982       993\n",
      "         1.0      0.989     0.986     0.988      1139\n",
      "         2.0      0.968     0.969     0.968      1031\n",
      "         3.0      0.966     0.966     0.966      1010\n",
      "         4.0      0.973     0.978     0.975       976\n",
      "         5.0      0.967     0.963     0.965       896\n",
      "         6.0      0.971     0.979     0.975       950\n",
      "         7.0      0.953     0.969     0.961      1011\n",
      "         8.0      0.970     0.947     0.958       998\n",
      "         9.0      0.946     0.959     0.953       996\n",
      "\n",
      "    accuracy                          0.970     10000\n",
      "   macro avg      0.969     0.969     0.969     10000\n",
      "weighted avg      0.970     0.970     0.970     10000\n",
      "\n",
      "\n",
      "Confusion matrix:\n",
      " [[ 969    0    0    1    1    1    3    1    3    1]\n",
      " [   0 1123    3    1    0    1    5    0    2    0]\n",
      " [   4    0  999    3    2    0    1    8   15    0]\n",
      " [   1    0    3  976    0   10    0    7   10    3]\n",
      " [   0    0    2    0  955    0    4    0    4   17]\n",
      " [   3    0    1    7    2  863    5    1    7    3]\n",
      " [   9    3    1    0    2   10  930    0    2    1]\n",
      " [   1   10   15    4    1    1    0  980    4   12]\n",
      " [   3    0    6    5    2    4    1    4  945    4]\n",
      " [   3    3    1   13   11    6    1   10    6  955]]\n"
     ]
    }
   ],
   "source": [
    "device = torch.device(\"cpu\")\n",
    "\n",
    "SEED = 22\n",
    "resetseed(SEED)\n",
    "\n",
    "pae_elm = PAE_ELM(\n",
    "    784, \n",
    "    300, \n",
    "    mnist_class, \n",
    "    subnets=5,\n",
    "    device=device, \n",
    "    c=10, ae_iters=3)\n",
    "\n",
    "lenet = LeNet5(pae_elm, weight_train=False)\n",
    "\n",
    "X = torch.from_numpy(mnist['train_X']).float()[:60000]\n",
    "y = torch.from_numpy(mnist['train_y']).float()[:60000]\n",
    "\n",
    "train_start = t.time()\n",
    "result = lenet.train(X, y)\n",
    "train_end = t.time()\n",
    "tX = torch.from_numpy(mnist['test_X']).float()\n",
    "pred = lenet.predict(tX)[:10000]\n",
    "pred_arg = np.zeros(10000)\n",
    "\n",
    "for i in range(len(pred)):\n",
    "    pred_arg[i] = np.argmax(pred[i])\n",
    "\n",
    "print(f\"train: {train_end-train_start}\")\n",
    "utils.evaluation_summary('lenet PAE-ELM - MNIST', pred_arg, mnist['test_y'])"
   ]
  },
  {
   "cell_type": "code",
   "execution_count": null,
   "metadata": {},
   "outputs": [],
   "source": []
  }
 ],
 "metadata": {
  "kernelspec": {
   "display_name": "Python 3 (ipykernel)",
   "language": "python",
   "name": "python3"
  },
  "language_info": {
   "codemirror_mode": {
    "name": "ipython",
    "version": 3
   },
   "file_extension": ".py",
   "mimetype": "text/x-python",
   "name": "python",
   "nbconvert_exporter": "python",
   "pygments_lexer": "ipython3",
   "version": "3.9.5"
  }
 },
 "nbformat": 4,
 "nbformat_minor": 4
}

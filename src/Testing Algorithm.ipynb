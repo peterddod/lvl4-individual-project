{
 "cells": [
  {
   "cell_type": "markdown",
   "metadata": {},
   "source": [
    "# Algorithm Testing\n",
    "A notebook used to compare algorithm performance.\n"
   ]
  },
  {
   "cell_type": "code",
   "execution_count": 1,
   "metadata": {},
   "outputs": [],
   "source": [
    "### Imports\n",
    "from nitools import utils \n",
    "from nitools.classifiers import PAE_RVFL, ELM, AE_ELM, PAE_ELM\n",
    "from nitools.models import LeNetPlus, LRF_ELM, LRF_ELMplus, MiniRes\n",
    "from nitools.operations import resetseed\n",
    "\n",
    "import numpy as np\n",
    "import random\n",
    "import torch\n",
    "import time as t"
   ]
  },
  {
   "cell_type": "code",
   "execution_count": 2,
   "metadata": {
    "scrolled": true
   },
   "outputs": [],
   "source": [
    "# Import dataset\n",
    "mnist = utils.load_mnist(augment=True)\n",
    "\n",
    "mnist_in = 784\n",
    "mnist_class = 10"
   ]
  },
  {
   "cell_type": "code",
   "execution_count": 3,
   "metadata": {},
   "outputs": [],
   "source": [
    "def run(model, n=10000, nt=10000, data=mnist):\n",
    "    X = None\n",
    "    y = None \n",
    "    tX = None\n",
    "    try:\n",
    "        X = data['train_X'].float()[:n]\n",
    "        y = data['train_y'].float()[:n]\n",
    "        tX = data['test_X'].float()[:nt]\n",
    "    except:\n",
    "        X = data['train_X'].view((50000,3,32,32)).float()[:n]\n",
    "        y = torch.from_numpy(data['train_y']).float()[:n]\n",
    "        tX = data['test_X'].view((10000,3,32,32)).float()\n",
    "\n",
    "    train_start = t.time()\n",
    "    result = model.train(X, y)\n",
    "    train_end = t.time()\n",
    "    \n",
    "\n",
    "    test_start = t.time()\n",
    "    pred = model.predict(tX)\n",
    "    test_end = t.time()\n",
    "\n",
    "    pred_arg = np.zeros(nt)\n",
    "\n",
    "    for i in range(len(pred)):\n",
    "        pred_arg[i] = np.argmax(pred[i])\n",
    "\n",
    "\n",
    "    print(f\"train: {train_end-train_start}\")\n",
    "    print(f\"test: {test_end-test_start}\")\n",
    "    utils.evaluation_summary('lenet  - MNIST', pred_arg, data['test_y'][:nt])\n",
    "    \n",
    "def runos(model, b=5000, iters=1, nt=10000, data=mnist):\n",
    "    X = torch.from_numpy(data['train_X']).view((60000,1,28,28)).float()\n",
    "    y = torch.from_numpy(data['train_y']).float()\n",
    "\n",
    "    train_start = t.time()\n",
    "    for i in range(0,60000,b):\n",
    "        if i/b==iters:\n",
    "            break\n",
    "        result = model.train(X[i:i+b], y[i:i+b])\n",
    "    train_end = t.time()\n",
    "    \n",
    "    tX = torch.from_numpy(data['test_X']).view((10000,1,28,28)).float()\n",
    "\n",
    "    test_start = t.time()\n",
    "    pred = model.predict(tX)[:nt]\n",
    "    test_end = t.time()\n",
    "\n",
    "    pred_arg = np.zeros(nt)\n",
    "\n",
    "    for i in range(len(pred)):\n",
    "        pred_arg[i] = np.argmax(pred[i])\n",
    "\n",
    "\n",
    "    print(f\"train: {train_end-train_start}\")\n",
    "    print(f\"test: {test_end-test_start}\")\n",
    "    utils.evaluation_summary('lenet  - MNIST', pred_arg, data['test_y'])"
   ]
  },
  {
   "cell_type": "markdown",
   "metadata": {},
   "source": [
    "## 1. MNIST\n",
    "\n",
    "Dataset of greyscale 28x28 images of handwritten digits. \n",
    "\n",
    "*Train: 60,000*, *Test: 10,000*, *10 Classes*, *784 Inputs*\n"
   ]
  },
  {
   "cell_type": "code",
   "execution_count": null,
   "metadata": {
    "scrolled": false
   },
   "outputs": [
    {
     "name": "stdout",
     "output_type": "stream",
     "text": [
      "torch.Size([5000, 30000])\n"
     ]
    }
   ],
   "source": [
    "data = utils.load_mnist(augment=False, label_smoothing=0.1)\n",
    "SEED = 2359487\n",
    "resetseed(SEED)\n",
    "\n",
    "model = LRF_ELM()\n",
    "\n",
    "run(model, n=5000, nt=10000, data=data)"
   ]
  },
  {
   "cell_type": "code",
   "execution_count": null,
   "metadata": {},
   "outputs": [],
   "source": [
    "data = utils.load_mnist(augment=False)\n",
    "SEED = 2359487\n",
    "resetseed(SEED)\n",
    "\n",
    "model = LRF_ELM(c=1000, _lambda=1, p=0)\n",
    "\n",
    "run(model, n=25000, nt=10000, data=data)"
   ]
  },
  {
   "cell_type": "markdown",
   "metadata": {},
   "source": [
    "## 2. CIFAR-10\n",
    "\n",
    "Dataset of colour (3-dimension) 32x32 images of objects of 10 classes:\n",
    "\n",
    "0.\tairplane\n",
    "1.\tautomobile\n",
    "2.\tbird\n",
    "3.\tcat\n",
    "4.\tdeer\n",
    "5.\tdog\n",
    "6.\tfrog\n",
    "7.\thorse\n",
    "8.\tship\n",
    "9.\ttruck\n",
    "\n",
    "*Train: 60,000*, *Test: 10,000*, *10 Classes*, *784 Inputs*"
   ]
  },
  {
   "cell_type": "code",
   "execution_count": 4,
   "metadata": {},
   "outputs": [],
   "source": [
    "# Import dataset\n",
    "cifar10 = utils.load_cifar10(scaled=True, augment=False)\n",
    "\n",
    "cifar_in = 32*32*3\n",
    "cifar_class = 10"
   ]
  },
  {
   "cell_type": "code",
   "execution_count": 6,
   "metadata": {},
   "outputs": [
    {
     "name": "stdout",
     "output_type": "stream",
     "text": [
      "torch.Size([40000, 1152])\n",
      "train: 218.8179907798767\n",
      "test: 1.8466460704803467\n",
      "Evaluation for: lenet  - MNIST\n",
      "Classifier 'lenet  - MNIST' has Acc=0.370 P=0.369 R=0.365 F1=0.363\n",
      "              precision    recall  f1-score   support\n",
      "\n",
      "         0.0      0.357     0.426     0.388       408\n",
      "         1.0      0.465     0.388     0.423       606\n",
      "         2.0      0.305     0.347     0.324       450\n",
      "         3.0      0.187     0.289     0.227       322\n",
      "         4.0      0.318     0.372     0.343       433\n",
      "         5.0      0.225     0.308     0.260       357\n",
      "         6.0      0.446     0.372     0.406       588\n",
      "         7.0      0.406     0.338     0.369       595\n",
      "         8.0      0.522     0.417     0.463       631\n",
      "         9.0      0.464     0.390     0.424       610\n",
      "\n",
      "    accuracy                          0.370      5000\n",
      "   macro avg      0.369     0.365     0.363      5000\n",
      "weighted avg      0.392     0.370     0.377      5000\n",
      "\n",
      "\n",
      "Confusion matrix:\n",
      " [[174  32  51  10  21  13  36  33  85  33]\n",
      " [ 24 235   4  12  14   9  25  42  39 101]\n",
      " [ 30  25 156  36  56  39  70  43  35  22]\n",
      " [ 32  39  30  93  39  70  66  52  32  44]\n",
      " [ 26  19  83  21 161  18  64  57  42  16]\n",
      " [ 27  38  43  62  34 110  47  63  33  31]\n",
      " [ 16  33  51  31  46  27 219  35  14  19]\n",
      " [ 17  42  13  24  32  32  27 201  40  67]\n",
      " [ 49  42  12  14  22  18  17  28 263  39]\n",
      " [ 13 101   7  19   8  21  17  41  48 238]]\n"
     ]
    }
   ],
   "source": [
    "SEED = 22\n",
    "resetseed(SEED)\n",
    "\n",
    "model = LeNetPlus(in_channels=3, c=1000, h_size=900)\n",
    "\n",
    "run(model, n=40000, nt=5000, data=cifar10)"
   ]
  },
  {
   "cell_type": "code",
   "execution_count": null,
   "metadata": {},
   "outputs": [],
   "source": []
  }
 ],
 "metadata": {
  "kernelspec": {
   "display_name": "Python 3 (ipykernel)",
   "language": "python",
   "name": "python3"
  },
  "language_info": {
   "codemirror_mode": {
    "name": "ipython",
    "version": 3
   },
   "file_extension": ".py",
   "mimetype": "text/x-python",
   "name": "python",
   "nbconvert_exporter": "python",
   "pygments_lexer": "ipython3",
   "version": "3.9.5"
  }
 },
 "nbformat": 4,
 "nbformat_minor": 4
}

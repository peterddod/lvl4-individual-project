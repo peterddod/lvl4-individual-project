{
 "cells": [
  {
   "cell_type": "code",
   "execution_count": 30,
   "id": "524ba6e0",
   "metadata": {},
   "outputs": [],
   "source": [
    "import pylab as plt\n",
    "import pandas as pd\n",
    "import numpy as np\n",
    "import torch"
   ]
  },
  {
   "cell_type": "code",
   "execution_count": 2,
   "id": "c40b151a",
   "metadata": {},
   "outputs": [],
   "source": [
    "results_df = pd.read_csv('../raw/LOCAL_conv_weight_results.csv')"
   ]
  },
  {
   "cell_type": "code",
   "execution_count": 3,
   "id": "1a60d6a3",
   "metadata": {},
   "outputs": [],
   "source": [
    "iter_results_df = pd.read_csv('../raw/LOCAL_mnist_lenet_iter.csv')\n",
    "iter_results_df.columns = iter_results_df.columns.str.strip()"
   ]
  },
  {
   "cell_type": "code",
   "execution_count": 4,
   "id": "bb509e83",
   "metadata": {},
   "outputs": [
    {
     "name": "stderr",
     "output_type": "stream",
     "text": [
      "/var/folders/mr/vnkbxhh151s11m2mmshdgq080000gn/T/ipykernel_34364/52109184.py:1: FutureWarning: ['name'] did not aggregate successfully. If any error is raised this will raise in a future version of pandas. Drop these columns/ops to avoid this warning.\n",
      "  iter_proc_df = iter_results_df.drop(columns=['seed']).groupby('epochs').agg([np.mean,np.std])\n"
     ]
    },
    {
     "data": {
      "text/html": [
       "<div>\n",
       "<style scoped>\n",
       "    .dataframe tbody tr th:only-of-type {\n",
       "        vertical-align: middle;\n",
       "    }\n",
       "\n",
       "    .dataframe tbody tr th {\n",
       "        vertical-align: top;\n",
       "    }\n",
       "\n",
       "    .dataframe thead tr th {\n",
       "        text-align: left;\n",
       "    }\n",
       "\n",
       "    .dataframe thead tr:last-of-type th {\n",
       "        text-align: right;\n",
       "    }\n",
       "</style>\n",
       "<table border=\"1\" class=\"dataframe\">\n",
       "  <thead>\n",
       "    <tr>\n",
       "      <th></th>\n",
       "      <th colspan=\"2\" halign=\"left\">acc</th>\n",
       "      <th colspan=\"2\" halign=\"left\">train_time</th>\n",
       "      <th colspan=\"2\" halign=\"left\">test_time</th>\n",
       "    </tr>\n",
       "    <tr>\n",
       "      <th></th>\n",
       "      <th>mean</th>\n",
       "      <th>std</th>\n",
       "      <th>mean</th>\n",
       "      <th>std</th>\n",
       "      <th>mean</th>\n",
       "      <th>std</th>\n",
       "    </tr>\n",
       "    <tr>\n",
       "      <th>epochs</th>\n",
       "      <th></th>\n",
       "      <th></th>\n",
       "      <th></th>\n",
       "      <th></th>\n",
       "      <th></th>\n",
       "      <th></th>\n",
       "    </tr>\n",
       "  </thead>\n",
       "  <tbody>\n",
       "    <tr>\n",
       "      <th>1</th>\n",
       "      <td>0.97437</td>\n",
       "      <td>0.005867</td>\n",
       "      <td>12.261104</td>\n",
       "      <td>0.189363</td>\n",
       "      <td>0.0</td>\n",
       "      <td>0.0</td>\n",
       "    </tr>\n",
       "    <tr>\n",
       "      <th>2</th>\n",
       "      <td>0.97635</td>\n",
       "      <td>0.002448</td>\n",
       "      <td>35.488396</td>\n",
       "      <td>6.903013</td>\n",
       "      <td>0.0</td>\n",
       "      <td>0.0</td>\n",
       "    </tr>\n",
       "    <tr>\n",
       "      <th>3</th>\n",
       "      <td>0.97229</td>\n",
       "      <td>0.005034</td>\n",
       "      <td>61.873547</td>\n",
       "      <td>0.403400</td>\n",
       "      <td>0.0</td>\n",
       "      <td>0.0</td>\n",
       "    </tr>\n",
       "  </tbody>\n",
       "</table>\n",
       "</div>"
      ],
      "text/plain": [
       "            acc           train_time           test_time     \n",
       "           mean       std       mean       std      mean  std\n",
       "epochs                                                       \n",
       "1       0.97437  0.005867  12.261104  0.189363       0.0  0.0\n",
       "2       0.97635  0.002448  35.488396  6.903013       0.0  0.0\n",
       "3       0.97229  0.005034  61.873547  0.403400       0.0  0.0"
      ]
     },
     "execution_count": 4,
     "metadata": {},
     "output_type": "execute_result"
    }
   ],
   "source": [
    "iter_proc_df = iter_results_df.drop(columns=['seed']).groupby('epochs').agg([np.mean,np.std])\n",
    "iter_proc_df"
   ]
  },
  {
   "cell_type": "code",
   "execution_count": 5,
   "id": "a4c16662",
   "metadata": {},
   "outputs": [
    {
     "name": "stderr",
     "output_type": "stream",
     "text": [
      "/var/folders/mr/vnkbxhh151s11m2mmshdgq080000gn/T/ipykernel_34364/3688787180.py:1: FutureWarning: ['name'] did not aggregate successfully. If any error is raised this will raise in a future version of pandas. Drop these columns/ops to avoid this warning.\n",
      "  results_proc_df = results_df.drop(columns=['seed']).groupby('weight_init').agg([np.mean, np.std])\n"
     ]
    },
    {
     "data": {
      "text/html": [
       "<div>\n",
       "<style scoped>\n",
       "    .dataframe tbody tr th:only-of-type {\n",
       "        vertical-align: middle;\n",
       "    }\n",
       "\n",
       "    .dataframe tbody tr th {\n",
       "        vertical-align: top;\n",
       "    }\n",
       "\n",
       "    .dataframe thead tr th {\n",
       "        text-align: left;\n",
       "    }\n",
       "\n",
       "    .dataframe thead tr:last-of-type th {\n",
       "        text-align: right;\n",
       "    }\n",
       "</style>\n",
       "<table border=\"1\" class=\"dataframe\">\n",
       "  <thead>\n",
       "    <tr>\n",
       "      <th></th>\n",
       "      <th colspan=\"2\" halign=\"left\">acc</th>\n",
       "      <th colspan=\"2\" halign=\"left\">train_time</th>\n",
       "      <th colspan=\"2\" halign=\"left\">test_time</th>\n",
       "    </tr>\n",
       "    <tr>\n",
       "      <th></th>\n",
       "      <th>mean</th>\n",
       "      <th>std</th>\n",
       "      <th>mean</th>\n",
       "      <th>std</th>\n",
       "      <th>mean</th>\n",
       "      <th>std</th>\n",
       "    </tr>\n",
       "    <tr>\n",
       "      <th>weight_init</th>\n",
       "      <th></th>\n",
       "      <th></th>\n",
       "      <th></th>\n",
       "      <th></th>\n",
       "      <th></th>\n",
       "      <th></th>\n",
       "    </tr>\n",
       "  </thead>\n",
       "  <tbody>\n",
       "    <tr>\n",
       "      <th>ortho_ran</th>\n",
       "      <td>0.96934</td>\n",
       "      <td>0.002420</td>\n",
       "      <td>7.064206</td>\n",
       "      <td>0.204114</td>\n",
       "      <td>0.309163</td>\n",
       "      <td>0.006246</td>\n",
       "    </tr>\n",
       "    <tr>\n",
       "      <th>pre_train</th>\n",
       "      <td>0.97870</td>\n",
       "      <td>0.001270</td>\n",
       "      <td>7.155561</td>\n",
       "      <td>0.232746</td>\n",
       "      <td>0.315864</td>\n",
       "      <td>0.014469</td>\n",
       "    </tr>\n",
       "    <tr>\n",
       "      <th>ran</th>\n",
       "      <td>0.97080</td>\n",
       "      <td>0.001545</td>\n",
       "      <td>7.136264</td>\n",
       "      <td>0.675113</td>\n",
       "      <td>0.306654</td>\n",
       "      <td>0.004647</td>\n",
       "    </tr>\n",
       "  </tbody>\n",
       "</table>\n",
       "</div>"
      ],
      "text/plain": [
       "                 acc           train_time           test_time          \n",
       "                mean       std       mean       std      mean       std\n",
       "weight_init                                                            \n",
       "ortho_ran    0.96934  0.002420   7.064206  0.204114  0.309163  0.006246\n",
       "pre_train    0.97870  0.001270   7.155561  0.232746  0.315864  0.014469\n",
       "ran          0.97080  0.001545   7.136264  0.675113  0.306654  0.004647"
      ]
     },
     "execution_count": 5,
     "metadata": {},
     "output_type": "execute_result"
    }
   ],
   "source": [
    "results_proc_df = results_df.drop(columns=['seed']).groupby('weight_init').agg([np.mean, np.std])\n",
    "results_proc_df"
   ]
  },
  {
   "cell_type": "code",
   "execution_count": 29,
   "id": "2f7980d6",
   "metadata": {},
   "outputs": [
    {
     "data": {
      "text/plain": [
       "(0.95, 0.99)"
      ]
     },
     "execution_count": 29,
     "metadata": {},
     "output_type": "execute_result"
    },
    {
     "data": {
      "image/png": "[encoded data removed]",
      "text/plain": [
       "<Figure size 432x288 with 1 Axes>"
      ]
     },
     "metadata": {
      "needs_background": "light"
     },
     "output_type": "display_data"
    }
   ],
   "source": [
    "x = [*results_proc_df['acc']['mean'], 0.97635]\n",
    "y = results_proc_df['train_time']['mean']\n",
    "error = [*results_proc_df['acc']['std'], 0.002448]\n",
    "labels = ['ortho_ran', 'pre_train', 'ran', 'iter']\n",
    "\n",
    "plt.bar(labels, x, yerr=error)\n",
    "plt.ylim((.95,.99))\n"
   ]
  },
  {
   "cell_type": "code",
   "execution_count": 40,
   "id": "5e44bc70",
   "metadata": {},
   "outputs": [],
   "source": [
    "l1 = torch.load('../raw/mnist_lenet_weights/213-1.pth')\n",
    "l2 = torch.load('../raw/mnist_lenet_weights/213-2.pth')"
   ]
  },
  {
   "cell_type": "code",
   "execution_count": 72,
   "id": "7c1e55e4",
   "metadata": {},
   "outputs": [
    {
     "data": {
      "text/plain": [
       "<matplotlib.colorbar.Colorbar at 0x1531f7760>"
      ]
     },
     "execution_count": 72,
     "metadata": {},
     "output_type": "execute_result"
    },
    {
     "data": {
      "image/png": "[encoded data removed]",
      "text/plain": [
       "<Figure size 432x288 with 2 Axes>"
      ]
     },
     "metadata": {
      "needs_background": "light"
     },
     "output_type": "display_data"
    }
   ],
   "source": [
    "plt.imshow(np.squeeze(l1['weight'][2]), cmap='gray', interpolation='nearest')\n",
    "\n",
    "plt.colorbar()"
   ]
  }
 ],
 "metadata": {
  "kernelspec": {
   "display_name": "Python 3 (ipykernel)",
   "language": "python",
   "name": "python3"
  },
  "language_info": {
   "codemirror_mode": {
    "name": "ipython",
    "version": 3
   },
   "file_extension": ".py",
   "mimetype": "text/x-python",
   "name": "python",
   "nbconvert_exporter": "python",
   "pygments_lexer": "ipython3",
   "version": "3.9.5"
  }
 },
 "nbformat": 4,
 "nbformat_minor": 5
}

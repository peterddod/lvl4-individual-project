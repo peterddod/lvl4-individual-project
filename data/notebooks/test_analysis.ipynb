{
 "cells": [
  {
   "cell_type": "code",
   "execution_count": 39,
   "id": "444f704a",
   "metadata": {},
   "outputs": [],
   "source": [
    "import pylab as plt\n",
    "import pandas as pd\n",
    "import numpy as np"
   ]
  },
  {
   "cell_type": "code",
   "execution_count": 40,
   "id": "2c4cb70f",
   "metadata": {},
   "outputs": [],
   "source": [
    "results_df = pd.read_csv('../raw/LOCAL_lenet_mnist_tests.csv')\n",
    "results_df.columns = results_df.columns.str.strip()"
   ]
  },
  {
   "cell_type": "code",
   "execution_count": 41,
   "id": "5f79102b",
   "metadata": {},
   "outputs": [
    {
     "name": "stdout",
     "output_type": "stream",
     "text": [
      "               name              parameters  neurons weight_train  seed  \\\n",
      "0      lenet-ae-elm             h_size:250;      250         True    22   \n",
      "1      lenet-ae-elm             h_size:250;      250        False    22   \n",
      "2      lenet-ae-elm             h_size:250;      250         True   432   \n",
      "3      lenet-ae-elm             h_size:250;      250        False   432   \n",
      "4      lenet-ae-elm             h_size:250;      250         True    63   \n",
      "..              ...                     ...      ...          ...   ...   \n",
      "841  lenet-pae-rvfl  h_size:1200;subnets:6;     1200        False    22   \n",
      "842  lenet-pae-rvfl  h_size:1200;subnets:6;     1200         True   432   \n",
      "843  lenet-pae-rvfl  h_size:1200;subnets:6;     1200        False   432   \n",
      "844  lenet-pae-rvfl  h_size:1200;subnets:6;     1200         True    63   \n",
      "845  lenet-pae-rvfl  h_size:1200;subnets:6;     1200        False    63   \n",
      "\n",
      "        acc  train_time  test_time  \n",
      "0    0.9342   29.736599   0.291504  \n",
      "1    0.9209    2.466301   0.297017  \n",
      "2    0.9393   29.329725   0.293357  \n",
      "3    0.9369    2.467105   0.299035  \n",
      "4    0.9347   29.923113   0.294118  \n",
      "..      ...         ...        ...  \n",
      "841  0.1578   95.269957   1.659320  \n",
      "842  0.0892  121.667037   1.416409  \n",
      "843  0.1082   94.880866   1.413404  \n",
      "844  0.1421  120.724463   1.424395  \n",
      "845  0.1028   95.004119   1.416032  \n",
      "\n",
      "[846 rows x 8 columns]\n"
     ]
    }
   ],
   "source": [
    "print(results_df)"
   ]
  },
  {
   "cell_type": "markdown",
   "id": "af3d1121",
   "metadata": {},
   "source": [
    "## LeNet AE-ELM"
   ]
  },
  {
   "cell_type": "code",
   "execution_count": 160,
   "id": "4d11756f",
   "metadata": {
    "scrolled": false
   },
   "outputs": [
    {
     "name": "stdout",
     "output_type": "stream",
     "text": [
      "             acc           train_time           test_time          \n",
      "            mean       std       mean       std      mean       std\n",
      "neurons                                                            \n",
      "250      0.93507  0.003598  29.387098  0.361380  0.304546  0.029503\n",
      "500      0.95484  0.002710  29.898760  0.639193  0.319420  0.025415\n",
      "1000     0.96715  0.002054  33.108989  0.846258  0.334006  0.006516\n",
      "2000     0.97254  0.003966  41.038793  0.248849  0.389592  0.006063\n",
      "4000     0.63080  0.315132  66.855663  0.816755  0.483960  0.009196\n",
      "             acc           train_time           test_time          \n",
      "            mean       std       mean       std      mean       std\n",
      "neurons                                                            \n",
      "250      0.93052  0.005494   2.466676  0.026838  0.303307  0.008306\n",
      "500      0.94767  0.007587   3.307362  0.178187  0.318487  0.006418\n",
      "1000     0.96197  0.004362   6.041967  0.117107  0.343144  0.005046\n",
      "2000     0.97158  0.002909  13.839961  0.088605  0.396142  0.002710\n",
      "4000     0.97624  0.002872  39.709401  0.416459  0.492139  0.011204\n"
     ]
    },
    {
     "name": "stderr",
     "output_type": "stream",
     "text": [
      "/var/folders/mr/vnkbxhh151s11m2mmshdgq080000gn/T/ipykernel_71901/3631109332.py:3: FutureWarning: ['name', 'parameters'] did not aggregate successfully. If any error is raised this will raise in a future version of pandas. Drop these columns/ops to avoid this warning.\n",
      "  ae_elm_wt_df = ae_elm_df[ae_elm_df['weight_train']==' True'].drop(columns=['seed', 'weight_train']).groupby(['neurons']).agg([np.mean,np.std])\n",
      "/var/folders/mr/vnkbxhh151s11m2mmshdgq080000gn/T/ipykernel_71901/3631109332.py:4: FutureWarning: ['name', 'parameters'] did not aggregate successfully. If any error is raised this will raise in a future version of pandas. Drop these columns/ops to avoid this warning.\n",
      "  ae_elm_nowt_df = ae_elm_df[ae_elm_df['weight_train']==' False'].drop(columns=['seed', 'weight_train']).groupby(['neurons']).agg([np.mean,np.std])\n"
     ]
    }
   ],
   "source": [
    "ae_elm_df = results_df[results_df['name']=='lenet-ae-elm']\n",
    "\n",
    "ae_elm_proc_df = ae_elm_df.drop(columns=['seed']).groupby(['neurons', 'weight_train']).agg([np.mean,np.std])\n",
    "ae_elm_wt_df = ae_elm_df[ae_elm_df['weight_train']==' True'].drop(columns=['seed', 'weight_train']).groupby(['neurons']).agg([np.mean,np.std])\n",
    "ae_elm_nowt_df = ae_elm_df[ae_elm_df['weight_train']==' False'].drop(columns=['seed', 'weight_train']).groupby(['neurons']).agg([np.mean,np.std])\n",
    "\n",
    "ae_elm_proc_df.to_csv('../processed/lenet-ae-elm-results.csv')\n",
    "\n",
    "print(ae_elm_wt_df)\n",
    "print(ae_elm_nowt_df)"
   ]
  },
  {
   "cell_type": "code",
   "execution_count": 156,
   "id": "911af19e",
   "metadata": {},
   "outputs": [
    {
     "data": {
      "text/plain": [
       "<matplotlib.legend.Legend at 0x17e499eb0>"
      ]
     },
     "execution_count": 156,
     "metadata": {},
     "output_type": "execute_result"
    },
    {
     "data": {
      "image/png": "[encoded data removed]",
      "text/plain": [
       "<Figure size 432x288 with 1 Axes>"
      ]
     },
     "metadata": {
      "needs_background": "light"
     },
     "output_type": "display_data"
    }
   ],
   "source": [
    "wt_acc_mean = np.array(ae_elm_wt_df['acc']['mean'])*100\n",
    "wt_acc_std = np.array(ae_elm_wt_df['acc']['std'])*100\n",
    "wt_tt_mean = np.array(ae_elm_wt_df['train_time']['mean'])*100\n",
    "wt_tt_std = np.array(ae_elm_wt_df['train_time']['std'])*100\n",
    "nowt_acc_mean = np.array(ae_elm_nowt_df['acc']['mean'])*100\n",
    "nowt_acc_std = np.array(ae_elm_nowt_df['acc']['std'])*100\n",
    "nowt_tt_mean = np.array(ae_elm_nowt_df['train_time']['mean'])*100\n",
    "nowt_tt_std = np.array(ae_elm_nowt_df['train_time']['std'])*100\n",
    "space = np.arange(5)\n",
    "labels = ['250','500','200','2000','4000']\n",
    "\n",
    "\n",
    "plt.title('AE-ELM Accuracy Comparison')\n",
    "plt.xlabel('Neurons')\n",
    "plt.ylabel('Accuracy')\n",
    "plt.grid(which='both', alpha=0.5)\n",
    "plt.bar(space, wt_acc_mean, width=0.25, log=True)\n",
    "plt.bar(space+0.25, nowt_acc_mean, width=0.25, log=True)\n",
    "plt.xticks(space+0.125, labels)\n",
    "plt.legend(['Weight Trained', 'Not'])"
   ]
  },
  {
   "cell_type": "markdown",
   "id": "1017c4d1",
   "metadata": {},
   "source": [
    "## LeNet ELM"
   ]
  },
  {
   "cell_type": "code",
   "execution_count": 159,
   "id": "e22bff8e",
   "metadata": {},
   "outputs": [
    {
     "name": "stdout",
     "output_type": "stream",
     "text": [
      "                          acc            train_time           test_time  \\\n",
      "                         mean       std        mean       std      mean   \n",
      "neurons weight_train                                                      \n",
      "250      False        0.88445  0.007159    6.934454  0.152749  0.293416   \n",
      "         True         0.87320  0.009790   33.200530  0.407439  0.297469   \n",
      "500      False        0.92060  0.008100   12.118251  0.027202  0.307155   \n",
      "         True         0.90727  0.004787   38.264721  0.252884  0.300713   \n",
      "1000     False        0.94288  0.003567   22.812428  0.144719  0.328107   \n",
      "         True         0.93008  0.005049   49.084462  0.234346  0.322667   \n",
      "2000     False        0.95805  0.001945   44.972939  0.068600  0.372708   \n",
      "         True         0.94617  0.003011   71.293840  0.358365  0.361780   \n",
      "4000     False        0.96627  0.002088   91.391371  0.349775  0.455377   \n",
      "         True         0.95611  0.002837  117.579491  0.444783  0.465675   \n",
      "\n",
      "                                \n",
      "                           std  \n",
      "neurons weight_train            \n",
      "250      False        0.002149  \n",
      "         True         0.024600  \n",
      "500      False        0.004884  \n",
      "         True         0.006674  \n",
      "1000     False        0.003177  \n",
      "         True         0.008403  \n",
      "2000     False        0.007452  \n",
      "         True         0.001752  \n",
      "4000     False        0.006026  \n",
      "         True         0.017299  \n"
     ]
    },
    {
     "name": "stderr",
     "output_type": "stream",
     "text": [
      "/var/folders/mr/vnkbxhh151s11m2mmshdgq080000gn/T/ipykernel_71901/3805209662.py:3: FutureWarning: ['name', 'parameters'] did not aggregate successfully. If any error is raised this will raise in a future version of pandas. Drop these columns/ops to avoid this warning.\n",
      "  elm_proc_df = elm_df.drop(columns=['seed']).groupby(['neurons', 'weight_train']).agg([np.mean,np.std])\n"
     ]
    }
   ],
   "source": [
    "elm_df = results_df[results_df['name']=='lenet-elm']\n",
    "\n",
    "elm_proc_df = elm_df.drop(columns=['seed']).groupby(['neurons', 'weight_train']).agg([np.mean,np.std])\n",
    "\n",
    "elm_proc_df.to_csv('../processed/lenet-elm-results.csv')\n",
    "\n",
    "print(elm_proc_df)"
   ]
  },
  {
   "cell_type": "markdown",
   "id": "f51e10c4",
   "metadata": {},
   "source": [
    "## LeNet PAE-RVFL"
   ]
  },
  {
   "cell_type": "code",
   "execution_count": 161,
   "id": "095edd58",
   "metadata": {},
   "outputs": [
    {
     "name": "stdout",
     "output_type": "stream",
     "text": [
      "                                         acc           train_time            \\\n",
      "                                        mean       std       mean       std   \n",
      "parameters             weight_train                                           \n",
      "h_size:600;subnets:10;  False        0.97953  0.001967  57.607172  0.395081   \n",
      "                        True         0.61703  0.299957  84.869089  1.153652   \n",
      "h_size:600;subnets:1;   False        0.95784  0.003237   6.071595  0.099253   \n",
      "                        True         0.96290  0.001799  33.166553  0.499926   \n",
      "h_size:600;subnets:2;   False        0.96701  0.003160  11.204175  0.701616   \n",
      "                        True         0.92311  0.102881  38.420304  0.397974   \n",
      "h_size:600;subnets:3;   False        0.97121  0.002217  15.882220  0.320272   \n",
      "                        True         0.96820  0.004872  43.137117  0.557180   \n",
      "h_size:600;subnets:4;   False        0.97389  0.002183  20.966055  0.168482   \n",
      "                        True         0.81636  0.272600  48.341616  1.036485   \n",
      "h_size:600;subnets:6;   False        0.97611  0.001338  33.826819  0.452732   \n",
      "                        True         0.63546  0.430472  61.698165  1.312553   \n",
      "h_size:600;subnets:8;   False        0.97856  0.002097  46.339683  0.984376   \n",
      "                        True         0.66485  0.285561  73.161485  1.663285   \n",
      "\n",
      "                                    test_time            \n",
      "                                         mean       std  \n",
      "parameters             weight_train                      \n",
      "h_size:600;subnets:10;  False        1.103051  0.009772  \n",
      "                        True         1.097587  0.010583  \n",
      "h_size:600;subnets:1;   False        0.357663  0.012747  \n",
      "                        True         0.357687  0.035476  \n",
      "h_size:600;subnets:2;   False        0.452544  0.045394  \n",
      "                        True         0.426003  0.007026  \n",
      "h_size:600;subnets:3;   False        0.496810  0.013304  \n",
      "                        True         0.493818  0.009724  \n",
      "h_size:600;subnets:4;   False        0.570363  0.007459  \n",
      "                        True         0.559221  0.004865  \n",
      "h_size:600;subnets:6;   False        0.787883  0.008396  \n",
      "                        True         0.807626  0.068613  \n",
      "h_size:600;subnets:8;   False        0.946351  0.010775  \n",
      "                        True         0.944565  0.027337  \n"
     ]
    },
    {
     "name": "stderr",
     "output_type": "stream",
     "text": [
      "/var/folders/mr/vnkbxhh151s11m2mmshdgq080000gn/T/ipykernel_71901/3132463091.py:3: FutureWarning: ['name'] did not aggregate successfully. If any error is raised this will raise in a future version of pandas. Drop these columns/ops to avoid this warning.\n",
      "  pae_rvfl_proc_df = pae_rvfl_df[pae_rvfl_df['neurons']==600].drop(columns=['seed', 'neurons']).groupby(['parameters', 'weight_train']).agg([np.mean,np.std])\n"
     ]
    }
   ],
   "source": [
    "pae_rvfl_df = results_df[results_df['name']=='lenet-pae-rvfl']\n",
    "\n",
    "pae_rvfl_proc_df = pae_rvfl_df[pae_rvfl_df['neurons']==600].drop(columns=['seed', 'neurons']).groupby(['parameters', 'weight_train']).agg([np.mean,np.std])\n",
    "pae_rvfl_proc_df.to_csv('../processed/lenet-pae-rvfl-600-results.csv')\n",
    "\n",
    "print(pae_rvfl_proc_df)"
   ]
  }
 ],
 "metadata": {
  "kernelspec": {
   "display_name": "Python 3 (ipykernel)",
   "language": "python",
   "name": "python3"
  },
  "language_info": {
   "codemirror_mode": {
    "name": "ipython",
    "version": 3
   },
   "file_extension": ".py",
   "mimetype": "text/x-python",
   "name": "python",
   "nbconvert_exporter": "python",
   "pygments_lexer": "ipython3",
   "version": "3.9.5"
  }
 },
 "nbformat": 4,
 "nbformat_minor": 5
}
